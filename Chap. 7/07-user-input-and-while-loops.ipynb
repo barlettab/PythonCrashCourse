{
 "cells": [
  {
   "cell_type": "markdown",
   "id": "4b15a84d-c848-41be-9554-804873bba3a6",
   "metadata": {},
   "source": [
    "# Python Crash Course\n",
    "## Chapter 7 - User Input and While Loops"
   ]
  },
  {
   "cell_type": "markdown",
   "id": "83e182e2-c3f9-4655-a7e1-6ef09e20340c",
   "metadata": {},
   "source": [
    "### How the `input()` Function Works  \n",
    "- The `input()` function pauses your program and waits for the user to enter\r\n",
    "some text. Once Python receives the user’s input, it stores it in a variable to\r\n",
    "make it convenient for you to work wit  \n",
    "- When you use the `input()` function, Python interprets everything the user\r\n",
    "enters as a strin.gh."
   ]
  },
  {
   "cell_type": "code",
   "execution_count": 3,
   "id": "f34a8cd8-e9a2-44fb-b0b4-713c38a92c70",
   "metadata": {},
   "outputs": [
    {
     "name": "stdin",
     "output_type": "stream",
     "text": [
      "Tell me something, and I will repeat it back to you:  Hello everyone!\n"
     ]
    },
    {
     "name": "stdout",
     "output_type": "stream",
     "text": [
      "Hello everyone!\n"
     ]
    }
   ],
   "source": [
    "# parrot.py - Example 1\n",
    "message = input(\"Tell me something, and I will repeat it back to you: \")\n",
    "print(message)"
   ]
  },
  {
   "cell_type": "code",
   "execution_count": 2,
   "id": "61951ac0-9cb2-41d6-a09f-9065b6aa7e33",
   "metadata": {},
   "outputs": [
    {
     "name": "stdin",
     "output_type": "stream",
     "text": [
      "Please enter your name:  Eric\n"
     ]
    },
    {
     "name": "stdout",
     "output_type": "stream",
     "text": [
      "Hello, Eric!\n"
     ]
    }
   ],
   "source": [
    "# greeter.py - Example 1\n",
    "name = input(\"Please enter your name: \")\n",
    "print(\"Hello, \" + name + \"!\")"
   ]
  },
  {
   "cell_type": "code",
   "execution_count": 4,
   "id": "61e48631-d974-4c81-8ddf-5f7181423971",
   "metadata": {},
   "outputs": [
    {
     "name": "stdin",
     "output_type": "stream",
     "text": [
      "If you tell us who you are, we can personalize the messages you see.\n",
      "What is your first name?  Eric\n"
     ]
    },
    {
     "name": "stdout",
     "output_type": "stream",
     "text": [
      "\n",
      "Hello, Eric!\n"
     ]
    }
   ],
   "source": [
    "# greeter.py - Example 2\n",
    "prompt = \"If you tell us who you are, we can personalize the messages you see.\"\n",
    "prompt += \"\\nWhat is your first name? \"\n",
    "\n",
    "name = input(prompt)\n",
    "print(\"\\nHello, \" + name + \"!\")"
   ]
  },
  {
   "cell_type": "markdown",
   "id": "3a48c90a-8eb6-462c-a40a-176306cea9f8",
   "metadata": {},
   "source": [
    "#### Using `int()` to Accept Numerical Input"
   ]
  },
  {
   "cell_type": "code",
   "execution_count": 8,
   "id": "4e5a813f-88e8-4bea-a651-68b8f5fa304d",
   "metadata": {},
   "outputs": [
    {
     "name": "stdin",
     "output_type": "stream",
     "text": [
      "How old are you? 21\n"
     ]
    },
    {
     "name": "stdout",
     "output_type": "stream",
     "text": [
      "<class 'str'>\n"
     ]
    }
   ],
   "source": [
    "age = input(\"How old are you? \")\n",
    "print(type(age))"
   ]
  },
  {
   "cell_type": "code",
   "execution_count": 9,
   "id": "079045fa-a664-46e2-8bbb-ade671d8076c",
   "metadata": {},
   "outputs": [
    {
     "name": "stdin",
     "output_type": "stream",
     "text": [
      "How old are you?  21\n"
     ]
    },
    {
     "data": {
      "text/plain": [
       "True"
      ]
     },
     "execution_count": 9,
     "metadata": {},
     "output_type": "execute_result"
    }
   ],
   "source": [
    "age = input(\"How old are you? \")\n",
    "age = int(age)\n",
    "age >= 18"
   ]
  },
  {
   "cell_type": "code",
   "execution_count": 10,
   "id": "a05bde9b-3c20-4e4f-9ffd-94f4d0c95246",
   "metadata": {},
   "outputs": [
    {
     "name": "stdin",
     "output_type": "stream",
     "text": [
      "How tall are you, in inches?  71\n"
     ]
    },
    {
     "name": "stdout",
     "output_type": "stream",
     "text": [
      "\n",
      "You're tall enough to ride!\n"
     ]
    }
   ],
   "source": [
    "# rollercoster.py\n",
    "\n",
    "height = int(input(\"How tall are you, in inches? \"))\n",
    "if height >= 36:\n",
    "    print(\"\\nYou're tall enough to ride!\")\n",
    "else:\n",
    "    print(\"\\nYou'll be able to ride when you're a little older.\")\n"
   ]
  },
  {
   "cell_type": "markdown",
   "id": "5d457f8c-05f2-4f61-a524-a690ee506709",
   "metadata": {},
   "source": [
    "### The modulo operator (%)\n",
    "The modulo operator doesn’t tell you how many times one number fits\r\n",
    "into another; it just tells you what the remainder is.\r\n",
    "When one number is divisible by another number, the remainder is 0,\r\n",
    "so the modulo operator always returns 0."
   ]
  },
  {
   "cell_type": "code",
   "execution_count": 12,
   "id": "52bb2661-9a64-42c7-a04e-fbae30c76285",
   "metadata": {},
   "outputs": [
    {
     "name": "stdin",
     "output_type": "stream",
     "text": [
      "Enter a number, and I'll tell you if it's even or odd:  42\n"
     ]
    },
    {
     "name": "stdout",
     "output_type": "stream",
     "text": [
      "\n",
      "The number 42 is even.\n"
     ]
    }
   ],
   "source": [
    "# even_or_odd.py\n",
    "number = int(input(\"Enter a number, and I'll tell you if it's even or odd: \"))\n",
    "if number % 2 == 0:\n",
    "    print(\"\\nThe number \" + str(number) + \" is even.\")\n",
    "else:\n",
    "    print(\"\\nThe number \" + str(number) + \" is odd.\")"
   ]
  },
  {
   "cell_type": "markdown",
   "id": "58b9b3c7-5367-4c45-b58c-19a877feabc6",
   "metadata": {},
   "source": [
    "### Introducing While Loops\n",
    "The for loop takes a collection of items and executes a block of code once\r\n",
    "for each item in the collection. In contrast, the while loop runs as long as,\r\n",
    "or while, a certain condition is true. "
   ]
  },
  {
   "cell_type": "code",
   "execution_count": 13,
   "id": "c3437d16-7219-498e-a0a1-b65340af1718",
   "metadata": {},
   "outputs": [
    {
     "name": "stdout",
     "output_type": "stream",
     "text": [
      "1\n",
      "2\n",
      "3\n",
      "4\n",
      "5\n"
     ]
    }
   ],
   "source": [
    "# counting.py - Example 1\n",
    "current_number = 1\n",
    "while current_number <= 5:\n",
    "    print(current_number)\n",
    "    current_number += 1"
   ]
  },
  {
   "cell_type": "markdown",
   "id": "87ed780c-967b-4c27-aff4-0398dd2fe715",
   "metadata": {},
   "source": [
    "Let's understand...  \n",
    "In counting.py Python repeats the loop as long as the condition current_number <= 5\n",
    "is true. Because 1 is less than 5, Python prints 1 and then adds 1, making the current number 2. Because 2 is less than 5, Python prints 2\n",
    "and adds 1 again, making the current number 3, and so on. Once the\n",
    "value of current_number is greater than 5, the loop stops running and the\n",
    "program ends."
   ]
  },
  {
   "cell_type": "markdown",
   "id": "948ed7e2-4947-4f72-a1ad-5dcc98691df6",
   "metadata": {},
   "source": [
    "#### Letting the User Choose When to Quit"
   ]
  },
  {
   "cell_type": "code",
   "execution_count": 17,
   "id": "5a0e82c6-5fc9-4221-b716-533f3d7e4200",
   "metadata": {},
   "outputs": [
    {
     "name": "stdin",
     "output_type": "stream",
     "text": [
      "\n",
      "Tell me something, and I will repeat it back to you: \n",
      "Enter 'quit' to end the program.  Hello everyone.\n"
     ]
    },
    {
     "name": "stdout",
     "output_type": "stream",
     "text": [
      "Hello everyone.\n"
     ]
    },
    {
     "name": "stdin",
     "output_type": "stream",
     "text": [
      "\n",
      "Tell me something, and I will repeat it back to you: \n",
      "Enter 'quit' to end the program.  Hello again\n"
     ]
    },
    {
     "name": "stdout",
     "output_type": "stream",
     "text": [
      "Hello again\n"
     ]
    },
    {
     "name": "stdin",
     "output_type": "stream",
     "text": [
      "\n",
      "Tell me something, and I will repeat it back to you: \n",
      "Enter 'quit' to end the program.  quit\n"
     ]
    }
   ],
   "source": [
    "#parrot.py - Example 2\n",
    "prompt = \"\\nTell me something, and I will repeat it back to you: \"\n",
    "prompt += \"\\nEnter 'quit' to end the program. \"\n",
    "\n",
    "message = \"\"\n",
    "while message != 'quit':\n",
    "    message = input(prompt)\n",
    "    \n",
    "    if message != 'quit':\n",
    "        print(message)"
   ]
  },
  {
   "cell_type": "markdown",
   "id": "d42df190-9f9d-46da-80ec-3c81ce63972c",
   "metadata": {},
   "source": [
    "#### Using a flag"
   ]
  },
  {
   "cell_type": "code",
   "execution_count": 19,
   "id": "f9b8cef8-f4e9-49cb-90af-e166c6355538",
   "metadata": {},
   "outputs": [
    {
     "name": "stdin",
     "output_type": "stream",
     "text": [
      "\n",
      "Tell me something, and I will repeat it back to you: \n",
      "Enter 'quit' to end the program.  Hello everyone!\n"
     ]
    },
    {
     "name": "stdout",
     "output_type": "stream",
     "text": [
      "Hello everyone!\n"
     ]
    },
    {
     "name": "stdin",
     "output_type": "stream",
     "text": [
      "\n",
      "Tell me something, and I will repeat it back to you: \n",
      "Enter 'quit' to end the program.  Hello again.\n"
     ]
    },
    {
     "name": "stdout",
     "output_type": "stream",
     "text": [
      "Hello again.\n"
     ]
    },
    {
     "name": "stdin",
     "output_type": "stream",
     "text": [
      "\n",
      "Tell me something, and I will repeat it back to you: \n",
      "Enter 'quit' to end the program.  quit\n"
     ]
    }
   ],
   "source": [
    "# parrot.py - Example 3\n",
    "prompt = \"\\nTell me something, and I will repeat it back to you: \"\n",
    "prompt += \"\\nEnter 'quit' to end the program. \"\n",
    "\n",
    "active = True\n",
    "while active:\n",
    "    message = input(prompt)\n",
    "    \n",
    "    if message == 'quit':\n",
    "        active = False\n",
    "    else:\n",
    "        print(message)"
   ]
  },
  {
   "cell_type": "markdown",
   "id": "153b5ecc-3ccb-4ca7-8309-0627f349e67a",
   "metadata": {},
   "source": [
    "#### Using break to Exit a Loop   \n",
    "To exit a while loop immediately without running any remaining code in the\r\n",
    "loop, regardless of the results of any conditional test, use the` brea`k statement.\r\n",
    "The break statement directs the flow of your program; you can use it to control which lines of code are executed and which aren’t, so the program only\r\n",
    "executes code that you want it to, when you want it to."
   ]
  },
  {
   "cell_type": "code",
   "execution_count": 20,
   "id": "4938a1ec-72e6-48e5-bc37-46728a584ffd",
   "metadata": {},
   "outputs": [
    {
     "name": "stdin",
     "output_type": "stream",
     "text": [
      "\n",
      "Please enter the name of a city you have visited: \n",
      "(Enter 'quit' when you are finished.)  New York\n"
     ]
    },
    {
     "name": "stdout",
     "output_type": "stream",
     "text": [
      "I'd love to go to New York!\n"
     ]
    },
    {
     "name": "stdin",
     "output_type": "stream",
     "text": [
      "\n",
      "Please enter the name of a city you have visited: \n",
      "(Enter 'quit' when you are finished.)  San Francisco\n"
     ]
    },
    {
     "name": "stdout",
     "output_type": "stream",
     "text": [
      "I'd love to go to San Francisco!\n"
     ]
    },
    {
     "name": "stdin",
     "output_type": "stream",
     "text": [
      "\n",
      "Please enter the name of a city you have visited: \n",
      "(Enter 'quit' when you are finished.)  quit\n"
     ]
    }
   ],
   "source": [
    "# cities.py\n",
    "prompt = \"\\nPlease enter the name of a city you have visited: \"\n",
    "prompt += \"\\n(Enter 'quit' when you are finished.) \"\n",
    "\n",
    "while True:\n",
    "    city = input(prompt)\n",
    "    if city == 'quit':\n",
    "        break\n",
    "    else: \n",
    "        print(\"I'd love to go to \" + city.title() + \"!\")"
   ]
  },
  {
   "cell_type": "markdown",
   "id": "949a138b-30ac-40c8-9f64-2ea9cf1e7141",
   "metadata": {},
   "source": [
    "#### Using continue in a Loop\n",
    "Rather than breaking out of a loop entirely without executing the rest of its\r\n",
    "code, you can use the` continu`e statement to return to the beginning of the\r\n",
    "loop based on the result of a conditional test."
   ]
  },
  {
   "cell_type": "code",
   "execution_count": 21,
   "id": "9d62d804-ae75-4f69-85a7-6e2d9ac13cb2",
   "metadata": {},
   "outputs": [
    {
     "name": "stdout",
     "output_type": "stream",
     "text": [
      "1\n",
      "3\n",
      "5\n",
      "7\n",
      "9\n"
     ]
    }
   ],
   "source": [
    "# counting.py - Example 2\n",
    "current_number = 0\n",
    "while current_number < 10:\n",
    "    current_number += 1\n",
    "    if current_number % 2 == 0:\n",
    "        continue\n",
    "\n",
    "    print(current_number)"
   ]
  },
  {
   "cell_type": "markdown",
   "id": "6679ce1b-af96-4d75-80cb-b595eccc8c73",
   "metadata": {},
   "source": [
    "First we set current_number to 0. Because it’s less than 10, Python\n",
    "enters the while loop. Once inside the loop, we increment the count by 1\n",
    "at u, so current_number is 1. The if statement then checks the modulo of\n",
    "current_number and 2. If the modulo is 0 (which means current_number is\n",
    "divisible by 2), the continue statement tells Python to ignore the rest of\n",
    "the loop and return to the beginning. If the current number is not divisible by 2, the rest of the loop is executed and Python prints the current\n",
    "number."
   ]
  },
  {
   "cell_type": "markdown",
   "id": "32508ccc-6f14-47fa-ac34-2b1b60560435",
   "metadata": {},
   "source": [
    "#### Avoiding Infinite Loops\n",
    "Every while loop needs a way to stop running so it won’t continue to run forever."
   ]
  },
  {
   "cell_type": "code",
   "execution_count": 22,
   "id": "74b90cf7-e5b0-4737-9e0e-c0885263dc2e",
   "metadata": {},
   "outputs": [
    {
     "name": "stdout",
     "output_type": "stream",
     "text": [
      "1\n",
      "2\n",
      "3\n",
      "4\n",
      "5\n"
     ]
    }
   ],
   "source": [
    "# counting.py\n",
    "x = 1\n",
    "while x <= 5:\n",
    "    print(x)\n",
    "    x += 1"
   ]
  },
  {
   "cell_type": "markdown",
   "id": "128c3125-6180-40c1-9c21-46621c10f608",
   "metadata": {},
   "source": [
    "`Observation`: Every programmer accidentally writes an infinite while loop from time\n",
    "to time, especially when a program’s loops have subtle exit conditions. If\n",
    "your program gets stuck in an infinite loop, press ctrl-C or just close the\n",
    "terminal window displaying your program’s output.\n",
    "To avoid writing infinite loops, test every while loop and make sure\n",
    "the loop stops when you expect it to."
   ]
  },
  {
   "cell_type": "markdown",
   "id": "8bb8c3f6-38e2-44ff-8228-36ee20a1d88f",
   "metadata": {},
   "source": [
    "### Using a While Loop with Lists and Dictionaries"
   ]
  },
  {
   "cell_type": "markdown",
   "id": "be0c5ebd-e79b-464f-940d-550be2ecae38",
   "metadata": {},
   "source": [
    "A for loop is effective for looping through a list, but you shouldn’t modify\n",
    "a list inside a for loop because Python will have trouble keeping track of the\n",
    "items in the list. To modify a list as you work through it, use a while loop.\n",
    "Using while loops with lists and dictionaries allows you to collect, store, and\n",
    "organize lots of input to examine and report on later. "
   ]
  },
  {
   "cell_type": "code",
   "execution_count": 24,
   "id": "b13cee71-f241-43f4-9b8d-0174696fecc2",
   "metadata": {},
   "outputs": [
    {
     "name": "stdout",
     "output_type": "stream",
     "text": [
      "Verifying user: Candace\n",
      "Verifying user: Brian\n",
      "Verifying user: Alice\n",
      "\n",
      "The following users have been confirmed:\n",
      "Candace\n",
      "Brian\n",
      "Alice\n"
     ]
    }
   ],
   "source": [
    "# confirmed_users.py\n",
    "\n",
    "# Start with users that need to be verified, \n",
    "# and an empty list to hold confirmed users.\n",
    "\n",
    "unconfirmed_users = ['alice', 'brian', 'candace']\n",
    "confirmed_users = []\n",
    "\n",
    "# Verify each user until there are no more unconfirmed users.\n",
    "# Move each verified user into the list of confirmed users.\n",
    "\n",
    "while unconfirmed_users:\n",
    "    current_user = unconfirmed_users.pop()\n",
    "\n",
    "    print(\"Verifying user: \" + current_user.title())\n",
    "    confirmed_users.append(current_user)\n",
    "\n",
    "# Display all confirmed users.\n",
    "print(\"\\nThe following users have been confirmed:\")\n",
    "for confirmed_user in confirmed_users:\n",
    "    print(confirmed_user.title())"
   ]
  },
  {
   "cell_type": "markdown",
   "id": "d8f03342-fe86-4cd3-a9d3-c3e02cf47b64",
   "metadata": {},
   "source": [
    "We begin with a list of unconfirmed users at (Alice, Brian, and\n",
    "Candace) and an empty list to hold confirmed users. The while loop at\n",
    "runs as long as the list unconfirmed_users is not empty. Within this loop, the\n",
    "`pop()` function at removes unverified users one at a time from the end of\n",
    "unconfirmed_users. Here, because Candace is last in the unconfirmed_users list,\n",
    "her name will be the first to be removed, stored in current_user, and added\n",
    "to the confirmed_users list. Next is Brian, then Alice."
   ]
  },
  {
   "cell_type": "markdown",
   "id": "4a84f3ea-f4e6-44d6-a69b-76bd28d9dcb8",
   "metadata": {},
   "source": [
    "#### Removing All the Instances of Specific Values from a List"
   ]
  },
  {
   "cell_type": "markdown",
   "id": "7f748756-dec8-4388-8ed3-f130547f57bf",
   "metadata": {},
   "source": [
    "In Chapter 3 we used `remove()` to remove a specific value from a list. The\n",
    "remove() function worked because the value we were interested in appeared\n",
    "only once in the list. But what if you want to remove all instances of a value\n",
    "from a list?\n"
   ]
  },
  {
   "cell_type": "code",
   "execution_count": 25,
   "id": "13a93065-e83f-452a-94be-9e61137a33e3",
   "metadata": {},
   "outputs": [
    {
     "name": "stdout",
     "output_type": "stream",
     "text": [
      "['dog', 'cat', 'dog', 'goldfish', 'cat', 'rabbit', 'cat']\n",
      "['dog', 'dog', 'goldfish', 'rabbit']\n"
     ]
    }
   ],
   "source": [
    "# pets.py\n",
    "pets = ['dog', 'cat', 'dog', 'goldfish', 'cat', 'rabbit', 'cat']\n",
    "print(pets)\n",
    "\n",
    "while 'cat' in pets:\n",
    "    pets.remove('cat')\n",
    "print(pets)"
   ]
  },
  {
   "cell_type": "markdown",
   "id": "a8abc421-7be6-4485-b31f-fc4388da786a",
   "metadata": {},
   "source": [
    "We start with a list containing multiple instances of 'cat'. After printing\n",
    "the list, Python enters the while loop because it finds the value 'cat' in the list at least once. Once inside the loop, Python removes the first instance of 'cat',\n",
    "returns to the while line, and then reenters the loop when it finds that 'cat' is\n",
    "still in the list. It removes each instance of 'cat' until the value is no longer in\n",
    "the list, at which point Python exits the loop and prints the list again."
   ]
  },
  {
   "cell_type": "markdown",
   "id": "735994b5-ee36-4481-98c1-e7642233a992",
   "metadata": {},
   "source": [
    "#### Filling a Dictionary with User Input"
   ]
  },
  {
   "cell_type": "code",
   "execution_count": 26,
   "id": "4b87348a-63a1-401d-b405-23d7ca2da802",
   "metadata": {},
   "outputs": [
    {
     "name": "stdin",
     "output_type": "stream",
     "text": [
      "\n",
      "What is your name? Eric\n",
      "Which mountain would you like to climb someda  Denali\n",
      "Would you like to let another person respond? (yes/no)  yes\n",
      "\n",
      "What is your name? Lynn\n",
      "Which mountain would you like to climb someda  Devil's Thumb\n",
      "Would you like to let another person respond? (yes/no)  no\n"
     ]
    },
    {
     "name": "stdout",
     "output_type": "stream",
     "text": [
      "\n",
      "---Poll Results ---\n",
      "Eric would like to climb Denali.\n",
      "Lynn would like to climb Devil's Thumb.\n"
     ]
    }
   ],
   "source": [
    "# mountain_poll.py\n",
    "\n",
    "responses = {}\n",
    "\n",
    "# Set a flag to indicate that polling is active.\n",
    "polling_active = True\n",
    "\n",
    "while polling_active:\n",
    "    # Prompt for the person's name and response.\n",
    "    name = input(\"\\nWhat is your name?\")\n",
    "    response = input(\"Which mountain would you like to climb someda \")\n",
    "\n",
    "    # Store the response in the dictionary:\n",
    "    responses[name] = response\n",
    "\n",
    "    # Find out if anyone else is going to take the poll\n",
    "    repeat = input(\"Would you like to let another person respond? (yes/no) \")\n",
    "    if repeat == 'no':\n",
    "        polling_active = False\n",
    "\n",
    "# Polling is complete. Show the results.\n",
    "print(\"\\n---Poll Results ---\")\n",
    "for name, response in responses.items():\n",
    "    print(name + \" would like to climb \" + response + \".\")"
   ]
  },
  {
   "cell_type": "code",
   "execution_count": null,
   "id": "5f7970e8-20b9-4756-9304-38f077e35f0b",
   "metadata": {},
   "outputs": [],
   "source": []
  }
 ],
 "metadata": {
  "kernelspec": {
   "display_name": "Python 3 (ipykernel)",
   "language": "python",
   "name": "python3"
  },
  "language_info": {
   "codemirror_mode": {
    "name": "ipython",
    "version": 3
   },
   "file_extension": ".py",
   "mimetype": "text/x-python",
   "name": "python",
   "nbconvert_exporter": "python",
   "pygments_lexer": "ipython3",
   "version": "3.12.4"
  }
 },
 "nbformat": 4,
 "nbformat_minor": 5
}
