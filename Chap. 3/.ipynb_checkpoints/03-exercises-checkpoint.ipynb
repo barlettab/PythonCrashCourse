{
 "cells": [
  {
   "cell_type": "markdown",
   "id": "d922b00b-acda-4109-a1c9-6764fb8e0d04",
   "metadata": {},
   "source": [
    "### 3-1. Names: \n",
    "Store the names of a few of your friends in a list called names. Print each person’s name by accessing each element in the list, one at a time."
   ]
  },
  {
   "cell_type": "markdown",
   "id": "1b18521c-c905-4c64-926d-49e9163ed99c",
   "metadata": {},
   "source": [
    "### 3-2. Greetings: \n",
    "Start with the list you used in Exercise 3-1, but instead of just printing each person’s name, print a message to them. The text of each message should be the same, but each message should be personalized with the person’s name."
   ]
  },
  {
   "cell_type": "markdown",
   "id": "d9dd3307-38bb-4459-95e2-765a59135c16",
   "metadata": {},
   "source": [
    "### 3-3. Your Own List: \n",
    "Think of your favorite mode of transportation, such as a motorcycle or a car, and make a list that stores several examples. Use your list to print a series of statements about these items, such as “I would like to own a Honda motorcycle.”"
   ]
  },
  {
   "cell_type": "markdown",
   "id": "640097ad-a337-4845-ad51-7195d2e0c959",
   "metadata": {},
   "source": [
    "### 3-4. Guest List:\n",
    "If you could invite anyone, living or deceased, to dinner, who would you invite? Make a list that includes at least three people you’d like to invite to dinner. Then use your list to print a message to each person, inviting them to dinner."
   ]
  },
  {
   "cell_type": "markdown",
   "id": "a21296b3-3ed0-4038-a431-3b6043a6a292",
   "metadata": {},
   "source": [
    "### 3-5. Changing Guest List: \n",
    "You just heard that one of your guests can’t make the dinner, so you need to send out a new set of invitations. You’ll have to think of someone else to invite. \n",
    "* Start with your program from Exercise 3-4. Add a print() call at the end of your program, stating the name of the guest who can’t make it. \n",
    "* Modify your list, replacing the name of the guest who can’t make it with the name of the new person you are inviting. \n",
    "* Print a second set of invitation messages, one for each person who is still in your list."
   ]
  },
  {
   "cell_type": "markdown",
   "id": "41b53db9-60a0-4dfe-b8a2-d978746c7a2b",
   "metadata": {},
   "source": [
    "### 3-6. More Guests:\n",
    "You just found a bigger dinner table, so now more space is available. Think of three more guests to invite to dinner. \n",
    "* Start with your program from Exercise 3-4 or 3-5. Add a print() call to the end of your program, informing people that you found a bigger table. \n",
    "* Use insert() to add one new guest to the beginning of your list. \n",
    "* Use insert() to add one new guest to the middle of your list. \n",
    "* Use append() to add one new guest to the end of your list. \n",
    "* Print a new set of invitation messages, one for each person in your list."
   ]
  },
  {
   "cell_type": "markdown",
   "id": "f7274420-5114-46ac-9d4f-b62aeb8b510c",
   "metadata": {},
   "source": [
    "### 3-7. Shrinking Guest List:\n",
    "You just found out that your new dinner table won’t arrive in time for the dinner, and now you have space for only two guests. \n",
    "* Start with your program from Exercise 3-6. Add a new line that prints a message saying that you can invite only two people for dinner. \n",
    "* Use pop() to remove guests from your list one at a time until only two names remain in your list. Each time you pop a name from your list, print a message to that person letting them know you’re sorry you can’t invite them to dinner. \n",
    "* Print a message to each of the two people still on your list, letting them know they’re still invited. \n",
    "* Use del to remove the last two names from your list, so you have an empty list. Print your list to make sure you actually have an empty list at the end of your program."
   ]
  },
  {
   "cell_type": "markdown",
   "id": "59bccad9-149c-4d14-94e6-c054377bbf0e",
   "metadata": {},
   "source": [
    "### 3-8. Seeing the World: \n",
    "Think of at least five places in the world you’d like  to visit. \n",
    "* Store the locations in a list. Make sure the list is not in alphabetical order. \n",
    "* Print your list in its original order. Don’t worry about printing the list neatly; just print it as a raw Python list. \n",
    "* Use sorted() to print your list in alphabetical order without modifying the actual list. \n",
    "* Show that your list is still in its original order by printing it. \n",
    "* Use sorted() to print your list in reverse-alphabetical order without changing the order of the original list. \n",
    "* Show that your list is still in its original order by printing it again. \n",
    "* Use reverse() to change the order of your list. Print the list to show that its order has changed. \n",
    "* Use reverse() to change the order of your list again. Print the list to show it’s back to its original order. \n",
    "* Use sort() to change your list so it’s stored in alphabetical order. Print the list to show that its order has been changed. \n",
    "* Use sort() to change your list so it’s stored in reverse-alphabetical order. Print the list to show that its order has changed."
   ]
  },
  {
   "cell_type": "markdown",
   "id": "a46d53a6-359d-4315-9f6d-acd89221cdcc",
   "metadata": {},
   "source": [
    "### 3-9. Dinner Guests: \n",
    "Working with one of the programs from Exercises 3-4 through 3-7 (pages 41–42), use len() to print a message indicating the number of people you’re inviting to dinner."
   ]
  },
  {
   "cell_type": "markdown",
   "id": "90b001e7-a427-463e-aa7a-7f8da8947de7",
   "metadata": {},
   "source": [
    "### 3-10. Every Function: \n",
    "Think of things you could store in a list. For example, you could make a list of mountains, rivers, countries, cities, languages, or anything else you’d like. Write a program that creates a list containing these items and then uses each function introduced in this chapter at least once."
   ]
  },
  {
   "cell_type": "markdown",
   "id": "0037cc80-a16c-4b36-b5cb-d2c95ab2e619",
   "metadata": {},
   "source": [
    "### 3-11. Intentional Error:\n",
    "If you haven’t received an index error in one of your programs yet, try to make one happen. Change an index in one of your programs to produce an index error. Make sure you correct the error before closing the program."
   ]
  },
  {
   "cell_type": "code",
   "execution_count": null,
   "id": "5a8981c1-e45a-4765-bcc8-b66ae1219ce5",
   "metadata": {},
   "outputs": [],
   "source": []
  }
 ],
 "metadata": {
  "kernelspec": {
   "display_name": "Python 3 (ipykernel)",
   "language": "python",
   "name": "python3"
  },
  "language_info": {
   "codemirror_mode": {
    "name": "ipython",
    "version": 3
   },
   "file_extension": ".py",
   "mimetype": "text/x-python",
   "name": "python",
   "nbconvert_exporter": "python",
   "pygments_lexer": "ipython3",
   "version": "3.12.4"
  }
 },
 "nbformat": 4,
 "nbformat_minor": 5
}
