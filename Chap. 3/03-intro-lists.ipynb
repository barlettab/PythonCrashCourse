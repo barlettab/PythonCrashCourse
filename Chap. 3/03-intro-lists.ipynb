{
 "cells": [
  {
   "cell_type": "markdown",
   "id": "8d737a58-b112-4cbb-b8c2-ecf2f558ebf1",
   "metadata": {},
   "source": [
    "# Python Crash Course\n",
    "\n",
    "## Chapter 3 - Introducing Lists"
   ]
  },
  {
   "cell_type": "markdown",
   "id": "c0c935fc-2dcb-4ae3-8e91-f57c133d6fc2",
   "metadata": {},
   "source": [
    "### What Is a List?"
   ]
  },
  {
   "cell_type": "markdown",
   "id": "09ce470a-fdcb-4eae-b27d-24c116d055b1",
   "metadata": {},
   "source": [
    "* A `list` is a collection of items in a particular order. You can make a list that includes the letters of the alphabet, the digits from 0 to 9, or the names of all the people in your family. You can put anything you want into a list, and the items in your list don’t have to be related in any particular way.\n",
    "* In Python, square brackets `[]` indicate a list, and individual elements in the list are separated by commas."
   ]
  },
  {
   "cell_type": "markdown",
   "id": "128b1ab1-fa47-4237-a6a0-45bc21d67f6c",
   "metadata": {},
   "source": [
    "### Example 1: bicycles.py"
   ]
  },
  {
   "cell_type": "code",
   "execution_count": 64,
   "id": "97ce88b3-30cc-4903-a441-c2425005464a",
   "metadata": {},
   "outputs": [
    {
     "name": "stdout",
     "output_type": "stream",
     "text": [
      "['trek', 'cannondale', 'redline', 'specialized']\n"
     ]
    }
   ],
   "source": [
    "bicycles = ['trek', 'cannondale', 'redline', 'specialized']\n",
    "print(bicycles)"
   ]
  },
  {
   "cell_type": "markdown",
   "id": "fda7cecb-0eb4-4d59-a539-b72143e2218d",
   "metadata": {},
   "source": [
    "#### Acessing Elements in a List\n",
    "Lists are ordered collections, so you can access any element in a list by telling Python the position, or index, of the item desired. To access an element in a list, write the name of the list followed by the index of the item enclosed in square brackets. You can also use the string methods from Chapter 2 on any element in this list."
   ]
  },
  {
   "cell_type": "code",
   "execution_count": 7,
   "id": "698b5f52-458b-4c6f-b75c-5c0b28a57d0c",
   "metadata": {},
   "outputs": [
    {
     "name": "stdout",
     "output_type": "stream",
     "text": [
      "trek\n"
     ]
    }
   ],
   "source": [
    "print(bicycles[0])"
   ]
  },
  {
   "cell_type": "code",
   "execution_count": 10,
   "id": "d11b91c6-e772-4c6b-ac46-a205eacc200f",
   "metadata": {},
   "outputs": [
    {
     "name": "stdout",
     "output_type": "stream",
     "text": [
      "Trek\n"
     ]
    }
   ],
   "source": [
    "print(bicycles[0].title())"
   ]
  },
  {
   "cell_type": "markdown",
   "id": "3748e09d-9a82-4818-9316-9244b3c5ffe6",
   "metadata": {},
   "source": [
    "#### Index Positions Start at 0, Not 1"
   ]
  },
  {
   "cell_type": "code",
   "execution_count": 14,
   "id": "0b5d83bc-103d-444b-b7ab-fb9e78d0846f",
   "metadata": {},
   "outputs": [
    {
     "name": "stdout",
     "output_type": "stream",
     "text": [
      "trek\n",
      "cannondale\n",
      "redline\n",
      "specialized\n"
     ]
    }
   ],
   "source": [
    "print(bicycles[0])\n",
    "print(bicycles[1])\n",
    "print(bicycles[2])\n",
    "print(bicycles[3])"
   ]
  },
  {
   "cell_type": "markdown",
   "id": "666405ea-e160-488e-a15f-1ed684c30257",
   "metadata": {},
   "source": [
    "#### Python has a special syntax for accessing the last element in a list.\n",
    "\n",
    "If you ask for the item at index -1, Python always returns the last item in the list.\n",
    "* This syntax is quite useful, because you’ll often want to access the last items in a list without knowing exactly how long the list is. This convention extends to other negative index values as well.\n",
    "* The index -2 returns the second item from the end of the list, the index -3 returns the third item from the end, and so forth."
   ]
  },
  {
   "cell_type": "code",
   "execution_count": 19,
   "id": "739b0ce2-cf75-4365-9c1f-52b1fefc3994",
   "metadata": {},
   "outputs": [
    {
     "name": "stdout",
     "output_type": "stream",
     "text": [
      "specialized\n",
      "redline\n",
      "cannondale\n"
     ]
    }
   ],
   "source": [
    "print(bicycles[-1])  ## last element of the list\n",
    "print(bicycles[-2])   ## second item from the end of the list\n",
    "print(bicycles[-3])  ## third item from the end of the list"
   ]
  },
  {
   "cell_type": "markdown",
   "id": "0f660f8c-2d7c-4e89-b635-57c815dcad9a",
   "metadata": {},
   "source": [
    "#### Using Individual Values from a List\n",
    "* You can use individual values from a list just as you would any other variable. For example, you can use f-strings to create a message based on a value from a list."
   ]
  },
  {
   "cell_type": "code",
   "execution_count": 22,
   "id": "8962424e-052a-454e-8347-a24ee81fea85",
   "metadata": {},
   "outputs": [
    {
     "name": "stdout",
     "output_type": "stream",
     "text": [
      "My first bicycle was a Trek.\n"
     ]
    }
   ],
   "source": [
    "message = f\"My first bicycle was a {bicycles[0].title()}.\"\n",
    "print(message)"
   ]
  },
  {
   "cell_type": "markdown",
   "id": "e9b93636-e6fc-47e3-9b1a-7563f6a8281d",
   "metadata": {},
   "source": [
    "### Modifying, Adding, and Removing Elements"
   ]
  },
  {
   "cell_type": "markdown",
   "id": "da8c1b24-9283-4d0e-af64-bcf1bad1e54a",
   "metadata": {},
   "source": [
    "#### Modifying Elements in a List"
   ]
  },
  {
   "cell_type": "code",
   "execution_count": 28,
   "id": "7a2e4508-ca2e-4fc9-848c-9a516d03ff5a",
   "metadata": {},
   "outputs": [
    {
     "name": "stdout",
     "output_type": "stream",
     "text": [
      "This is the old list: ['honda', 'yamaha', 'suzuki']\n",
      "This is the new list: ['ducati', 'yamaha', 'suzuki']\n"
     ]
    }
   ],
   "source": [
    "motorcycles = [\"honda\", \"yamaha\", \"suzuki\"]\n",
    "print(f\"This is the old list: {motorcycles}\")\n",
    "\n",
    "motorcycles[0] = \"ducati\"\n",
    "print(f\"This is the new list: {motorcycles}\")"
   ]
  },
  {
   "cell_type": "markdown",
   "id": "50377c7d-766b-4dbf-b3cb-4562a2c15095",
   "metadata": {},
   "source": [
    "#### Adding Elements to a List - append( ), insert( )\n"
   ]
  },
  {
   "cell_type": "markdown",
   "id": "f5f856eb-c792-4650-bbf8-542312e3dcdc",
   "metadata": {},
   "source": [
    "* The `append( )` method makes it easy to build lists dynamically. For example, you can start with an empty list and then add items to the list using a series of `append( )` calls.\n",
    "* You can add a new element at any position in your list by using the `insert( )` method. You do this by specifying the index of the new element and the value of the new item. "
   ]
  },
  {
   "cell_type": "code",
   "execution_count": 31,
   "id": "8addd7ee-8abc-42fa-9562-21f9eef6dcd5",
   "metadata": {},
   "outputs": [
    {
     "name": "stdout",
     "output_type": "stream",
     "text": [
      "This is the old list: ['honda', 'yamaha', 'suzuki']\n",
      "This is the new list: ['honda', 'yamaha', 'suzuki', 'ducati']\n"
     ]
    }
   ],
   "source": [
    "# append( ) - Example 1\n",
    "motorcycles = ['honda', 'yamaha', 'suzuki']\n",
    "print(f\"This is the old list: {motorcycles}\")\n",
    "\n",
    "motorcycles.append('ducati')\n",
    "print(f\"This is the new list: {motorcycles}\")"
   ]
  },
  {
   "cell_type": "code",
   "execution_count": 32,
   "id": "79a9df79-061c-45c9-9f57-18dec4f9db4f",
   "metadata": {},
   "outputs": [
    {
     "name": "stdout",
     "output_type": "stream",
     "text": [
      "['honda', 'yahama', 'suzuki']\n"
     ]
    }
   ],
   "source": [
    "# append( ) - Example 2\n",
    "motorcycles = []\n",
    "motorcycles.append('honda')\n",
    "motorcycles.append('yahama')\n",
    "motorcycles.append('suzuki')\n",
    "print(motorcycles)"
   ]
  },
  {
   "cell_type": "code",
   "execution_count": 33,
   "id": "8e57d85c-e00f-458c-87bb-3e11278ebbb6",
   "metadata": {},
   "outputs": [
    {
     "name": "stdout",
     "output_type": "stream",
     "text": [
      "This is the old list: ['honda', 'yamaha', 'suzuki']\n",
      "This is the new list: ['ducati', 'honda', 'yamaha', 'suzuki']\n"
     ]
    }
   ],
   "source": [
    "# insert( ) - Example 1\n",
    "motorcycles = ['honda', 'yamaha', 'suzuki']\n",
    "print(f\"This is the old list: {motorcycles}\")\n",
    "\n",
    "motorcycles.insert(0, 'ducati')\n",
    "print(f\"This is the new list: {motorcycles}\")"
   ]
  },
  {
   "cell_type": "markdown",
   "id": "105c1fea-c94c-4a1a-afa2-e0740b9e46f5",
   "metadata": {},
   "source": [
    "#### Removing Elements from a List - del, pop( ), remove( )"
   ]
  },
  {
   "cell_type": "code",
   "execution_count": 39,
   "id": "cdeee657-be77-47c9-b43e-d8e4afc1ad16",
   "metadata": {},
   "outputs": [
    {
     "name": "stdout",
     "output_type": "stream",
     "text": [
      "['honda', 'yamaha', 'suzuki']\n",
      "['yamaha', 'suzuki']\n",
      "['yamaha']\n"
     ]
    }
   ],
   "source": [
    "# del - Example 1\n",
    "motorcycles = ['honda', 'yamaha', 'suzuki']\n",
    "print(motorcycles)\n",
    "\n",
    "del motorcycles[0]\n",
    "print(motorcycles)\n",
    "\n",
    "del motorcycles[-1]\n",
    "print(motorcycles)"
   ]
  },
  {
   "cell_type": "markdown",
   "id": "045cfbad-dbe3-4141-938a-25f16e1fa7a8",
   "metadata": {},
   "source": [
    "`Observation:` you can no longer access the value that was removed from the list after the del statement is used. But if you want to use the value of an item after you remove it from a list, you can use the method pop( )"
   ]
  },
  {
   "cell_type": "code",
   "execution_count": 41,
   "id": "9a3b417c-e9da-4947-9c4a-89d66f15045b",
   "metadata": {},
   "outputs": [
    {
     "name": "stdout",
     "output_type": "stream",
     "text": [
      "['honda', 'yamaha', 'suzuki']\n",
      "['honda', 'yamaha']\n",
      "suzuki\n"
     ]
    }
   ],
   "source": [
    "# pop( ) - Example 1\n",
    "motorcycles = ['honda', 'yamaha', 'suzuki']\n",
    "print(motorcycles)\n",
    "\n",
    "popped_motorcycles = motorcycles.pop()\n",
    "print(motorcycles)\n",
    "print(popped_motorcycles)\n"
   ]
  },
  {
   "cell_type": "markdown",
   "id": "2fca22b2-e2b0-43ae-8bf2-4d64dbc759d9",
   "metadata": {},
   "source": [
    "How might this `pop()` method be useful? Imagine that the motorcycles in the list are stored in chronological order, according to when we owned them. If this is the case, we can use the `pop()`method to print a statement about the last motorcycle we bought:"
   ]
  },
  {
   "cell_type": "code",
   "execution_count": 46,
   "id": "c477b0d9-181b-4337-8439-93d9f52697b7",
   "metadata": {},
   "outputs": [
    {
     "name": "stdout",
     "output_type": "stream",
     "text": [
      "The last motorcycle I owned was a Suzuki.\n"
     ]
    }
   ],
   "source": [
    "# pop( ) - Example 2\n",
    "motorcycles = ['honda', 'yamaha', 'suzuki']\n",
    "\n",
    "last_owned = motorcycles.pop()\n",
    "print(f\"The last motorcycle I owned was a {last_owned.title()}.\")"
   ]
  },
  {
   "cell_type": "code",
   "execution_count": 47,
   "id": "58c4af7c-53fc-4c05-bd7c-477989cfb263",
   "metadata": {},
   "outputs": [
    {
     "name": "stdout",
     "output_type": "stream",
     "text": [
      "My first motorcycle I owned was a Honda.\n"
     ]
    }
   ],
   "source": [
    "# pop( ) - Example 3\n",
    "first_owned = motorcycles.pop(0)\n",
    "print(f\"My first motorcycle I owned was a {first_owned.title()}.\")"
   ]
  },
  {
   "cell_type": "markdown",
   "id": "89f76733-f869-4b40-9e7d-748ba7a4c122",
   "metadata": {},
   "source": [
    "`Observation:` remember that each time you use `pop()`, the item you work with is no longer stored in the list. "
   ]
  },
  {
   "cell_type": "markdown",
   "id": "b87775c6-0dea-42e3-b256-518e1d97ec13",
   "metadata": {},
   "source": [
    "Sometimes you won’t know the position of the value you want to remove from a list. If you only know the value of the item you want to remove, you can use the `remove()` method."
   ]
  },
  {
   "cell_type": "code",
   "execution_count": 48,
   "id": "688f76e0-2583-46c1-b198-9ad40490b281",
   "metadata": {},
   "outputs": [
    {
     "name": "stdout",
     "output_type": "stream",
     "text": [
      "['honda', 'yamaha', 'suzuki', 'ducati']\n",
      "['honda', 'yamaha', 'suzuki']\n"
     ]
    }
   ],
   "source": [
    "# remove( ) - Example 1\n",
    "motorcycles = ['honda', 'yamaha', 'suzuki', 'ducati']\n",
    "print(motorcycles)\n",
    "\n",
    "motorcycles.remove('ducati')\n",
    "print(motorcycles)\n"
   ]
  },
  {
   "cell_type": "code",
   "execution_count": 50,
   "id": "a873685a-4ca3-4821-b4e0-139dae568329",
   "metadata": {},
   "outputs": [
    {
     "name": "stdout",
     "output_type": "stream",
     "text": [
      "['honda', 'yamaha', 'suzuki']\n",
      "\n",
      "A Ducati is too expensive for me.\n"
     ]
    }
   ],
   "source": [
    "# remove( ) - Example 2\n",
    "motorcycles = ['honda', 'yamaha', 'suzuki', 'ducati']\n",
    "too_expensive = 'ducati'\n",
    "motorcycles.remove(too_expensive)\n",
    "print(motorcycles)\n",
    "print(f\"\\nA {too_expensive.title()} is too expensive for me.\")"
   ]
  },
  {
   "cell_type": "markdown",
   "id": "04d7e14a-98bb-4c1d-ba0b-45bd19707ffb",
   "metadata": {},
   "source": [
    "`Observation`: The `remove()` method deletes only the first occurrence of the value you specify. If there’s a possibility the value appears more than once in the list, you’ll need to use a loop to make sure all occurrences of the value are removed. "
   ]
  },
  {
   "cell_type": "markdown",
   "id": "41c7d313-e9e1-411c-bc8d-e0e7d668371f",
   "metadata": {},
   "source": [
    "### Organizing a List\n",
    "Often, your lists will be created in an unpredictable order, because you can’t always control the order in which your users provide their data. Although this is unavoidable in most circumstances, you’ll frequently want to present your information in a particular order."
   ]
  },
  {
   "cell_type": "markdown",
   "id": "d6bd027d-83ba-4ceb-8a19-2dea6a18384d",
   "metadata": {},
   "source": [
    "#### Sorting a List Permanently: sort( )\n",
    "* Alphabetical and reverse-alphabetical order"
   ]
  },
  {
   "cell_type": "code",
   "execution_count": 52,
   "id": "b12dc000-f8b8-446c-b17f-8868a651c002",
   "metadata": {},
   "outputs": [
    {
     "name": "stdout",
     "output_type": "stream",
     "text": [
      "['audi', 'bmw', 'subaru', 'toyota']\n"
     ]
    }
   ],
   "source": [
    "# sort( ) - Example 1 \n",
    "cars =['bmw', 'audi', 'toyota', 'subaru']\n",
    "cars.sort()\n",
    "print(cars)"
   ]
  },
  {
   "cell_type": "code",
   "execution_count": 57,
   "id": "bdd1d462-cfd4-4cf3-ad3d-6297fa55c188",
   "metadata": {},
   "outputs": [
    {
     "name": "stdout",
     "output_type": "stream",
     "text": [
      "['toyota', 'subaru', 'bmw', 'audi']\n",
      "['audi', 'bmw', 'subaru', 'toyota']\n"
     ]
    }
   ],
   "source": [
    "cars.sort(reverse=True)\n",
    "print(cars)\n",
    "cars.sort()\n",
    "print(cars)"
   ]
  },
  {
   "cell_type": "markdown",
   "id": "ef11f1cb-3e89-4ed5-8088-21ffd4e4046b",
   "metadata": {},
   "source": [
    "#### Sorting a List Temporarily: sorted( )\n",
    "*  the list still exists in its original order after the `sorted()` function has been used. The `sorted()` function can also accept a reverse=True argument if you want to display a list in reverse-alphabetical order."
   ]
  },
  {
   "cell_type": "code",
   "execution_count": 58,
   "id": "8811ce71-e308-4271-9de5-f93b74a1eca3",
   "metadata": {},
   "outputs": [
    {
     "name": "stdout",
     "output_type": "stream",
     "text": [
      "Here is the original list: ['bmw', 'audi', 'toyota', 'subaru']\n",
      "\n",
      "Here is the sorted list: ['audi', 'bmw', 'subaru', 'toyota']\n",
      "\n",
      "Here is the original list again: ['bmw', 'audi', 'toyota', 'subaru']\n"
     ]
    }
   ],
   "source": [
    "# sorted() - Example 1\n",
    "cars =['bmw', 'audi', 'toyota', 'subaru']\n",
    "print(f\"Here is the original list: {cars}\")\n",
    "\n",
    "print(f\"\\nHere is the sorted list: {sorted(cars)}\")\n",
    "\n",
    "print(f\"\\nHere is the original list again: {cars}\")"
   ]
  },
  {
   "cell_type": "markdown",
   "id": "3138ac3e-74df-429f-be13-1452fd4141ab",
   "metadata": {},
   "source": [
    "`Observation:`Sorting a list alphabetically is a bit more complicated when all the values are not in lowercase. There are several ways to interpret capital letters when determining a sort order, and specifying the exact order can be more complex than we want to deal with at this time. "
   ]
  },
  {
   "cell_type": "markdown",
   "id": "da0ef8e5-d66c-42f7-90d0-1004f5dc6a6b",
   "metadata": {},
   "source": [
    "#### Printing a List in Reverse Order: reverse( )\n",
    "`reverse()` doesn’t sort backward alphabetically; it simply reverses the order of the list. Besides this method changes the order of a list permanently, but you can revert to the original order anytime by applying `reverse()` to the same list a second time."
   ]
  },
  {
   "cell_type": "code",
   "execution_count": 61,
   "id": "bea54b5a-a86f-4f5c-9708-500ae7bcada2",
   "metadata": {},
   "outputs": [
    {
     "name": "stdout",
     "output_type": "stream",
     "text": [
      "['bmw', 'audi', 'toyota', 'subaru']\n",
      "['subaru', 'toyota', 'audi', 'bmw']\n"
     ]
    }
   ],
   "source": [
    "# reverse( ) - Example 1\n",
    "print(cars)\n",
    "cars.reverse()\n",
    "print(cars)"
   ]
  },
  {
   "cell_type": "markdown",
   "id": "72c77a93-bd32-4688-8fa4-74f70fdb8ee2",
   "metadata": {},
   "source": [
    "#### Finding the Length of a List: len( )\n"
   ]
  },
  {
   "cell_type": "code",
   "execution_count": 62,
   "id": "a2872089-5cd7-4cf2-829a-95dc5f152c2c",
   "metadata": {},
   "outputs": [
    {
     "data": {
      "text/plain": [
       "4"
      ]
     },
     "execution_count": 62,
     "metadata": {},
     "output_type": "execute_result"
    }
   ],
   "source": [
    "len(cars)"
   ]
  },
  {
   "cell_type": "markdown",
   "id": "ff9dabf5-23d0-4a6c-bb69-1231c904dce4",
   "metadata": {},
   "source": [
    "### Avoiding Index Erros When Working with Lists\n",
    "An index error means Python can’t find an item at the index you requested."
   ]
  },
  {
   "cell_type": "code",
   "execution_count": 63,
   "id": "3a9f8ef9-0d75-42e5-b8bf-f41bce4d27d0",
   "metadata": {},
   "outputs": [
    {
     "ename": "IndexError",
     "evalue": "list index out of range",
     "output_type": "error",
     "traceback": [
      "\u001b[1;31m---------------------------------------------------------------------------\u001b[0m",
      "\u001b[1;31mIndexError\u001b[0m                                Traceback (most recent call last)",
      "Cell \u001b[1;32mIn[63], line 2\u001b[0m\n\u001b[0;32m      1\u001b[0m motorcycles \u001b[38;5;241m=\u001b[39m [\u001b[38;5;124m'\u001b[39m\u001b[38;5;124mhonda\u001b[39m\u001b[38;5;124m'\u001b[39m, \u001b[38;5;124m'\u001b[39m\u001b[38;5;124myahama\u001b[39m\u001b[38;5;124m'\u001b[39m, \u001b[38;5;124m'\u001b[39m\u001b[38;5;124msuzuki\u001b[39m\u001b[38;5;124m'\u001b[39m]\n\u001b[1;32m----> 2\u001b[0m \u001b[38;5;28mprint\u001b[39m(motorcycles[\u001b[38;5;241m3\u001b[39m])\n",
      "\u001b[1;31mIndexError\u001b[0m: list index out of range"
     ]
    }
   ],
   "source": [
    "motorcycles = ['honda', 'yahama', 'suzuki']\n",
    "print(motorcycles[3])"
   ]
  },
  {
   "cell_type": "markdown",
   "id": "773bd988-1190-4639-8b9e-f1e12162a34e",
   "metadata": {},
   "source": [
    "Python attempts to give you the item at index 3. But when it searches the list, no item in motorcycles has an index of 3. Because of the off-by-one nature of indexing in lists, this error is typical. People think the third item is item number 3, because they start counting at 1. But in Python the third item is number 2, because it starts indexing at 0."
   ]
  },
  {
   "cell_type": "markdown",
   "id": "f391dea9-3ab8-4d8c-9465-39d3d0dca22f",
   "metadata": {},
   "source": [
    "`Observation`: If an index error occurs and you can’t figure out how to resolve it, try printing your list or just printing the length of your list. Your list might look much different than you thought it did, especially if it has been managed dynamically by your program. Seeing the actual list, or the exact number of items in your list, can help you sort out such logical errors."
   ]
  }
 ],
 "metadata": {
  "kernelspec": {
   "display_name": "Python 3 (ipykernel)",
   "language": "python",
   "name": "python3"
  },
  "language_info": {
   "codemirror_mode": {
    "name": "ipython",
    "version": 3
   },
   "file_extension": ".py",
   "mimetype": "text/x-python",
   "name": "python",
   "nbconvert_exporter": "python",
   "pygments_lexer": "ipython3",
   "version": "3.12.4"
  }
 },
 "nbformat": 4,
 "nbformat_minor": 5
}
