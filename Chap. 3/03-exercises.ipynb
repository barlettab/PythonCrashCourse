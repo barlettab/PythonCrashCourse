{
 "cells": [
  {
   "cell_type": "markdown",
   "id": "400fd75f-6583-41ac-a3af-d90311e6816b",
   "metadata": {},
   "source": [
    "# Python Crash Course \n",
    "## Chapter 3 - Exercises"
   ]
  },
  {
   "cell_type": "markdown",
   "id": "d922b00b-acda-4109-a1c9-6764fb8e0d04",
   "metadata": {},
   "source": [
    "### 3-1. Names: \n",
    "Store the names of a few of your friends in a list called names. Print each person’s name by accessing each element in the list, one at a time."
   ]
  },
  {
   "cell_type": "code",
   "execution_count": null,
   "id": "06d2dc2f-8f5b-436f-a8d7-b9c02d9c3d7e",
   "metadata": {},
   "outputs": [],
   "source": [
    "name = [\"Maya\", \"Noa\", \"Zyon\", \"Seth\", \"Sophie\"]\n",
    "print(name[0])\n",
    "print(name[1])\n",
    "print(name[2])\n",
    "print(name[3])\n",
    "print(name[4])"
   ]
  },
  {
   "cell_type": "markdown",
   "id": "1b18521c-c905-4c64-926d-49e9163ed99c",
   "metadata": {},
   "source": [
    "### 3-2. Greetings: \n",
    "Start with the list you used in Exercise 3-1, but instead of just printing each person’s name, print a message to them. The text of each message should be the same, but each message should be personalized with the person’s name."
   ]
  },
  {
   "cell_type": "code",
   "execution_count": null,
   "id": "07e8bbca-f02b-4983-809b-12af8a2890a5",
   "metadata": {},
   "outputs": [],
   "source": [
    "for item in name:\n",
    "    print(f\"Hello, {item}! Let's gonna play nintendo switch together.\") "
   ]
  },
  {
   "cell_type": "markdown",
   "id": "d9dd3307-38bb-4459-95e2-765a59135c16",
   "metadata": {},
   "source": [
    "### 3-3. Your Own List: \n",
    "Think of your favorite mode of transportation, such as a motorcycle or a car, and make a list that stores several examples. Use your list to print a series of statements about these items, such as “I would like to own a Honda motorcycle.”"
   ]
  },
  {
   "cell_type": "code",
   "execution_count": null,
   "id": "47ce8b9b-d322-43e5-8bb0-d0cc02375a22",
   "metadata": {},
   "outputs": [],
   "source": [
    "transport = [\"Car\", \"Subway\", \"Train\", \"Airplane\", \"Boat\"]\n",
    "print(f\"I like to use my {transport[0]} to go to distant places in town.\")\n",
    "print(f\"The {transport[1]} is the fastest way to get around the city during rush hour.\")\n",
    "print(f\"Taking the {transport[2]} is a scenic and relaxing way to travel long distances.\")\n",
    "print(f\"Traveling by {transport[3]} is the quickest way to reach another country.\")\n",
    "print(f\"We took a {transport[4]} ride along the river to enjoy the beautiful views of the city.\")"
   ]
  },
  {
   "cell_type": "markdown",
   "id": "640097ad-a337-4845-ad51-7195d2e0c959",
   "metadata": {},
   "source": [
    "### 3-4. Guest List:\n",
    "If you could invite anyone, living or deceased, to dinner, who would you invite? Make a list that includes at least three people you’d like to invite to dinner. Then use your list to print a message to each person, inviting them to dinner."
   ]
  },
  {
   "cell_type": "code",
   "execution_count": null,
   "id": "68bd9ab5-e499-43bd-9064-d93b3fa0c2c4",
   "metadata": {},
   "outputs": [],
   "source": [
    "people = [\"Jesus\", \"Faraday\", \"Talles\"]\n",
    "for person in people:\n",
    "    print(f\"I would be delighted if you, {person}, could join me for dinner this evening.\")"
   ]
  },
  {
   "cell_type": "markdown",
   "id": "a21296b3-3ed0-4038-a431-3b6043a6a292",
   "metadata": {},
   "source": [
    "### 3-5. Changing Guest List: \n",
    "You just heard that one of your guests can’t make the dinner, so you need to send out a new set of invitations. You’ll have to think of someone else to invite. \n",
    "* Start with your program from Exercise 3-4. Add a print() call at the end of your program, stating the name of the guest who can’t make it. \n",
    "* Modify your list, replacing the name of the guest who can’t make it with the name of the new person you are inviting. \n",
    "* Print a second set of invitation messages, one for each person who is still in your list."
   ]
  },
  {
   "cell_type": "code",
   "execution_count": null,
   "id": "eae22c57-3a9a-4be5-af71-fa4984cdcbe5",
   "metadata": {},
   "outputs": [],
   "source": [
    "people = [\"Jesus\", \"Faraday\", \"Talles\"]\n",
    "for person in people:\n",
    "    print(f\"I would be delighted if you, {person}, could join me for dinner this evening.\")\n",
    "print()\n",
    "print(f\"{people[1]} will not be at the dinner anymore.\")\n",
    "print()\n",
    "people[1] = \"Joyce\"\n",
    "for person in people:\n",
    "    print(f\"I would be delighted if you, {person}, could join me for dinner this evening.\")"
   ]
  },
  {
   "cell_type": "markdown",
   "id": "41b53db9-60a0-4dfe-b8a2-d978746c7a2b",
   "metadata": {},
   "source": [
    "### 3-6. More Guests:\n",
    "You just found a bigger dinner table, so now more space is available. Think of three more guests to invite to dinner. \n",
    "* Start with your program from Exercise 3-4 or 3-5. Add a print() call to the end of your program, informing people that you found a bigger table. \n",
    "* Use insert() to add one new guest to the beginning of your list. \n",
    "* Use insert() to add one new guest to the middle of your list. \n",
    "* Use append() to add one new guest to the end of your list. \n",
    "* Print a new set of invitation messages, one for each person in your list."
   ]
  },
  {
   "cell_type": "code",
   "execution_count": null,
   "id": "275f99de-9d76-41d0-9ea5-2dd8e8bb7624",
   "metadata": {},
   "outputs": [],
   "source": [
    "people = [\"Jesus\", \"Joyce\", \"Talles\"]\n",
    "print(\"I found a bigger dinner table, so there is more space available now!\\n\")\n",
    "people.insert(1, \"Ynara\")\n",
    "people.insert(1, \"Tina\")\n",
    "people.append(\"Clarice Marie\")\n",
    "for person in people:\n",
    "    print(f\"I would be delighted if you, {person}, could join me for dinner this evening.\\n\")\n"
   ]
  },
  {
   "cell_type": "markdown",
   "id": "f7274420-5114-46ac-9d4f-b62aeb8b510c",
   "metadata": {},
   "source": [
    "### 3-7. Shrinking Guest List:\n",
    "You just found out that your new dinner table won’t arrive in time for the dinner, and now you have space for only two guests. \n",
    "* Start with your program from Exercise 3-6. Add a new line that prints a message saying that you can invite only two people for dinner. \n",
    "* Use pop() to remove guests from your list one at a time until only two names remain in your list. Each time you pop a name from your list, print a message to that person letting them know you’re sorry you can’t invite them to dinner. \n",
    "* Print a message to each of the two people still on your list, letting them know they’re still invited. \n",
    "* Use del to remove the last two names from your list, so you have an empty list. Print your list to make sure you actually have an empty list at the end of your program."
   ]
  },
  {
   "cell_type": "code",
   "execution_count": 17,
   "id": "51b607c6-3d0d-409e-8a2a-b8139b3446cc",
   "metadata": {},
   "outputs": [
    {
     "name": "stdout",
     "output_type": "stream",
     "text": [
      "I can invite only two  people for dinner\n",
      "\n",
      "I’m really sorry, Clarice, I won’t be able to invite you to dinner this time. I truly hope we can plan something together soon.\n",
      "I’m really sorry, Tina, I won’t be able to invite you to dinner this time. I truly hope we can plan something together soon.\n",
      "I’m really sorry, Ynara, I won’t be able to invite you to dinner this time. I truly hope we can plan something together soon.\n",
      "I’m really sorry, Joyce, I won’t be able to invite you to dinner this time. I truly hope we can plan something together soon.\n",
      "\n",
      "Jesus, you are sill invited to the dinner tonight!\n",
      "Talles, you are sill invited to the dinner tonight!\n",
      "\n",
      "people = []\n"
     ]
    }
   ],
   "source": [
    "people = [\"Jesus\", \"Joyce\", \"Talles\", \"Ynara\", \"Tina\", \"Clarice\"]\n",
    "print(\"I can invite only two  people for dinner\")\n",
    "print()\n",
    "\n",
    "## Deleting items using the method pop()\n",
    "print(f\"I’m really sorry, {people.pop(5)}, I won’t be able to invite you to dinner this time. I truly hope we can plan something together soon.\")\n",
    "print(f\"I’m really sorry, {people.pop(4)}, I won’t be able to invite you to dinner this time. I truly hope we can plan something together soon.\")\n",
    "print(f\"I’m really sorry, {people.pop(3)}, I won’t be able to invite you to dinner this time. I truly hope we can plan something together soon.\")\n",
    "print(f\"I’m really sorry, {people.pop(1)}, I won’t be able to invite you to dinner this time. I truly hope we can plan something together soon.\")\n",
    "\n",
    "print()\n",
    "for person in people:\n",
    "    print(f\"{person}, you are sill invited to the dinner tonight!\")\n",
    "\n",
    "print()\n",
    "# del will delete our list but the method clear will make the list empty.\n",
    "# del people\n",
    "people.clear()\n",
    "print(f\"people = {people}\")"
   ]
  },
  {
   "cell_type": "markdown",
   "id": "59bccad9-149c-4d14-94e6-c054377bbf0e",
   "metadata": {},
   "source": [
    "### 3-8. Seeing the World: \n",
    "Think of at least five places in the world you’d like  to visit. \n",
    "* Store the locations in a list. Make sure the list is not in alphabetical order. \n",
    "* Print your list in its original order. Don’t worry about printing the list neatly; just print it as a raw Python list. \n",
    "* Use sorted() to print your list in alphabetical order without modifying the actual list. \n",
    "* Show that your list is still in its original order by printing it. \n",
    "* Use sorted() to print your list in reverse-alphabetical order without changing the order of the original list. \n",
    "* Show that your list is still in its original order by printing it again. \n",
    "* Use reverse() to change the order of your list. Print the list to show that its order has changed. \n",
    "* Use reverse() to change the order of your list again. Print the list to show it’s back to its original order. \n",
    "* Use sort() to change your list so it’s stored in alphabetical order. Print the list to show that its order has been changed. \n",
    "* Use sort() to change your list so it’s stored in reverse-alphabetical order. Print the list to show that its order has changed."
   ]
  },
  {
   "cell_type": "code",
   "execution_count": 46,
   "id": "1d4d155a-a186-4773-82f3-0219f1f9ac20",
   "metadata": {},
   "outputs": [
    {
     "name": "stdout",
     "output_type": "stream",
     "text": [
      "Original list: ['New York', 'London', 'Porto', 'Barletta', 'Sydney']\n",
      "Alphatical order with sorted: ['Barletta', 'London', 'New York', 'Porto', 'Sydney']\n",
      "\n",
      "Original list: ['New York', 'London', 'Porto', 'Barletta', 'Sydney']\n",
      "Reverse order with reverse method: ['Sydney', 'Barletta', 'Porto', 'London', 'New York']\n",
      "Original order with reverse method: ['New York', 'London', 'Porto', 'Barletta', 'Sydney']\n",
      "\n",
      "Alphatical order with sort method: ['Barletta', 'London', 'New York', 'Porto', 'Sydney']\n",
      "Reverse order with sort method: ['Barletta', 'London', 'New York', 'Porto', 'Sydney']\n"
     ]
    }
   ],
   "source": [
    "places = [\"New York\", \"London\", \"Porto\", \"Barletta\", \"Sydney\"]\n",
    "\n",
    "## Printing the original order\n",
    "print(f\"Original list: {places}\")\n",
    "\n",
    "## Printing in alphabetical order\n",
    "print(f\"Alphatical order with sorted: {sorted(places)}\\n\")\n",
    "\n",
    "## Printing the original order\n",
    "print(f\"Original list: {places}\")\n",
    "\n",
    "## Printing in the reverse order and changing the original order list\n",
    "places.reverse()\n",
    "print(f\"Reverse order with reverse method: {places}\")\n",
    "\n",
    "## Printing in the reverse order and changing again to the original order list\n",
    "places.reverse()\n",
    "print(f\"Original order with reverse method: {places}\\n\")\n",
    "\n",
    "## Printing in alphabetical order\n",
    "places.sort()\n",
    "print(f\"Alphatical order with sort method: {places}\")\n",
    "\n",
    "## Printing in the reverse order\n",
    "places.sort()\n",
    "print(f\"Reverse order with sort method: {places}\")"
   ]
  },
  {
   "cell_type": "markdown",
   "id": "a46d53a6-359d-4315-9f6d-acd89221cdcc",
   "metadata": {},
   "source": [
    "### 3-9. Dinner Guests: \n",
    "Working with one of the programs from Exercises 3-4 through 3-7 (pages 41–42), use len() to print a message indicating the number of people you’re inviting to dinner."
   ]
  },
  {
   "cell_type": "code",
   "execution_count": 48,
   "id": "372c1114-cdbf-4038-a457-7fce81d358af",
   "metadata": {},
   "outputs": [
    {
     "name": "stdout",
     "output_type": "stream",
     "text": [
      "The number of people I'm invinting to dinner tonight is 5\n"
     ]
    }
   ],
   "source": [
    "people = [\"Jesus\", \"Joyce\", \"Talles\", \"Ynara\", \"Tina\", \"Clarice\"]\n",
    "## Python index start at zero, so we need to subtract one from the length\n",
    "print(f\"The number of people I'm invinting to dinner tonight is {len(people) - 1}\")"
   ]
  },
  {
   "cell_type": "markdown",
   "id": "90b001e7-a427-463e-aa7a-7f8da8947de7",
   "metadata": {},
   "source": [
    "### 3-10. Every Function: \n",
    "Think of things you could store in a list. For example, you could make a list of mountains, rivers, countries, cities, languages, or anything else you’d like. Write a program that creates a list containing these items and then uses each function introduced in this chapter at least once."
   ]
  },
  {
   "cell_type": "code",
   "execution_count": 57,
   "id": "e10f855b-96c0-4348-88f0-f0d6564678c6",
   "metadata": {},
   "outputs": [
    {
     "name": "stdout",
     "output_type": "stream",
     "text": [
      "['Mount Everest', 'Mount Ararat', 'Kangchenjunga', 'Nanda Devi', 'Kamet', 'Mount Fuji']\n",
      "['Mount Everest', 'Mount Ararat', 'Aconcagua', 'Kangchenjunga', 'Nanda Devi', 'Kamet', 'Mount Fuji']\n",
      "['Mount Everest', 'Mount Ararat', 'Aconcagua', 'Kangchenjunga', 'Kamet', 'Mount Fuji']\n",
      "['Mount Everest', 'Mount Ararat', 'Aconcagua', 'Kangchenjunga', 'Mount Fuji']\n",
      "['Mount Ararat', 'Aconcagua', 'Kangchenjunga', 'Mount Fuji']\n"
     ]
    }
   ],
   "source": [
    "mountains = [\"Mount Everest\", \"Mount Ararat\", \"Kangchenjunga\", \"Nanda Devi\", \"Kamet\"]\n",
    "\n",
    "## Adding a new moutain in the List\n",
    "mountains.append(\"Mount Fuji\")\n",
    "print(mountains)\n",
    "\n",
    "## Inserting a new moutain in the position 2\n",
    "mountains.insert(2, \"Aconcagua\")\n",
    "print(mountains)\n",
    "\n",
    "## Deleting \"Nanda Devi\"\n",
    "del mountains[4]\n",
    "print(mountains)\n",
    "\n",
    "## Removing \"Kamet\"\n",
    "mountains.remove(\"Kamet\")\n",
    "print(mountains)\n",
    "\n",
    "## Pop Mount Everest\n",
    "mountains.pop(0)\n",
    "print(mountains)"
   ]
  },
  {
   "cell_type": "markdown",
   "id": "0037cc80-a16c-4b36-b5cb-d2c95ab2e619",
   "metadata": {},
   "source": [
    "### 3-11. Intentional Error:\n",
    "If you haven’t received an index error in one of your programs yet, try to make one happen. Change an index in one of your programs to produce an index error. Make sure you correct the error before closing the program."
   ]
  },
  {
   "cell_type": "code",
   "execution_count": 58,
   "id": "5a8981c1-e45a-4765-bcc8-b66ae1219ce5",
   "metadata": {},
   "outputs": [
    {
     "ename": "IndexError",
     "evalue": "pop index out of range",
     "output_type": "error",
     "traceback": [
      "\u001b[1;31m---------------------------------------------------------------------------\u001b[0m",
      "\u001b[1;31mIndexError\u001b[0m                                Traceback (most recent call last)",
      "Cell \u001b[1;32mIn[58], line 2\u001b[0m\n\u001b[0;32m      1\u001b[0m mountains \u001b[38;5;241m=\u001b[39m [\u001b[38;5;124m\"\u001b[39m\u001b[38;5;124mMount Everest\u001b[39m\u001b[38;5;124m\"\u001b[39m, \u001b[38;5;124m\"\u001b[39m\u001b[38;5;124mMount Ararat\u001b[39m\u001b[38;5;124m\"\u001b[39m, \u001b[38;5;124m\"\u001b[39m\u001b[38;5;124mKangchenjunga\u001b[39m\u001b[38;5;124m\"\u001b[39m, \u001b[38;5;124m\"\u001b[39m\u001b[38;5;124mNanda Devi\u001b[39m\u001b[38;5;124m\"\u001b[39m, \u001b[38;5;124m\"\u001b[39m\u001b[38;5;124mKamet\u001b[39m\u001b[38;5;124m\"\u001b[39m]\n\u001b[1;32m----> 2\u001b[0m mountains\u001b[38;5;241m.\u001b[39mpop(\u001b[38;5;241m5\u001b[39m)\n",
      "\u001b[1;31mIndexError\u001b[0m: pop index out of range"
     ]
    }
   ],
   "source": [
    "mountains = [\"Mount Everest\", \"Mount Ararat\", \"Kangchenjunga\", \"Nanda Devi\", \"Kamet\"]\n",
    "mountains.pop(5)"
   ]
  },
  {
   "cell_type": "code",
   "execution_count": null,
   "id": "6fa0c087-4bfe-407f-a295-39deb979c79d",
   "metadata": {},
   "outputs": [],
   "source": []
  }
 ],
 "metadata": {
  "kernelspec": {
   "display_name": "Python 3 (ipykernel)",
   "language": "python",
   "name": "python3"
  },
  "language_info": {
   "codemirror_mode": {
    "name": "ipython",
    "version": 3
   },
   "file_extension": ".py",
   "mimetype": "text/x-python",
   "name": "python",
   "nbconvert_exporter": "python",
   "pygments_lexer": "ipython3",
   "version": "3.12.4"
  }
 },
 "nbformat": 4,
 "nbformat_minor": 5
}
