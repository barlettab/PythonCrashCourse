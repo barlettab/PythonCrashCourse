{
 "cells": [
  {
   "cell_type": "markdown",
   "id": "9f11b4bc-349f-4147-ab7b-261a284a4666",
   "metadata": {},
   "source": [
    "# Python Crash Course\n",
    "## Chapter 6 - Dictionaries\n",
    "\n",
    "Understanding dictionaries allows you to model a variety of real-world objects more accurately. You’ll be able to create a dictionary representing a person and then store as much information as you want about that person. You can store their name, age, location, profession, and any other aspect of a person you can describe. You’ll be able to store any two kinds of information that can be matched up, such as a list of words and their meanings, a list of people’s names and their favorite numbers, a list of mountains and their elevations, and so forth."
   ]
  },
  {
   "cell_type": "markdown",
   "id": "451ecd11-2849-47b7-ac1d-e41dbacb6106",
   "metadata": {},
   "source": [
    "### A Simple Dictionary"
   ]
  },
  {
   "cell_type": "code",
   "execution_count": 1,
   "id": "523a1ed1-0609-4682-a191-f36fc6b70a09",
   "metadata": {},
   "outputs": [
    {
     "name": "stdout",
     "output_type": "stream",
     "text": [
      "green\n",
      "5\n"
     ]
    }
   ],
   "source": [
    "# alien.py - Example 1\n",
    "alien_0 = {'color': 'green', 'points': 5}\n",
    "\n",
    "print(alien_0['color'])\n",
    "print(alien_0['points'])"
   ]
  },
  {
   "cell_type": "markdown",
   "id": "a848a79d-38e5-4dd3-8561-8405478193b9",
   "metadata": {},
   "source": [
    "### Working with Dictionaries\n",
    "\n",
    "A dictionary in Python is a collection of `key-value pairs`. Each `key` is connected to a `value`, and you can use a key to access the `value` associated with that `key`. A key’s value can be a number, a string, a list, or even another dictionary. In fact, you can use any object that you can create in Python as a value in a dictionary.  \n",
    "- In Python, a dictionary is wrapped in braces `{}` with a series of key-value pairs inside the braces, as shown in the earlier example.\n",
    "- You can have an unlimited number of key-value pairs in a dictionary. For example, here’s the original alien_0 dictionary with two key-value pairs:"
   ]
  },
  {
   "cell_type": "code",
   "execution_count": 2,
   "id": "f6acc0ec-e2f2-4d85-8fa2-4c5345b31c7b",
   "metadata": {},
   "outputs": [],
   "source": [
    "alien_0 = {'color': 'green', 'points': 5}"
   ]
  },
  {
   "cell_type": "markdown",
   "id": "c0ce4a49-783c-4aff-9fba-25f994e7de33",
   "metadata": {},
   "source": [
    "#### Acessing Values in a Dictionary\n",
    "To get the value associated with a key, give the name of the dictionary and then place the key inside a set of square brackets."
   ]
  },
  {
   "cell_type": "code",
   "execution_count": 3,
   "id": "26925764-aec4-431e-a38d-3471bc3ca28d",
   "metadata": {},
   "outputs": [
    {
     "name": "stdout",
     "output_type": "stream",
     "text": [
      "green\n"
     ]
    }
   ],
   "source": [
    "print(alien_0['color'])"
   ]
  },
  {
   "cell_type": "code",
   "execution_count": 4,
   "id": "945edf92-52f5-45d8-be7c-7eb216e9b006",
   "metadata": {},
   "outputs": [
    {
     "name": "stdout",
     "output_type": "stream",
     "text": [
      "You just earned 5 points!\n"
     ]
    }
   ],
   "source": [
    "new_points = alien_0['points']\n",
    "print(f\"You just earned {new_points} points!\")"
   ]
  },
  {
   "cell_type": "markdown",
   "id": "07527820-b9cd-4bc6-a0d4-c2d01dfa9f09",
   "metadata": {},
   "source": [
    "#### Adding New Key-Value Pairs\n",
    "Dictionaries are dynamic structures, and you can add new key-value pairs to a dictionary at any time. To add a new key-value pair, you would give the name of the dictionary followed by the new key in square brackets, along with the new value."
   ]
  },
  {
   "cell_type": "code",
   "execution_count": 6,
   "id": "85e62178-8dc5-435f-83ae-d169650e1935",
   "metadata": {},
   "outputs": [
    {
     "name": "stdout",
     "output_type": "stream",
     "text": [
      "{'color': 'green', 'points': 5}\n",
      "{'color': 'green', 'points': 5, 'x_position': 0, 'y_position': 25}\n"
     ]
    }
   ],
   "source": [
    "# alien.py - Example 2\n",
    "alien_0 = {'color': 'green', 'points': 5}\n",
    "print(alien_0)\n",
    "\n",
    "alien_0['x_position'] = 0\n",
    "alien_0['y_position'] = 25\n",
    "print(alien_0)"
   ]
  },
  {
   "cell_type": "markdown",
   "id": "9243f510-a0f1-4f23-a479-bc694bc210ab",
   "metadata": {},
   "source": [
    "#### Starting with an Empty Dictionary\n",
    "It’s sometimes convenient, or even necessary, to start with an empty dictionary and then add each new item to it. To start filling an empty dictionary, define a dictionary with an empty set of braces and then add each key-value pair on its own line."
   ]
  },
  {
   "cell_type": "code",
   "execution_count": 8,
   "id": "6e822c23-2d2c-418c-bb72-c38b19dcd35b",
   "metadata": {},
   "outputs": [
    {
     "name": "stdout",
     "output_type": "stream",
     "text": [
      "{'color': 'green', 'points': 5}\n"
     ]
    }
   ],
   "source": [
    "# alien.py - Example 3\n",
    "alien_0 = {}\n",
    "alien_0['color'] = 'green'\n",
    "alien_0['points'] = 5\n",
    "print(alien_0)"
   ]
  },
  {
   "cell_type": "markdown",
   "id": "86bc7d5f-8865-4015-a64b-34ceb4663fd2",
   "metadata": {},
   "source": [
    "#### Modifying Values in a Dictionary\n",
    "To modify a value in a dictionary, give the name of the dictionary with the key in square brackets and then the new value you want associated with  that key."
   ]
  },
  {
   "cell_type": "code",
   "execution_count": 10,
   "id": "c4f41b2b-d1a6-4e50-9ce4-b4b559a09644",
   "metadata": {},
   "outputs": [
    {
     "name": "stdout",
     "output_type": "stream",
     "text": [
      "The alien is green.\n",
      "The alien is yellow.\n"
     ]
    }
   ],
   "source": [
    "# alien.py - Example 4\n",
    "alien_0 = {'color': 'green'}\n",
    "print(f\"The alien is {alien_0['color']}.\")\n",
    "\n",
    "alien_0['color'] = 'yellow'\n",
    "print(f\"The alien is {alien_0['color']}.\")"
   ]
  },
  {
   "cell_type": "code",
   "execution_count": 14,
   "id": "930f70bb-a5e4-4916-9d26-73bd7f0e1d12",
   "metadata": {},
   "outputs": [
    {
     "name": "stdout",
     "output_type": "stream",
     "text": [
      "Original x-position: 0\n",
      "New x-position: 2\n"
     ]
    }
   ],
   "source": [
    "# alien.py - Example 5\n",
    "alien_0 = {'x_position': 0, 'y_position': 25, 'speed': 'medium'}\n",
    "print(f\"Original x-position: {alien_0['x_position']}\")\n",
    "\n",
    "# Move the alien to the right\n",
    "# Determine how far to move the alien based on its current speed.\n",
    "if alien_0['speed'] == 'slow':\n",
    "    x_increment = 1\n",
    "elif alien_0['speed'] == 'medium':\n",
    "    x_increment = 2\n",
    "else:\n",
    "    # This must be a fast alien\n",
    "    x_increment = 3\n",
    "\n",
    "# The new position is the old position plus the increment\n",
    "alien_0['x_position'] = alien_0['x_position'] + x_increment\n",
    "\n",
    "print(f\"New x-position: {alien_0['x_position']}\")"
   ]
  },
  {
   "cell_type": "markdown",
   "id": "9ee37033-9beb-4bf4-be38-a0c1f29a87ee",
   "metadata": {},
   "source": [
    "#### Removing Key-Value Pairs "
   ]
  },
  {
   "cell_type": "markdown",
   "id": "54aef47c-6f0f-4b6f-84cc-2c2f0a69598a",
   "metadata": {},
   "source": [
    "When you no longer need a piece of information that’s stored in a dictionary, you can use the `del` statement to completely remove a key-value pair. All `del` needs is the name of the dictionary and the key that you want to remove."
   ]
  },
  {
   "cell_type": "code",
   "execution_count": 16,
   "id": "ab4803c9-e1bd-40ca-b66f-b33eab050384",
   "metadata": {},
   "outputs": [
    {
     "name": "stdout",
     "output_type": "stream",
     "text": [
      "{'color': 'green', 'points': 5}\n",
      "{'color': 'green'}\n"
     ]
    }
   ],
   "source": [
    "# alien.py - Example 6\n",
    "alien_0 = {'color': 'green', 'points': 5}\n",
    "print(alien_0)\n",
    "\n",
    "del alien_0['points']\n",
    "print(alien_0)"
   ]
  },
  {
   "cell_type": "markdown",
   "id": "d14c9759-af91-4c88-b012-eb1476aa3857",
   "metadata": {},
   "source": [
    "### A Dictionary of Similar objects\n",
    "The previous example involved storing different kinds of information about one object, an alien in a game. You can also use a dictionary to store one kind of information about many objects."
   ]
  },
  {
   "cell_type": "code",
   "execution_count": 17,
   "id": "8e16504c-6a0d-4bb6-9637-a578ad34cac8",
   "metadata": {},
   "outputs": [],
   "source": [
    "# favorite_languages.py - Example 1\n",
    "favorite_languages = {\n",
    "    'jen': 'python',\n",
    "    'sarah': 'c',\n",
    "    'edward': 'rust',\n",
    "    'phil': 'python',\n",
    "    }"
   ]
  },
  {
   "cell_type": "code",
   "execution_count": 21,
   "id": "b3c86d06-df59-47d5-b06c-7ad86dbcb450",
   "metadata": {},
   "outputs": [
    {
     "name": "stdout",
     "output_type": "stream",
     "text": [
      "Sarah's favorite language is C.\n"
     ]
    }
   ],
   "source": [
    "language = favorite_languages['sarah'].title()\n",
    "print(f\"Sarah's favorite language is {language}.\")"
   ]
  },
  {
   "cell_type": "markdown",
   "id": "76422ab4-cca9-47ed-9c49-757cbf94b736",
   "metadata": {},
   "source": [
    "### Using `get` to Acess Values"
   ]
  },
  {
   "cell_type": "markdown",
   "id": "41507912-131f-4525-a950-4b6f76fdceee",
   "metadata": {},
   "source": [
    "For dictionaries specifically, you can use the `get()` method to set  a default value that will be returned if the requested key doesn’t exist. The get( ) method requires a key as a first argument. *As a second optional argument, you can pass the value to be returned if the key doesn’t exist.*"
   ]
  },
  {
   "cell_type": "code",
   "execution_count": 22,
   "id": "93d5aafe-e847-43b5-a4ea-20b8dd5b0f86",
   "metadata": {},
   "outputs": [
    {
     "name": "stdout",
     "output_type": "stream",
     "text": [
      "No point value assigned.\n"
     ]
    }
   ],
   "source": [
    "# aliens.py - Example 7\n",
    "alien_0 = {'color': 'green', 'speed': 'slow'}\n",
    "point_value = alien_0.get('points', 'No point value assigned.')\n",
    "print(point_value)"
   ]
  },
  {
   "cell_type": "markdown",
   "id": "436f2848-0191-4ae0-8aa1-1ec5c1f90857",
   "metadata": {},
   "source": [
    "`Observation:`   \n",
    "- If the key 'points' exists in the dictionary, you’ll get the corresponding value. If it doesn’t, you get the default value.  \n",
    "- If you leave out the second argument in the call to get( ) and the key doesn’t exist, Python will return the value `None`. The special value None means “no value exists.” This is not an error: it’s a special value meant to indicate the absence of a value. "
   ]
  },
  {
   "cell_type": "markdown",
   "id": "360d93be-22d4-4a0f-9973-e3b6e17293e2",
   "metadata": {},
   "source": [
    "### Looping Through a Dictionary"
   ]
  },
  {
   "cell_type": "markdown",
   "id": "448981e7-9eca-49ac-906c-a0fb1c107578",
   "metadata": {},
   "source": [
    "#### Looping Through All Key-Value Pairs - `items()`\n",
    "You can access any single piece of information about user_0 based on what you’ve already learned in this chapter. But what if you wanted to see everything stored in this user’s dictionary? To do so, you could loop through the dictionary using a for loop:"
   ]
  },
  {
   "cell_type": "code",
   "execution_count": 23,
   "id": "b3b263a2-9394-43e2-ac69-74925e39b7fd",
   "metadata": {},
   "outputs": [
    {
     "name": "stdout",
     "output_type": "stream",
     "text": [
      "\n",
      "Key: username\n",
      "Value: efermi\n",
      "\n",
      "Key: first\n",
      "Value: enrico\n",
      "\n",
      "Key: last\n",
      "Value: fermi\n"
     ]
    }
   ],
   "source": [
    "# user.py\n",
    "user_0 = {\n",
    "    'username': 'efermi',\n",
    "    'first': 'enrico',\n",
    "    'last': 'fermi',\n",
    "}\n",
    "\n",
    "for key, value in user_0.items():\n",
    "    print(f\"\\nKey: {key}\")\n",
    "    print(f\"Value: {value}\")"
   ]
  },
  {
   "cell_type": "markdown",
   "id": "59aefe96-8d44-48e5-a50f-f7fef9e8d9e9",
   "metadata": {},
   "source": [
    "`Observation:`  \n",
    "- To write a for loop for a dictionary, you create names for the two variables that will hold the key and value in each key-value pair. You can choose any names you want for these two variables.\n",
    "- The second half of the for statement includes the name of the dictionary followed by the method `items()`, which returns a sequence of key-value pairs. The for loop then assigns each of these pairs to the two variables provided."
   ]
  },
  {
   "cell_type": "code",
   "execution_count": 24,
   "id": "cfafe18e-e633-4b3a-9381-d06da9964d48",
   "metadata": {},
   "outputs": [
    {
     "name": "stdout",
     "output_type": "stream",
     "text": [
      "Jen's favorite language is Python.\n",
      "Sarah's favorite language is C.\n",
      "Edward's favorite language is Rust.\n",
      "Phil's favorite language is Python.\n"
     ]
    }
   ],
   "source": [
    "# favorite_languages.py - Example 2\n",
    "favorite_languages = {\n",
    "    'jen': 'python',\n",
    "    'sarah': 'c',\n",
    "    'edward': 'rust',\n",
    "    'phil': 'python',\n",
    "    }\n",
    "\n",
    "for name, language in favorite_languages.items():\n",
    "    print(f\"{name.title()}'s favorite language is {language.title()}.\")"
   ]
  },
  {
   "cell_type": "markdown",
   "id": "fee3b3e6-1c22-44cb-b65a-86e40a3760d8",
   "metadata": {},
   "source": [
    "#### Looping Through All the Keys in a Dictionary - `keys()`\n",
    "The `keys()` method is useful when you don’t need to work with all of the values in a dictionary."
   ]
  },
  {
   "cell_type": "code",
   "execution_count": 27,
   "id": "401adb2e-8884-4651-834d-de2397fadef8",
   "metadata": {},
   "outputs": [
    {
     "name": "stdout",
     "output_type": "stream",
     "text": [
      "Jen\n",
      "Sarah\n",
      "Edward\n",
      "Phil\n"
     ]
    }
   ],
   "source": [
    "# favorite_languages.py - Example 2\n",
    "favorite_languages = {\n",
    "    'jen': 'python',\n",
    "    'sarah': 'c',\n",
    "    'edward': 'rust',\n",
    "    'phil': 'python',\n",
    "    }\n",
    "\n",
    "for name in favorite_languages.keys():\n",
    "    print(name.title())"
   ]
  },
  {
   "cell_type": "markdown",
   "id": "d367c9ec-e689-4ccf-9589-c5c2ca7e1c53",
   "metadata": {},
   "source": [
    "`Observation:` You can choose to use the `keys()` method explicitly if it makes your code easier to read, or you can omit it if you wish. Because looping through the keys is actually the default behavior when looping through a dictionary, so this code would have exactly the same output if you wrote:"
   ]
  },
  {
   "cell_type": "code",
   "execution_count": 28,
   "id": "5852bbfe-5cfb-4824-b435-2b1e69a75474",
   "metadata": {},
   "outputs": [
    {
     "name": "stdout",
     "output_type": "stream",
     "text": [
      "Jen\n",
      "Sarah\n",
      "Edward\n",
      "Phil\n"
     ]
    }
   ],
   "source": [
    "# favorite_languages.py - Example 3\n",
    "favorite_languages = {\n",
    "    'jen': 'python',\n",
    "    'sarah': 'c',\n",
    "    'edward': 'rust',\n",
    "    'phil': 'python',\n",
    "    }\n",
    "\n",
    "for name in favorite_languages:\n",
    "    print(name.title())"
   ]
  },
  {
   "cell_type": "code",
   "execution_count": 30,
   "id": "9e291236-776a-4a2c-b114-64ee5c5ad042",
   "metadata": {},
   "outputs": [
    {
     "name": "stdout",
     "output_type": "stream",
     "text": [
      "Hi Jen.\n",
      "Hi Sarah.\n",
      "\tSarah, I see you love C!\n",
      "Hi Edward.\n",
      "Hi Phil.\n",
      "\tPhil, I see you love Python!\n"
     ]
    }
   ],
   "source": [
    "# favorite_languages.py - Example 4\n",
    "friends = ['phil', 'sarah']\n",
    "for name in favorite_languages.keys():\n",
    "    print(f\"Hi {name.title()}.\")\n",
    "    if name in friends:\n",
    "        language = favorite_languages[name].title()\n",
    "        print(f\"\\t{name.title()}, I see you love {language}!\")"
   ]
  },
  {
   "cell_type": "code",
   "execution_count": 31,
   "id": "4d7b42d8-3916-4ce2-ae2a-2fe99e6b76ff",
   "metadata": {},
   "outputs": [
    {
     "name": "stdout",
     "output_type": "stream",
     "text": [
      "Erin, please take our poll!\n"
     ]
    }
   ],
   "source": [
    "if 'erin' not in favorite_languages.keys():\n",
    "    print(\"Erin, please take our poll!\")"
   ]
  },
  {
   "cell_type": "markdown",
   "id": "36f5e38f-1fd9-4365-ba30-0e09469103a4",
   "metadata": {},
   "source": [
    "#### Looping Through a Dictionary's Keys in Order - `sorted()`\n",
    "\n",
    "A dictionary always maintains a clear connection between each key and\r\n",
    "its associated value, but you never get the items from a dictionary in any\r\n",
    "predictable order. That’s not a problem, because you’ll usually just want\r\n",
    "to obtain the correct value associated order:"
   ]
  },
  {
   "cell_type": "markdown",
   "id": "44274bb6-7bea-47e9-b929-b5416ff0cf83",
   "metadata": {},
   "source": [
    "- One way to return items in a certain order is to sort the keys as they’re\n",
    "returned in the for loop. You can use the `sorted()` function to get a copy of\n",
    "the keys in order:"
   ]
  },
  {
   "cell_type": "code",
   "execution_count": 2,
   "id": "d3440a13-f395-4d95-b29a-1341864c06c1",
   "metadata": {},
   "outputs": [
    {
     "name": "stdout",
     "output_type": "stream",
     "text": [
      "Edward, thank you for taking the poll.\n",
      "Jen, thank you for taking the poll.\n",
      "Phil, thank you for taking the poll.\n",
      "Sarah, thank you for taking the poll.\n"
     ]
    }
   ],
   "source": [
    "# favorite_languages.py - Example 5\n",
    "favorite_languages = {\n",
    "    'jen': 'python',\n",
    "    'sarah': 'c',\n",
    "    'edward': 'ruby',\n",
    "    'phil': 'python',\n",
    "}\n",
    "\n",
    "for name in sorted(favorite_languages.keys()):\n",
    "    print(name.title() + \", thank you for taking the poll.\")"
   ]
  },
  {
   "cell_type": "markdown",
   "id": "dafc60cc-9a36-4526-bf67-9dc0fe304ee9",
   "metadata": {},
   "source": [
    "#### Looping Through All Values in a Dictionary - `values()`\n",
    "If you are primarily interested in the values that a dictionary contains,\r\n",
    "you can use the` values(`) method to return a list of values without any keys. \r"
   ]
  },
  {
   "cell_type": "code",
   "execution_count": 1,
   "id": "e09dc363-38e2-42fb-9bcd-e6c00fae71a7",
   "metadata": {},
   "outputs": [
    {
     "name": "stdout",
     "output_type": "stream",
     "text": [
      "The following languages have been mentioned:\n",
      "Python\n",
      "C\n",
      "Ruby\n",
      "Python\n"
     ]
    }
   ],
   "source": [
    "# favorite_languages.py - Example 6\n",
    "favorite_languages = {\n",
    "    'jen': 'python',\n",
    "    'sarah': 'c',\n",
    "    'edward': 'ruby',\n",
    "    'phil': 'python',\n",
    "}\n",
    "print(\"The following languages have been mentioned:\")\n",
    "for language in favorite_languages.values():\n",
    "    print(language.title())"
   ]
  },
  {
   "cell_type": "markdown",
   "id": "083807cc-5573-47e6-b155-831f6f1b9f46",
   "metadata": {},
   "source": [
    "`Observation:` This approach pulls all the values from the dictionary without checking\n",
    "for repeats. That might work fine with a small number of values, but in a\n",
    "poll with a large number of respondents, this would result in a very repetitive list. To see each language chosen without repetition, we can use a `set()`"
   ]
  },
  {
   "cell_type": "code",
   "execution_count": 5,
   "id": "364558d2-b018-4216-814d-f009676bdfcb",
   "metadata": {},
   "outputs": [
    {
     "name": "stdout",
     "output_type": "stream",
     "text": [
      "Ruby\n",
      "Python\n",
      "C\n"
     ]
    }
   ],
   "source": [
    "for language in set(favorite_languages.values()):\n",
    "    print(language.title())"
   ]
  },
  {
   "cell_type": "markdown",
   "id": "57132297-201c-4edd-868e-4bfe1a487f23",
   "metadata": {},
   "source": [
    "### Nesting\n",
    "Sometimes you’ll want to store a set of dictionaries in a list or a list of\r\n",
    "items as a value in a dictionary. This is called nesting. You can nest a set\r\n",
    "of dictionaries inside a list, a list of items inside a dictionary, or even a\r\n",
    "dictionary inside another dictionary."
   ]
  },
  {
   "cell_type": "markdown",
   "id": "1d3dd3ee-0fe4-4770-927d-aaf2f9ba043b",
   "metadata": {},
   "source": [
    "#### A list of Dictionaries\n",
    "\n",
    "The alien_0 dictionary contains a variety of information about one alien,\r\n",
    "but it has no room to store information about a second alien, much less a\r\n",
    "screen full of aliens. How can you manage a fleet of aliens? One way is to\r\n",
    "make a list of aliens in which each alien is a dictionary of information about\r\n",
    "that a.lien"
   ]
  },
  {
   "cell_type": "code",
   "execution_count": 6,
   "id": "135036b9-308f-4adf-9815-f4af8baeffb1",
   "metadata": {},
   "outputs": [
    {
     "name": "stdout",
     "output_type": "stream",
     "text": [
      "{'color': 'green', 'points': 5}\n",
      "{'color': 'yellow', 'points': 10}\n",
      "{'color': 'red', 'points': 15}\n"
     ]
    }
   ],
   "source": [
    "# aliens.py - Example 7\n",
    "alien_0 = {'color': 'green', 'points': 5}\n",
    "alien_1 = {'color': 'yellow', 'points': 10}\n",
    "alien_2 = {'color': 'red', 'points': 15}\n",
    "\n",
    "aliens = [alien_0, alien_1, alien_2]\n",
    "\n",
    "for alien in aliens:\n",
    "    print(alien)"
   ]
  },
  {
   "cell_type": "code",
   "execution_count": 8,
   "id": "f5b987e2-067f-4908-a0cc-1310cd64c62e",
   "metadata": {},
   "outputs": [
    {
     "name": "stdout",
     "output_type": "stream",
     "text": [
      "{'color': 'green', 'points': 5, 'speed': 'slow'}\n",
      "{'color': 'green', 'points': 5, 'speed': 'slow'}\n",
      "{'color': 'green', 'points': 5, 'speed': 'slow'}\n",
      "{'color': 'green', 'points': 5, 'speed': 'slow'}\n",
      "{'color': 'green', 'points': 5, 'speed': 'slow'}\n",
      "...\n",
      "Total number of aliens: 30\n"
     ]
    }
   ],
   "source": [
    "# aliens.py - Example 8\n",
    "# Make an empty list for storing aliens.\n",
    "aliens = []\n",
    "\n",
    "# Make 30 green aliens. \n",
    "for alien_number in range(30):\n",
    "    new_alien = {'color': 'green', 'points': 5, 'speed': 'slow'}\n",
    "    aliens.append(new_alien)\n",
    "\n",
    "# Show the first 5 aliens:\n",
    "for alien in aliens[:5]:\n",
    "    print(alien)\n",
    "print(\"...\")\n",
    "\n",
    "# Show how many aliens have been created.\n",
    "print(\"Total number of aliens: \" + str(len(aliens)))"
   ]
  },
  {
   "cell_type": "markdown",
   "id": "a3fcc608-5058-4351-8212-7481bee71843",
   "metadata": {},
   "source": [
    "These aliens all have the same characteristics, but Python considers each\n",
    "one a separate object, which allows us to modify each alien individually.\n",
    "How might you work with a set of aliens like this?  Imagine that one\n",
    "aspect of a game has some aliens changing color and moving faster as the\n",
    "game progresses. When it’s time to change colors, we can use a for loop and\n",
    "an if statement to change the color of aliens. For example, to change the\n",
    "first three aliens to yellow, medium-speed aliens worth 10 points each, we\n",
    "could do this:"
   ]
  },
  {
   "cell_type": "code",
   "execution_count": 10,
   "id": "63633f5f-1107-4a11-ad25-0b8a22b30e1c",
   "metadata": {},
   "outputs": [
    {
     "name": "stdout",
     "output_type": "stream",
     "text": [
      "{'color': 'yellow', 'points': 10, 'speed': 'medium'}\n",
      "{'color': 'yellow', 'points': 10, 'speed': 'medium'}\n",
      "{'color': 'yellow', 'points': 10, 'speed': 'medium'}\n",
      "{'color': 'green', 'points': 5, 'speed': 'slow'}\n",
      "{'color': 'green', 'points': 5, 'speed': 'slow'}\n",
      "...\n",
      "Total number of aliens: 30\n"
     ]
    }
   ],
   "source": [
    "# aliens.py - Example 9\n",
    "# Make an empty list for storing aliens.\n",
    "aliens = []\n",
    "\n",
    "# Make 30 green aliens. \n",
    "for alien_number in range(30):\n",
    "    new_alien = {'color': 'green', 'points': 5, 'speed': 'slow'}\n",
    "    aliens.append(new_alien)\n",
    "\n",
    "for alien in aliens[0:3]:\n",
    "    if alien['color'] == 'green':\n",
    "        alien['color'] = 'yellow'\n",
    "        alien['speed'] = 'medium'\n",
    "        alien['points'] = 10\n",
    "    \n",
    "    elif alien['color'] == 'yellow':\n",
    "        alien['color'] = 'red'\n",
    "        alien['speed'] = 'fast'\n",
    "        alien['points'] = 15\n",
    "\n",
    "# Show the first 5 aliens:\n",
    "for alien in aliens[:5]:\n",
    "    print(alien)\n",
    "print(\"...\")\n",
    "\n",
    "# Show how many aliens have been created.\n",
    "print(\"Total number of aliens: \" + str(len(aliens)))"
   ]
  },
  {
   "cell_type": "markdown",
   "id": "8533e4df-781b-42f1-939c-290d1b3877a1",
   "metadata": {},
   "source": [
    "#### A List in a Dictionary\n",
    "Rather than putting a dictionary inside a list, it’s sometimes useful to put\r\n",
    "a list inside a dictionary. For example, consider how you might describe a\r\n",
    "pizza that someone is ordering. If you were to use only a list, all you could\r\n",
    "really store is a list of the pizza’s toppings. With a dictionary, a list of toppings can be just one aspect of the pizza you’re describing."
   ]
  },
  {
   "cell_type": "code",
   "execution_count": 11,
   "id": "a9803c87-8efb-46d3-a759-e1271b1ba4d1",
   "metadata": {},
   "outputs": [
    {
     "name": "stdout",
     "output_type": "stream",
     "text": [
      "You ordered a thick-crust pizza with the follow toppings:\n",
      "\tmushrooms\n",
      "\textra cheese\n"
     ]
    }
   ],
   "source": [
    "# pizza.py - Example 1\n",
    "# Store information about a pizza being ordered.\n",
    "pizza = {\n",
    "    'crust': 'thick',\n",
    "    'toppings': ['mushrooms', 'extra cheese'],\n",
    "    }\n",
    "print(\"You ordered a \" + pizza['crust'] + \"-crust pizza \" + \n",
    "      \"with the follow toppings:\")\n",
    "for topping in pizza['toppings']:\n",
    "    print(\"\\t\" + topping)"
   ]
  },
  {
   "cell_type": "code",
   "execution_count": 15,
   "id": "bb3ffcf3-69c7-44ee-a280-8234b57c9778",
   "metadata": {},
   "outputs": [
    {
     "name": "stdout",
     "output_type": "stream",
     "text": [
      "\n",
      "Jen's favorite languages are:\n",
      "\tPython\n",
      "\tRuby\n",
      "\n",
      "Sarah's favorite languages is:\n",
      "\tC\n",
      "\n",
      "Edward's favorite languages are:\n",
      "\tRuby\n",
      "\tGo\n",
      "\n",
      "Phil's favorite languages are:\n",
      "\tPython\n",
      "\tHaskell\n"
     ]
    }
   ],
   "source": [
    "# favorite_languages.py\n",
    "favorite_languages = {\n",
    "    'jen': ['python', 'ruby'],\n",
    "    'sarah': ['c'],\n",
    "    'edward': ['ruby', 'go'],\n",
    "    'phil': ['python', 'haskell'],\n",
    "}\n",
    "\n",
    "for name, languages in favorite_languages.items():\n",
    "    if len(languages) == 1:\n",
    "        print(\"\\n\" + name.title() + \"'s favorite languages is:\")\n",
    "    else:\n",
    "        print(\"\\n\" + name.title() + \"'s favorite languages are:\")\n",
    "    for language in languages:\n",
    "        print(\"\\t\" + language.title())"
   ]
  },
  {
   "cell_type": "markdown",
   "id": "9dd3af97-e21f-4885-94d5-ffc40ada051a",
   "metadata": {},
   "source": [
    "As you can see at u the value associated with each name is now a list.\n",
    "Notice that some people have one favorite language and others have\n",
    "multiple favorites. When we loop through the dictionary at v, we use the\n",
    "variable name languages to hold each value from the dictionary, because we\n",
    "know that each value will be a list."
   ]
  },
  {
   "cell_type": "markdown",
   "id": "050c0aed-ac52-4654-936e-564451f0e3a0",
   "metadata": {},
   "source": [
    "#### A Dictionary in a Dictionary\n",
    "You can nest a dictionary inside another dictionary, but your code can get\r\n",
    "complicated quickly when you do. For example, if you have several users\r\n",
    "for a website, each with a unique username, you can use the usernames as\r\n",
    "the keys in a dictionary. You can then store information about each user by\r\n",
    "using a dictionary as the value associated with their username."
   ]
  },
  {
   "cell_type": "code",
   "execution_count": 16,
   "id": "030d0fd2-2f41-4c31-bce8-609a7b5e3a87",
   "metadata": {},
   "outputs": [
    {
     "name": "stdout",
     "output_type": "stream",
     "text": [
      "\n",
      "Username: aeinstein\n",
      "\tFull name: Albert Einstein\n",
      "\tLocation: Princeton\n",
      "\n",
      "Username: mcurie\n",
      "\tFull name: Marie Curie\n",
      "\tLocation: Paries\n"
     ]
    }
   ],
   "source": [
    "# many_users.py\n",
    "users = {\n",
    "    'aeinstein': {\n",
    "        'first': 'albert',\n",
    "        'last': 'einstein',\n",
    "        'location': 'princeton',\n",
    "    },\n",
    "    'mcurie':{\n",
    "        'first': 'marie',\n",
    "        'last': 'curie',\n",
    "        'location': 'paries',\n",
    "    },\n",
    "}\n",
    "\n",
    "for username, user_info in users.items():\n",
    "    print(\"\\nUsername: \" + username)\n",
    "    full_name = user_info['first'] + \" \" + user_info['last']\n",
    "    location = user_info['location']\n",
    "\n",
    "    print(\"\\tFull name: \" + full_name.title())\n",
    "    print(\"\\tLocation: \" + location.title())"
   ]
  }
 ],
 "metadata": {
  "kernelspec": {
   "display_name": "Python 3 (ipykernel)",
   "language": "python",
   "name": "python3"
  },
  "language_info": {
   "codemirror_mode": {
    "name": "ipython",
    "version": 3
   },
   "file_extension": ".py",
   "mimetype": "text/x-python",
   "name": "python",
   "nbconvert_exporter": "python",
   "pygments_lexer": "ipython3",
   "version": "3.12.4"
  }
 },
 "nbformat": 4,
 "nbformat_minor": 5
}
