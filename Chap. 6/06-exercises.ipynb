{
 "cells": [
  {
   "cell_type": "markdown",
   "id": "db2988bb-5e9d-4c60-80a3-0273cc766e01",
   "metadata": {},
   "source": [
    "# Python Crash Course\n",
    "## Chapter 6 - Exercises"
   ]
  },
  {
   "cell_type": "markdown",
   "id": "d8fb924a-776c-40de-b292-2e38ebe53e54",
   "metadata": {},
   "source": [
    "### 6-1. Person: \n",
    "Use a dictionary to store information about a person you know. Store their first name, last name, age, and the city in which they live. You should have keys such as first_name, last_name, age, and city. Print each piece  of information stored in your dictionary."
   ]
  },
  {
   "cell_type": "code",
   "execution_count": 8,
   "id": "6c3e3c6d-85b2-4dce-a6b0-268fd97efc85",
   "metadata": {},
   "outputs": [
    {
     "name": "stdout",
     "output_type": "stream",
     "text": [
      "First Name: Michael\n",
      "Last Name: Faraday\n",
      "Age: 75\n",
      "City: London\n"
     ]
    }
   ],
   "source": [
    "person = {'first_name': 'Michael', 'last_name': 'Faraday', 'age': 75, 'city': 'london'}\n",
    "\n",
    "print(f\"First Name: {person['first_name']}\")\n",
    "print(f\"Last Name: {person['last_name']}\")\n",
    "print(f\"Age: {person['age']}\")\n",
    "print(f\"City: {person['city'].title()}\")"
   ]
  },
  {
   "cell_type": "markdown",
   "id": "0ceb158e-d3f8-4e3d-a189-61611d9383ef",
   "metadata": {},
   "source": [
    "### 6-2. Favorite Numbers: \n",
    "Use a dictionary to store people’s favorite numbers. Think of five names, and use them as keys in your dictionary. Think of a favorite number for each person, and store each as a value in your dictionary. Print each person’s name and their favorite number. For even more fun, poll a few friends and get some actual data for your program. "
   ]
  },
  {
   "cell_type": "code",
   "execution_count": 11,
   "id": "4ef8786c-0593-4d07-a779-4c57ede898fd",
   "metadata": {},
   "outputs": [
    {
     "name": "stdout",
     "output_type": "stream",
     "text": [
      "Rob's favorite number is 37.\n",
      "Joseph's favorite number is 13.\n",
      "Michael's favorite number is 22.\n",
      "Marie's favorite number is 84.\n",
      "Albert's favorite number is 26.\n"
     ]
    }
   ],
   "source": [
    "fav_numbers = {'rob': 37, 'joseph': 13, 'michael': 22, 'marie': 84, 'albert': 26}\n",
    "\n",
    "for name, fav_number in fav_numbers.items():\n",
    "    print(f\"{name.title()}'s favorite number is {fav_number}.\") "
   ]
  },
  {
   "cell_type": "markdown",
   "id": "a51a7f61-2b50-4094-b36a-809ac3656679",
   "metadata": {},
   "source": [
    "### 6-3. Glossary: \n",
    "A Python dictionary can be used to model an actual dictionary. However, to avoid confusion, let’s call it a glossary.  \n",
    "- Think of five programming words you’ve learned about in the previous chapters. Use these words as the keys in your glossary, and store their meanings as values.  \n",
    "- Print each word and its meaning as neatly formatted output. You might print the word followed by a colon and then its meaning, or print the word on one line and then print its meaning indented on a second line. Use the newline character (\\n) to insert a blank line between each word-meaning pair in your output."
   ]
  },
  {
   "cell_type": "code",
   "execution_count": 25,
   "id": "eb1125ea-cdea-4233-ab2e-71375fc2a8c0",
   "metadata": {},
   "outputs": [
    {
     "name": "stdout",
     "output_type": "stream",
     "text": [
      "items(): Returns a sequence of key-value pairs.\n",
      "\n",
      "keys(): Returns just the keys of a dictionary.\n",
      "\n",
      "values(): Returns just the values of a dictionary.\n",
      "\n",
      "append(): Add an element in a list or in a dictionary.\n",
      "\n",
      "set(): Returns the values from the dictionary without repeats.\n"
     ]
    }
   ],
   "source": [
    "glossary = {\n",
    "    'items()': 'Returns a sequence of key-value pairs.',\n",
    "    'keys()': 'Returns just the keys of a dictionary.',\n",
    "    'values()': 'Returns just the values of a dictionary.',\n",
    "    'append()': 'Add an element in a list or in a dictionary.',\n",
    "    'set()': 'Returns the values from the dictionary without repeats.'\n",
    "}\n",
    "\n",
    "print(f\"items(): {glossary['items()']}\")\n",
    "print(f\"\\nkeys(): {glossary['keys()']}\")\n",
    "print(f\"\\nvalues(): {glossary['values()']}\")\n",
    "print(f\"\\nappend(): {glossary['append()']}\")\n",
    "print(f\"\\nset(): {glossary['set()']}\")"
   ]
  },
  {
   "cell_type": "markdown",
   "id": "a105c2e0-d171-4de6-a729-9637fe2b46e0",
   "metadata": {},
   "source": [
    "### 6-4. Glossary 2: \n",
    "Now that you know how to loop through a dictionary, clean\n",
    "up the code from Exercise 6-3 (page 102) by replacing your series of print\n",
    "statements with a loop that runs through the dictionary’s keys and values.\n",
    "When you’re sure that your loop works, add five more Python terms to your\n",
    "glossary. When you run your program again, these new words and meanings\n",
    "should automatically be included in the output."
   ]
  },
  {
   "cell_type": "code",
   "execution_count": 16,
   "id": "a3ac8c7f-9979-447a-98d7-ca082280d779",
   "metadata": {},
   "outputs": [
    {
     "name": "stdout",
     "output_type": "stream",
     "text": [
      "*items():\n",
      "Returns a sequence of key-value pairs.\n",
      "\n",
      "*keys():\n",
      "Returns just the keys of a dictionary.\n",
      "\n",
      "*values():\n",
      "Returns just the values of a dictionary.\n",
      "\n",
      "*append():\n",
      "Add an element in a list or in a dictionary.\n",
      "\n",
      "*set():\n",
      "Returns the values from the dictionary without repeats.\n",
      "\n",
      "*range():\n",
      "It counts the first value you provide and stops when it reaches the second value you provide.\n",
      "\n",
      "*min():\n",
      "It gives the minimum value in a list of numbers\n",
      "\n",
      "*max():\n",
      "It gives the maximum value in a list of numbers\n",
      "\n",
      "*sum():\n",
      "It gives the sum of the values in a list of numbers\n",
      "\n"
     ]
    }
   ],
   "source": [
    "glossary = {\n",
    "    'items()': 'Returns a sequence of key-value pairs.',\n",
    "    'keys()': 'Returns just the keys of a dictionary.',\n",
    "    'values()': 'Returns just the values of a dictionary.',\n",
    "    'append()': 'Add an element in a list or in a dictionary.',\n",
    "    'set()': 'Returns the values from the dictionary without repeats.',\n",
    "    'range()': 'It counts the first value you provide and stops when it reaches the second value you provide.',\n",
    "    'min()': 'It gives the minimum value in a list of numbers',\n",
    "    'max()': 'It gives the maximum value in a list of numbers',\n",
    "    'sum()': 'It gives the sum of the values in a list of numbers',\n",
    "}    \n",
    "\n",
    "for method, meaning in glossary.items():\n",
    "    print(f\"*{method}:\")\n",
    "    print(f\"{meaning}\\n\")"
   ]
  },
  {
   "cell_type": "markdown",
   "id": "ea716f7c-19e1-4074-883d-92be82ba15ed",
   "metadata": {},
   "source": [
    "### 6-5. Rivers: \n",
    "\n",
    "Make a dictionary containing three major rivers and the country\n",
    "each river runs through. One key-value pair might be 'nile': 'egypt'.  \n",
    "- Use a loop to print a sentence about each river, such as The Nile runs\n",
    "through Egypt.\n",
    "- Use a loop to print the name of each river included in the dictionary.\n",
    "- Use a loop to print the name of each country included in the dictionary"
   ]
  },
  {
   "cell_type": "code",
   "execution_count": 34,
   "id": "d3ad8010-7c1b-4d9d-b0b2-9eef62b68a59",
   "metadata": {},
   "outputs": [
    {
     "name": "stdout",
     "output_type": "stream",
     "text": [
      "The Nile runs through Egypt.\n",
      "The Amazon runs through Brazil.\n",
      "The Yangtze runs through China.\n",
      "\n",
      "The three largest rivers in the world are:\n",
      "\t- Nile\n",
      "\t- Amazon\n",
      "\t- Yangtze\n",
      "\n",
      "These three rivers are in:\n",
      "\t- Egypt\n",
      "\t- Brazil\n",
      "\t- China\n"
     ]
    }
   ],
   "source": [
    "rivers = {\n",
    "    'nile': 'egypt',\n",
    "    'amazon': 'brazil',\n",
    "    'Yangtze': 'china',\n",
    "}\n",
    "\n",
    "for river, country in rivers.items():\n",
    "    print(f\"The {river.title()} runs through {country.title()}.\")\n",
    "\n",
    "print(\"\\nThe three largest rivers in the world are:\")\n",
    "for river in rivers.keys():\n",
    "    print(f\"\\t- {river.title()}\")\n",
    "\n",
    "print(\"\\nThese three rivers are in:\")\n",
    "for country in rivers.values():\n",
    "    print(f\"\\t- {country.title()}\")"
   ]
  },
  {
   "cell_type": "markdown",
   "id": "79f657a1-7259-4d5f-acd2-5ae57a0eb4d0",
   "metadata": {},
   "source": [
    "### 6-6. Polling: \n",
    "Use the code in favorite_languages.py (page 104).  \n",
    "- Make a list of people who should take the favorite languages poll. Include\n",
    "some names that are already in the dictionary and some that are not.  \n",
    "- Loop through the list of people who should take the poll. If they have\n",
    "already taken the poll, print a message thanking them for responding. If they have not yet taken the poll, print a message inviting them to take\n",
    "the poll"
   ]
  },
  {
   "cell_type": "code",
   "execution_count": 47,
   "id": "17dda750-d8ae-4601-8a40-e33ed4e93f09",
   "metadata": {},
   "outputs": [
    {
     "name": "stdout",
     "output_type": "stream",
     "text": [
      "Jen's favorite language is Python.\n",
      "Thanks Jen for responding our poll!\n",
      "\n",
      "Sarah's favorite language is C.\n",
      "Thanks Sarah for responding our poll!\n",
      "\n",
      "Edward's favorite language is Ruby.\n",
      "Thanks Edward for responding our poll!\n",
      "\n",
      "Phil's favorite language is Python.\n",
      "Thanks Phil for responding our poll!\n",
      "\n",
      "Isadora, please take our poll!\n",
      "Johannes, please take our poll!\n"
     ]
    }
   ],
   "source": [
    "favorite_languages = {\n",
    "    'jen': 'python',\n",
    "    'sarah': 'c',\n",
    "    'edward': 'ruby',\n",
    "    'phil': 'python',\n",
    "}\n",
    "\n",
    "for name, language in favorite_languages.items():\n",
    "    print(name.title() + \"'s favorite language is \" \n",
    "          + language.title() + \".\")\n",
    "    print(f\"Thanks {name.title()} for responding our poll!\\n\")\n",
    "\n",
    "if 'isadora' not in favorite_languages.keys():\n",
    "    print(\"Isadora, please take our poll!\")\n",
    "\n",
    "if 'johannes' not in favorite_languages.keys():\n",
    "    print(\"Johannes, please take our poll!\")\n",
    "\n"
   ]
  },
  {
   "cell_type": "markdown",
   "id": "07525a47-9808-4af9-8896-14850abed700",
   "metadata": {},
   "source": [
    "### 6-7. People: \n",
    "Start with the program you wrote for Exercise 6-1 (page 102).\n",
    "Make two new dictionaries representing different people, and store all three\n",
    "dictionaries in a list called people. Loop through your list of people. As you\n",
    "loop through the list, print everything you know about each person."
   ]
  },
  {
   "cell_type": "code",
   "execution_count": 69,
   "id": "54c2f73e-0771-49d0-8f2b-a21c11c124a8",
   "metadata": {},
   "outputs": [
    {
     "name": "stdout",
     "output_type": "stream",
     "text": [
      "first_name: michael\n",
      "last_name: faraday\n",
      "age: 75\n",
      "city: london\n",
      "\n",
      "first_name: david\n",
      "last_name: bohm\n",
      "age: 74\n",
      "city: hendon\n",
      "\n",
      "first_name: richard\n",
      "last_name: feynman\n",
      "age: 69\n",
      "city: los angeles\n",
      "\n"
     ]
    }
   ],
   "source": [
    "person_0 = {'first_name': 'michael', 'last_name': 'faraday', 'age': 75, 'city': 'london'}\n",
    "person_1 = {'first_name': 'david', 'last_name': 'bohm', 'age': 74, 'city': 'hendon'}\n",
    "person_2 = {'first_name': 'richard', 'last_name': 'feynman', 'age': 69, 'city': 'los angeles'}\n",
    "\n",
    "people = []\n",
    "people.append(person_0)\n",
    "people.append(person_1)\n",
    "people.append(person_2)\n",
    "\n",
    "for person in people:\n",
    "    for key, value in person.items():\n",
    "        print(f\"{key}: {value}\")\n",
    "    print()"
   ]
  },
  {
   "cell_type": "markdown",
   "id": "83f062d2-6302-4e88-8b5d-55cd520d39a6",
   "metadata": {},
   "source": [
    "### 6-8. Pets: \n",
    "Make several dictionaries, where the name of each dictionary is the\n",
    "name of a pet. In each dictionary, include the kind of animal and the owner’s\n",
    "name. Store these dictionaries in a list called pets. Next, loop through your list\n",
    "and as you do print everything you know about each pet."
   ]
  },
  {
   "cell_type": "code",
   "execution_count": 81,
   "id": "a200cf35-a480-4219-8315-2b7446be3835",
   "metadata": {},
   "outputs": [
    {
     "name": "stdout",
     "output_type": "stream",
     "text": [
      "Name: Ela\n",
      "Specie: Cat\n",
      "Owner: Gabriela\n",
      "\n",
      "Name: Pinho\n",
      "Specie: Cat\n",
      "Owner: Talles\n",
      "\n",
      "Name: Nala\n",
      "Specie: Cat\n",
      "Owner: Ale\n",
      "\n",
      "Name: Juan\n",
      "Specie: Cat\n",
      "Owner: Barbara\n",
      "\n",
      "Name: Arthemis\n",
      "Specie: Dog\n",
      "Owner: Carlos\n",
      "\n",
      "Name: Blue\n",
      "Specie: Australian Parakeet\n",
      "Owner: Gabriela\n",
      "\n"
     ]
    }
   ],
   "source": [
    "pets = {\n",
    "        'ela': {'specie': 'cat', 'owner': 'gabriela'},\n",
    "        'pinho': {'specie': 'cat', 'owner': 'talles'},\n",
    "        'nala': {'specie': 'cat', 'owner': 'ale'},\n",
    "        'juan': {'specie': 'cat', 'owner': 'barbara'},\n",
    "        'arthemis': {'specie': 'dog', 'owner': 'carlos'},\n",
    "        'blue': {'specie': 'australian parakeet', 'owner': 'gabriela'},\n",
    "}\n",
    "\n",
    "for pet_name, info in pets.items():\n",
    "    print(f\"Name: {pet_name.title()}\")\n",
    "    for key, value in info.items():\n",
    "        print(f\"{key.title()}: {value.title()}\")\n",
    "    print()"
   ]
  },
  {
   "cell_type": "markdown",
   "id": "5d243523-fc49-4fdf-b82a-23f1b03fd3f9",
   "metadata": {},
   "source": [
    "### 6-9. Favorite Places: \n",
    "Make a dictionary called favorite_places. Think of three\n",
    "names to use as keys in the dictionary, and store one to three favorite places\n",
    "for each person. To make this exercise a bit more interesting, ask some friends\n",
    "to name a few of their favorite places. Loop through the dictionary, and print\n",
    "each person’s name and their favorite places."
   ]
  },
  {
   "cell_type": "code",
   "execution_count": 8,
   "id": "935c622f-1992-46e6-97c7-b91e7977c175",
   "metadata": {},
   "outputs": [
    {
     "name": "stdout",
     "output_type": "stream",
     "text": [
      "Harry's favorite place is Quidditch pitch.\n",
      "Ron's favorite place is Quidditch pitch.\n",
      "Hermione's favorite place is Hogwarts library.\n",
      "Malfoy's favorite place is Malfoy manor.\n"
     ]
    }
   ],
   "source": [
    "favorite_places = {'harry': 'quidditch pitch', 'ron': 'quidditch pitch', 'hermione': 'hogwarts library', 'malfoy': 'malfoy manor'}\n",
    "\n",
    "for name, place in favorite_places.items():\n",
    "    print(f\"{name.title()}'s favorite place is {place.capitalize()}.\")"
   ]
  },
  {
   "cell_type": "markdown",
   "id": "02e0cf77-e3a1-4bc2-a319-9641f6371e39",
   "metadata": {},
   "source": [
    "### 6-10. Favorite Numbers:\n",
    "Modify your program from Exercise 6-2 (page 102) so\n",
    "each person can have more than one favorite number. Then print each person’s\n",
    "name along with their favorite numbers."
   ]
  },
  {
   "cell_type": "code",
   "execution_count": 15,
   "id": "8f2ddb1b-f954-4cf8-8061-7cb1dfc98b10",
   "metadata": {},
   "outputs": [
    {
     "name": "stdout",
     "output_type": "stream",
     "text": [
      "Rob's favorite number is [37, 13, 7].\n",
      "Joseph's favorite number is [13, 17].\n",
      "Michael's favorite number is [22, 144, 1].\n",
      "Marie's favorite number is [84, 16].\n",
      "Albert's favorite number is [26, 18].\n"
     ]
    }
   ],
   "source": [
    "fav_numbers = {'rob': [37, 13, 7], 'joseph': [13, 17], 'michael': [22, 144, 1], 'marie': [84, 16], 'albert': [26, 18]}\n",
    "\n",
    "for name, fav_number in fav_numbers.items():\n",
    "    print(f\"{name.title()}'s favorite number is {fav_number}.\") "
   ]
  },
  {
   "cell_type": "markdown",
   "id": "e6f14788-ca3a-4d20-afd3-2db38c2083fe",
   "metadata": {},
   "source": [
    "### 6-11. Cities: \n",
    "Make a dictionary called cities. Use the names of three cities as\n",
    "keys in your dictionary. Create a dictionary of information about each city and\n",
    "include the country that the city is in, its approximate population, and one fact\n",
    "about that city. The keys for each city’s dictionary should be something like\n",
    "country, population, and fact. Print the name of each city and all of the information you have stored about it."
   ]
  },
  {
   "cell_type": "code",
   "execution_count": 26,
   "id": "9c8c6efe-5999-4085-bd42-9f1cfbc835e8",
   "metadata": {},
   "outputs": [
    {
     "name": "stdout",
     "output_type": "stream",
     "text": [
      "--------------------\n",
      "Tokyo\n",
      "Country: Japan\n",
      "Population: 13929286\n",
      "Fact: Tokyo Is The Most Populous City In The World.\n",
      "\n",
      "--------------------\n",
      "New York\n",
      "Country: Usa\n",
      "Population: 8419600\n",
      "Fact: New York City Is Known As The \"Big Apple.\"\n",
      "\n",
      "--------------------\n",
      "Paris\n",
      "Country: France\n",
      "Population: 2140526\n",
      "Fact: Paris Is Known For Its Art, Fashion, And The Eiffel Tower.\n",
      "\n"
     ]
    }
   ],
   "source": [
    "cities = {\n",
    "    'tokyo': {\n",
    "        'country': 'Japan',\n",
    "        'population': 13929286,  # População aproximada\n",
    "        'fact': 'Tokyo is the most populous city in the world.'\n",
    "    },\n",
    "    'new york': {\n",
    "        'country': 'USA',\n",
    "        'population': 8419600,  # População aproximada\n",
    "        'fact': 'New York City is known as the \"Big Apple.\"'\n",
    "    },\n",
    "    'paris': {\n",
    "        'country': 'France',\n",
    "        'population': 2140526,  # População aproximada\n",
    "        'fact': 'Paris is known for its art, fashion, and the Eiffel Tower.'\n",
    "    }\n",
    "}\n",
    "\n",
    "for city, info in cities.items():\n",
    "    print(\"--------------------\")\n",
    "    print(f\"{city.title()}\")\n",
    "    for key, value in info.items():\n",
    "        if key == 'population':\n",
    "            print(f\"{key.title()}: {value}\")\n",
    "        else:\n",
    "            print(f\"{key.title()}: {value.title()}\")\n",
    "    print()"
   ]
  }
 ],
 "metadata": {
  "kernelspec": {
   "display_name": "Python 3 (ipykernel)",
   "language": "python",
   "name": "python3"
  },
  "language_info": {
   "codemirror_mode": {
    "name": "ipython",
    "version": 3
   },
   "file_extension": ".py",
   "mimetype": "text/x-python",
   "name": "python",
   "nbconvert_exporter": "python",
   "pygments_lexer": "ipython3",
   "version": "3.12.4"
  }
 },
 "nbformat": 4,
 "nbformat_minor": 5
}
