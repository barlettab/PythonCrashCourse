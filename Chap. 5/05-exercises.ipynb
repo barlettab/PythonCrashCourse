{
 "cells": [
  {
   "cell_type": "markdown",
   "id": "aa8fe819-049e-4e47-bad3-68d17c067c37",
   "metadata": {},
   "source": [
    "# Python Crash Course\n",
    "## Chapter 5 - Exercises"
   ]
  },
  {
   "cell_type": "markdown",
   "id": "3ab61767-9a0d-4437-94f1-07842c2b1d7c",
   "metadata": {},
   "source": [
    "### 5-1. Conditional Tests:\n",
    "Write a series of conditional tests. Print a statement describing each test and your prediction for the results of each test. Your code should look something like this:"
   ]
  },
  {
   "cell_type": "code",
   "execution_count": 1,
   "id": "54c96f1c-7245-4a1a-a5d7-da3ba14fda95",
   "metadata": {},
   "outputs": [
    {
     "name": "stdout",
     "output_type": "stream",
     "text": [
      "Is car == 'subaru'? I predict True.\n",
      "True\n",
      "\n",
      "Is car == 'audi'? I predict False.\n",
      "False\n"
     ]
    }
   ],
   "source": [
    "car = 'subaru'\n",
    "print(\"Is car == 'subaru'? I predict True.\")\n",
    "print(car == 'subaru')\n",
    "\n",
    "print(\"\\nIs car == 'audi'? I predict False.\")\n",
    "print(car == 'audi')"
   ]
  },
  {
   "cell_type": "markdown",
   "id": "ea547f0d-705f-4b74-9bf1-6378f8de5a72",
   "metadata": {},
   "source": [
    "- Look closely at your results, and make sure you understand why each line evaluates to True or False.\n",
    "- Create at least 10 tests. Have at least 5 tests evaluate to True and another 5 tests evaluate to False."
   ]
  },
  {
   "cell_type": "code",
   "execution_count": 25,
   "id": "6cdb068a-2f7e-46b4-ae0d-c051d4db7dd8",
   "metadata": {},
   "outputs": [
    {
     "name": "stdout",
     "output_type": "stream",
     "text": [
      "Is cat == 'juan'? I predict True.\n",
      "True\n",
      "\n",
      "Is cat == 'nala'? I predict False.\n",
      "False\n"
     ]
    }
   ],
   "source": [
    "# test 1\n",
    "cat = 'juan'\n",
    "print(\"Is cat == 'juan'? I predict True.\")\n",
    "print(cat == 'juan')\n",
    "\n",
    "print(\"\\nIs cat == 'nala'? I predict False.\")\n",
    "print(cat == 'nala')"
   ]
  },
  {
   "cell_type": "code",
   "execution_count": 26,
   "id": "d3083161-8977-49e0-a219-99dd056c9464",
   "metadata": {},
   "outputs": [
    {
     "name": "stdout",
     "output_type": "stream",
     "text": [
      "Is fruit == 'watermelon'? I predict True.\n",
      "True\n",
      "\n",
      "Is fruit == 'tangerine'? I predict False.\n",
      "False\n"
     ]
    }
   ],
   "source": [
    "# test 2\n",
    "fruit = 'watermelon'\n",
    "print(\"Is fruit == 'watermelon'? I predict True.\")\n",
    "print(fruit == 'watermelon')\n",
    "\n",
    "print(\"\\nIs fruit == 'tangerine'? I predict False.\")\n",
    "print(fruit == 'nala')"
   ]
  },
  {
   "cell_type": "code",
   "execution_count": 27,
   "id": "6374fd5c-a8db-49cc-bcf0-bba31ab69024",
   "metadata": {},
   "outputs": [
    {
     "name": "stdout",
     "output_type": "stream",
     "text": [
      "Is weather == 'sunny'? I predict False.\n",
      "False\n",
      "\n",
      "Is weather == 'cloudy'? I predict True.\n",
      "True\n"
     ]
    }
   ],
   "source": [
    "# test 3\n",
    "weather = 'cloudy'\n",
    "print(\"Is weather == 'sunny'? I predict False.\")\n",
    "print(weather == 'sunny')\n",
    "\n",
    "print(\"\\nIs weather == 'cloudy'? I predict True.\")\n",
    "print(weather == 'cloudy')"
   ]
  },
  {
   "cell_type": "code",
   "execution_count": 28,
   "id": "b791be0f-a765-435a-b1d0-60164dca7746",
   "metadata": {},
   "outputs": [
    {
     "name": "stdout",
     "output_type": "stream",
     "text": [
      "Is programming language == 'Java'? I predict False.\n",
      "False\n",
      "\n",
      "Is programming == 'python'? I predict True.\n",
      "True\n"
     ]
    }
   ],
   "source": [
    "# test 4\n",
    "programming = 'python'\n",
    "print(\"Is programming language == 'Java'? I predict False.\")\n",
    "print(programming == 'Java')\n",
    "\n",
    "print(\"\\nIs programming == 'python'? I predict True.\")\n",
    "print(programming == 'python')"
   ]
  },
  {
   "cell_type": "code",
   "execution_count": 32,
   "id": "194b3ed6-a318-4bb8-a789-1eac134327f4",
   "metadata": {},
   "outputs": [
    {
     "name": "stdout",
     "output_type": "stream",
     "text": [
      "Is day == 'Friday'? I predict True.\n",
      "True\n",
      "\n",
      "Is day == 'saturday'? I predict False.\n",
      "False\n"
     ]
    }
   ],
   "source": [
    "# test 5\n",
    "day = 'Friday'\n",
    "print(\"Is day == 'Friday'? I predict True.\")\n",
    "print(day == 'Friday')\n",
    "\n",
    "print(\"\\nIs day == 'saturday'? I predict False.\")\n",
    "print(day == 'saturday')"
   ]
  },
  {
   "cell_type": "markdown",
   "id": "967f895a-795d-42c3-bf9a-12eb3b7e078e",
   "metadata": {},
   "source": [
    "### 5-2. More Conditional Tests: \n",
    "You don’t have to limit the number of tests you create to 10. If you want to try more comparisons, write more tests and add them to conditional_tests.py. Have at least one True and one False result for each of the following:  \n",
    "- Tests for equality and inequality with strings  \n",
    "- Tests using the `lower()` method  \n",
    "- Numerical tests involving equality and inequality, greater than and less than, greater than or equal to, and less than or equal to\n",
    "- Tests using the `and` keyword and the `or` keyword\n",
    "- Test whether an item is in a list\n",
    "- Test whether an item is not in a list"
   ]
  },
  {
   "cell_type": "code",
   "execution_count": 39,
   "id": "76b06155-15cd-45ff-bda1-50761cc6bf5c",
   "metadata": {},
   "outputs": [
    {
     "name": "stdout",
     "output_type": "stream",
     "text": [
      "Is country == 'Brazil'? I predict True.\n",
      "True\n",
      "\n",
      "Is country != 'Brazil'? I predict False.\n",
      "False\n"
     ]
    }
   ],
   "source": [
    "# test for equality and inequality with strings\n",
    "country = 'Brazil'\n",
    "print(\"Is country == 'Brazil'? I predict True.\")\n",
    "print(country == 'Brazil')\n",
    "\n",
    "print(\"\\nIs country != 'Brazil'? I predict False.\")\n",
    "print(country != 'Brazil')"
   ]
  },
  {
   "cell_type": "code",
   "execution_count": 42,
   "id": "b4d61b85-e41e-4160-9634-d274a7137ee9",
   "metadata": {},
   "outputs": [
    {
     "name": "stdout",
     "output_type": "stream",
     "text": [
      "Is country == 'Brazil'? I predict True.\n",
      "True\n"
     ]
    }
   ],
   "source": [
    "# testing using the lower method\n",
    "print(\"Is country == 'Brazil'? I predict True.\")\n",
    "print(country.lower() == 'brazil')"
   ]
  },
  {
   "cell_type": "code",
   "execution_count": 44,
   "id": "f7ede2aa-bb18-47c1-9284-1c6a614b18f4",
   "metadata": {},
   "outputs": [
    {
     "name": "stdout",
     "output_type": "stream",
     "text": [
      "Is age >= 65? I predict False.\n",
      "False\n",
      "\n",
      "Is age <= 65 ? I predict True.\n",
      "True\n"
     ]
    }
   ],
   "source": [
    "# test for equality and inequality with numbers\n",
    "age = 63\n",
    "print(\"Is age >= 65? I predict False.\")\n",
    "print(age >= 65)\n",
    "\n",
    "print(\"\\nIs age <= 65 ? I predict True.\")\n",
    "print(age <= 65)"
   ]
  },
  {
   "cell_type": "code",
   "execution_count": 48,
   "id": "cf6e0bde-166a-481f-a5c8-402d19e249f8",
   "metadata": {},
   "outputs": [
    {
     "name": "stdout",
     "output_type": "stream",
     "text": [
      "These ages are under 18 years old. I predict True.\n",
      "True\n",
      "\n",
      "These ages are over 18 years old. I predict False.\n",
      "False\n"
     ]
    }
   ],
   "source": [
    "# Test using the and keyword and the or keyword\n",
    "age_0 = 16\n",
    "age_1 = 14\n",
    "print(\"These ages are under 18 years old. I predict True.\")\n",
    "print((age_0 < 18) and (age_1 < 18))\n",
    "\n",
    "print(\"\\nThese ages are over 18 years old. I predict False.\")\n",
    "print(age_0 > 18 and age_1 > 18)"
   ]
  },
  {
   "cell_type": "code",
   "execution_count": 55,
   "id": "141a6e49-7b3a-4922-a195-f648e26eeb4a",
   "metadata": {},
   "outputs": [
    {
     "name": "stdout",
     "output_type": "stream",
     "text": [
      "ela mai is in the list\n",
      "True\n",
      "\n",
      "agatha is in the list\n",
      "False\n"
     ]
    }
   ],
   "source": [
    "# Test whether an item is in a list\n",
    "listA = ['ela mai', 'juan', 'nala']\n",
    "print(\"ela mai is in the list\")\n",
    "print('ela mai' in listA)\n",
    "\n",
    "print(\"\\nagatha is in the list\")\n",
    "print('agatha' in listA)"
   ]
  },
  {
   "cell_type": "code",
   "execution_count": 56,
   "id": "3bfbe3e3-e370-4565-9752-1684cd141bce",
   "metadata": {},
   "outputs": [
    {
     "name": "stdout",
     "output_type": "stream",
     "text": [
      "ela mai is not in the list B\n",
      "True\n"
     ]
    }
   ],
   "source": [
    "# Test whether an item is not in a list\n",
    "listB = ['clarice']\n",
    "\n",
    "print(\"ela mai is not in the list B\")\n",
    "print('ela mai' not in listB)\n"
   ]
  },
  {
   "cell_type": "markdown",
   "id": "efbca68c-44e7-491c-b2f0-e3ddc3b58af9",
   "metadata": {},
   "source": [
    "### 5-3. Alien Colors #1: \n",
    "Imagine an alien was just shot down in a game. Create a variable called alien_color and assign it a value of 'green', 'yellow', or 'red'.  \n",
    "- Write an if statement to test whether the alien’s color is green. If it is, print a message that the player just earned 5 points.\n",
    "-  Write one version of this program that passes the if test and another that fails. (The version that fails will have no output.)"
   ]
  },
  {
   "cell_type": "code",
   "execution_count": 8,
   "id": "f9c9d1ce-74a7-403e-9ae1-95b21296206c",
   "metadata": {},
   "outputs": [],
   "source": [
    "# version that fails\n",
    "alien_color = 'yellow'\n",
    "\n",
    "if alien_color == 'green':\n",
    "    print(\"You earned 5 points\")\n"
   ]
  },
  {
   "cell_type": "code",
   "execution_count": 9,
   "id": "9f5fde0e-735e-4b8c-8d37-d55c22b6449e",
   "metadata": {},
   "outputs": [
    {
     "name": "stdout",
     "output_type": "stream",
     "text": [
      "You earned 5 points!\n"
     ]
    }
   ],
   "source": [
    "# passing version\n",
    "alien_color = 'green'\n",
    "\n",
    "if alien_color == 'green':\n",
    "    print(\"You earned 5 points!\")"
   ]
  },
  {
   "cell_type": "markdown",
   "id": "c897550a-1efe-428f-8db1-59fb9b321133",
   "metadata": {
    "jp-MarkdownHeadingCollapsed": true
   },
   "source": [
    "### 5-4. Alien Colors #2: \n",
    "Choose a color for an alien as you did in Exercise 5-3, and write an if-else chain.  \n",
    "- If the alien’s color is green, print a statement that the player just earned 5 points for shooting the alien.\n",
    "- If the alien’s color isn’t green, print a statement that the player just earned 10 points.  \n",
    "- Write one version of this program that runs the if block and another that runs the else block."
   ]
  },
  {
   "cell_type": "code",
   "execution_count": 10,
   "id": "3bba9c91-4602-44fc-8f89-0e24901de7bb",
   "metadata": {},
   "outputs": [
    {
     "name": "stdout",
     "output_type": "stream",
     "text": [
      "You earned 5 points\n"
     ]
    }
   ],
   "source": [
    "# version that runs the if block\n",
    "alien_color = 'green'\n",
    "\n",
    "if alien_color == 'green':\n",
    "    print(\"You earned 5 points\")\n",
    "else:\n",
    "    print(\"You earned 10 points\")"
   ]
  },
  {
   "cell_type": "code",
   "execution_count": 11,
   "id": "81761af6-460b-4409-9221-4bd07f67a639",
   "metadata": {},
   "outputs": [
    {
     "name": "stdout",
     "output_type": "stream",
     "text": [
      "You earned 10 points\n"
     ]
    }
   ],
   "source": [
    "# version that runs the else block\n",
    "alien_color = 'red'\n",
    "\n",
    "if alien_color == 'green':\n",
    "    print(\"You earned 5 points\")\n",
    "else:\n",
    "    print(\"You earned 10 points\")"
   ]
  },
  {
   "cell_type": "markdown",
   "id": "aa270f1d-1686-4982-9442-08b3b800b48d",
   "metadata": {
    "jp-MarkdownHeadingCollapsed": true
   },
   "source": [
    "### 5-5. Alien Colors #3: \n",
    "Turn your if-else chain from Exercise 5-4 into an if-elifelse chain.  \n",
    "- If the alien is green, print a message that the player earned 5 points.  \n",
    "- If the alien is yellow, print a message that the player earned 10 points.  \n",
    "- If the alien is red, print a message that the player earned 15 points.  \n",
    "- Write three versions of this program, making sure each message is printed for the appropriate color alien."
   ]
  },
  {
   "cell_type": "code",
   "execution_count": 12,
   "id": "f3c9b882-3cea-49cd-ae54-8bdb06d710fc",
   "metadata": {},
   "outputs": [
    {
     "name": "stdout",
     "output_type": "stream",
     "text": [
      "You earned 15 points!\n"
     ]
    }
   ],
   "source": [
    "# version 1\n",
    "alien_color = 'red'\n",
    "\n",
    "if alien_color == 'green':\n",
    "    print(\"You earned 5 points!\")\n",
    "elif alien_color == 'yellow':\n",
    "    print(\"You earned 10 points!\")\n",
    "elif alien_color == 'red':\n",
    "    print(\"You earned 15 points!\")"
   ]
  },
  {
   "cell_type": "code",
   "execution_count": 13,
   "id": "f36e8d58-b95c-42e2-baf1-89248f27b928",
   "metadata": {},
   "outputs": [
    {
     "name": "stdout",
     "output_type": "stream",
     "text": [
      "You earned 5 points!\n"
     ]
    }
   ],
   "source": [
    "# version 2\n",
    "alien_color = 'green'\n",
    "\n",
    "if alien_color == 'green':\n",
    "    print(\"You earned 5 points!\")\n",
    "elif alien_color == 'yellow':\n",
    "    print(\"You earned 10 points!\")\n",
    "elif alien_color == 'red':\n",
    "    print(\"You earned 15 points!\")"
   ]
  },
  {
   "cell_type": "code",
   "execution_count": 14,
   "id": "a2f842c9-c47a-47be-889d-408dbe4f0ab3",
   "metadata": {},
   "outputs": [
    {
     "name": "stdout",
     "output_type": "stream",
     "text": [
      "You earned 10 points!\n"
     ]
    }
   ],
   "source": [
    "# version 3\n",
    "alien_color = 'yellow'\n",
    "\n",
    "if alien_color == 'green':\n",
    "    print(\"You earned 5 points!\")\n",
    "elif alien_color == 'yellow':\n",
    "    print(\"You earned 10 points!\")\n",
    "elif alien_color == 'red':\n",
    "    print(\"You earned 15 points!\")"
   ]
  },
  {
   "cell_type": "code",
   "execution_count": 15,
   "id": "337420ea-9c07-416d-8fa0-8771c13b34be",
   "metadata": {},
   "outputs": [],
   "source": [
    "# version 4\n",
    "alien_color = 'blue'\n",
    "\n",
    "if alien_color == 'green':\n",
    "    print(\"You earned 5 points!\")\n",
    "elif alien_color == 'yellow':\n",
    "    print(\"You earned 10 points!\")\n",
    "elif alien_color == 'red':\n",
    "    print(\"You earned 15 points!\")"
   ]
  },
  {
   "cell_type": "markdown",
   "id": "88705dc8-4b74-4ecd-a5f1-41312a93ee2b",
   "metadata": {
    "jp-MarkdownHeadingCollapsed": true
   },
   "source": [
    "### 5-6. Stages of Life:\n",
    "Write an if-elif-else chain that determines a person’s stage of life. Set a value for the variable age, and then:  \n",
    "- If the person is less than 2 years old, print a message that the person is  a baby.\n",
    "- If the person is at least 2 years old but less than 4, print a message that the person is a toddler.\n",
    "- If the person is at least 4 years old but less than 13, print a message that the person is a kid.\n",
    "- If the person is at least 13 years old but less than 20, print a message that the person is a teenager.\n",
    "- If the person is at least 20 years old but less than 65, print a message that the person is an adult.\n",
    "- If the person is age 65 or older, print a message that the person is an elder.\n"
   ]
  },
  {
   "cell_type": "code",
   "execution_count": 16,
   "id": "965a0b2a-b2af-460b-a8e5-2ac426a2dafb",
   "metadata": {},
   "outputs": [
    {
     "name": "stdout",
     "output_type": "stream",
     "text": [
      "You are an adult!\n"
     ]
    }
   ],
   "source": [
    "age = 34\n",
    "\n",
    "if age < 2:\n",
    "    print(\"You are a baby!\")\n",
    "elif age < 4:\n",
    "    print(\"You are a toddler!\")\n",
    "elif age < 13:\n",
    "    print(\"You are a kid!\")\n",
    "elif age < 20:\n",
    "    print(\"You are a teenager\")\n",
    "elif age < 65:\n",
    "    print(\"You are an adult!\")\n",
    "else:\n",
    "    print(\"You are an elder!\")"
   ]
  },
  {
   "cell_type": "markdown",
   "id": "2ced20e2-754d-41aa-9eba-7cc6c63ac829",
   "metadata": {
    "jp-MarkdownHeadingCollapsed": true
   },
   "source": [
    "### 5-7. Favorite Fruit:\n",
    "Make a list of your favorite fruits, and then write a series of independent if statements that check for certain fruits in your list.  \n",
    "- Make a list of your three favorite fruits and call it favorite_fruits.\n",
    "- Write five if statements. Each should check whether a certain kind of fruit is in your list. If the fruit is in your list, the if block should print a statement, such as You really like bananas!"
   ]
  },
  {
   "cell_type": "code",
   "execution_count": 19,
   "id": "b9caa8b8-e54a-4bf7-9936-70b8956e142f",
   "metadata": {},
   "outputs": [
    {
     "name": "stdout",
     "output_type": "stream",
     "text": [
      "You really like avocado!\n",
      "You really like tangerine!\n",
      "You really like brazilian cherry!\n"
     ]
    }
   ],
   "source": [
    "fruits = ['avocado', 'tangerine', 'brazilian cherry']\n",
    "\n",
    "if 'banana' in fruits:\n",
    "    print(\"You really like bananas!\")\n",
    "if 'avocado' in fruits:\n",
    "    print(\"You really like avocado!\")\n",
    "if 'strawberry' in fruits:\n",
    "    print(\"You really like strawberry!\")\n",
    "if 'tangerine' in fruits:\n",
    "    print(\"You really like tangerine!\")\n",
    "if 'brazilian cherry' in fruits:\n",
    "    print(\"You really like brazilian cherry!\")\n"
   ]
  },
  {
   "cell_type": "markdown",
   "id": "bd46018a-9583-453f-af11-cc3a70cc579f",
   "metadata": {
    "jp-MarkdownHeadingCollapsed": true
   },
   "source": [
    "### 5-8. Hello Admin: \n",
    "Make a list of five or more usernames, including the name 'admin'. Imagine you are writing code that will print a greeting to each user after they log in to a website. Loop through the list, and print a greeting to each user.  \n",
    "- If the username is 'admin', print a special greeting, such as Hello admin, would you like to see a status report?\n",
    "- Otherwise, print a generic greeting, such as Hello Jaden, thank you for logging in again."
   ]
  },
  {
   "cell_type": "code",
   "execution_count": 20,
   "id": "df2fb6e6-d35c-4617-8174-6ad45a85c1b5",
   "metadata": {},
   "outputs": [
    {
     "name": "stdout",
     "output_type": "stream",
     "text": [
      "Hello Gabibs, thank you for logging in again.\n",
      "Hello Johannes, thank you for logging in again.\n",
      "Hello admin, would you like to see a status report?\n",
      "Hello Koda, thank you for logging in again.\n",
      "Hello Pichu, thank you for logging in again.\n"
     ]
    }
   ],
   "source": [
    "usernames = ['gabibs', 'johannes', 'admin', 'koda', 'pichu']\n",
    "for username in usernames:\n",
    "    if username == 'admin':\n",
    "        print(\"Hello admin, would you like to see a status report?\")\n",
    "    else:\n",
    "        print(f\"Hello {username.title()}, thank you for logging in again.\")"
   ]
  },
  {
   "cell_type": "markdown",
   "id": "1238d038-c3b6-4914-898e-920897db47fb",
   "metadata": {
    "jp-MarkdownHeadingCollapsed": true
   },
   "source": [
    "### 5-9. No Users: \n",
    "Add an if test to hello_admin.py to make sure the list of users is not empty.  \n",
    "- If the list is empty, print the message We need to find some users!\n",
    "- Remove all of the usernames from your list, and make sure the correct message is printed."
   ]
  },
  {
   "cell_type": "code",
   "execution_count": 22,
   "id": "b7b0b926-212d-412e-a524-26e2dc56a312",
   "metadata": {},
   "outputs": [
    {
     "name": "stdout",
     "output_type": "stream",
     "text": [
      "We need to find some users!\n"
     ]
    }
   ],
   "source": [
    "usernames = []\n",
    "if usernames:\n",
    "    for username in usernames:\n",
    "        if username == 'admin':\n",
    "            print(\"Hello admin, would you like to see a status report?\")\n",
    "        else:\n",
    "            print(f\"Hello {username.title()}, thank you for logging in again.\")\n",
    "else:\n",
    "    print(\"We need to find some users!\")"
   ]
  },
  {
   "cell_type": "markdown",
   "id": "6706d4c7-b2e4-4234-94af-2d3c9352cff2",
   "metadata": {
    "jp-MarkdownHeadingCollapsed": true
   },
   "source": [
    "### 5-10. Checking Usernames: \n",
    "Do the following to create a program that simulates how websites ensure that everyone has a unique username.  \n",
    "- Make a list of five or more usernames called current_users.\n",
    "- Make another list of five usernames called new_users. Make sure one or two of the new usernames are also in the current_users list.\n",
    "- Loop through the new_users list to see if each new username has already been used. If it has, print a message that the person will need to enter a new username. If a username has not been used, print a message saying that the username is available.\n",
    "- Make sure your comparison is case insensitive. If 'John' has been used, 'JOHN' should not be accepted. (To do this, you’ll need to make a copy of current_users containing the lowercase versions of all existing users.)"
   ]
  },
  {
   "cell_type": "code",
   "execution_count": 9,
   "id": "d9d3a7ce-4c62-4c8a-ac06-4b5fbc16e4ff",
   "metadata": {},
   "outputs": [
    {
     "name": "stdout",
     "output_type": "stream",
     "text": [
      "'gabriela' is available\n",
      "'Ella' is available\n",
      "'ezra' is available\n",
      "'richard' is available\n",
      "'hugh' is available\n",
      "'bob' is available\n",
      "\n",
      "Sorry! 'david' is not available. Try again.\n",
      "\n",
      "Sorry! 'Marie' is not available. Try again.\n"
     ]
    }
   ],
   "source": [
    "current_users = ['david', 'john', 'marie', 'sarah', 'michael']\n",
    "new_users = ['gabriela', 'Ella', 'ezra', 'richard', 'hugh', 'bob', 'david', 'Marie']\n",
    "\n",
    "for new_user in new_users:\n",
    "    if new_user.lower() in current_users:\n",
    "        print(f\"\\nSorry! '{new_user}' is not available. Try again.\")\n",
    "    else:\n",
    "        print(f\"'{new_user}' is available\")"
   ]
  },
  {
   "cell_type": "markdown",
   "id": "e2879dbe-7ee8-42ce-94e0-a843ea5e4278",
   "metadata": {
    "jp-MarkdownHeadingCollapsed": true
   },
   "source": [
    "### 5-11. Ordinal Numbers: \n",
    "Ordinal numbers indicate their position in a list, such as 1st or 2nd. Most ordinal numbers end in th, except 1, 2, and 3.  \n",
    "- Store the numbers 1 through 9 in a list.\n",
    "- Loop through the list.\n",
    "- Use an if-elif-else chain inside the loop to print the proper ordinal ending for each number. Your output should read \"1st 2nd 3rd 4th 5th 6th 7th 8th 9th\", and each result should be on a separate line."
   ]
  },
  {
   "cell_type": "code",
   "execution_count": 4,
   "id": "73b2bd6a-4b2c-44d1-b091-a82002e1cbb1",
   "metadata": {},
   "outputs": [
    {
     "name": "stdout",
     "output_type": "stream",
     "text": [
      "1st 2nd 3rd 4th 5th 6th 7th 8th 9th "
     ]
    }
   ],
   "source": [
    "numbers = [1, 2, 3, 4, 5, 6, 7, 8, 9]\n",
    "\n",
    "for number in numbers:\n",
    "    if number == 1:\n",
    "        sufix = 'st'\n",
    "    elif number == 2:\n",
    "        sufix = 'nd'\n",
    "    elif number == 3:\n",
    "        sufix = 'rd'\n",
    "    else:\n",
    "        sufix = 'th'\n",
    "    print(f\"{number}{sufix}\", end=' ')"
   ]
  }
 ],
 "metadata": {
  "kernelspec": {
   "display_name": "Python 3 (ipykernel)",
   "language": "python",
   "name": "python3"
  },
  "language_info": {
   "codemirror_mode": {
    "name": "ipython",
    "version": 3
   },
   "file_extension": ".py",
   "mimetype": "text/x-python",
   "name": "python",
   "nbconvert_exporter": "python",
   "pygments_lexer": "ipython3",
   "version": "3.12.4"
  }
 },
 "nbformat": 4,
 "nbformat_minor": 5
}
