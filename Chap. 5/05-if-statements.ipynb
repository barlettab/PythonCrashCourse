{
 "cells": [
  {
   "cell_type": "markdown",
   "id": "a4e77025-8673-4a6d-ba20-2daad2f1feef",
   "metadata": {},
   "source": [
    "# Python Crash Course\n",
    "## Chapter 5 - If Statements"
   ]
  },
  {
   "cell_type": "markdown",
   "id": "d73a816d-df6d-44d4-98dc-c0fa9f127132",
   "metadata": {},
   "source": [
    "Programming often involves examining a set of conditions and deciding which action to take based on those conditions. Python’s if statement allows you to examine the current state of a program and respond appropriately to that state."
   ]
  },
  {
   "cell_type": "markdown",
   "id": "975ea03f-bd02-483e-8990-20763709878b",
   "metadata": {},
   "source": [
    "### A Simple Example"
   ]
  },
  {
   "cell_type": "code",
   "execution_count": 2,
   "id": "61447e42-5e48-4a9b-8325-7ad9466f1973",
   "metadata": {},
   "outputs": [
    {
     "name": "stdout",
     "output_type": "stream",
     "text": [
      "Audi BMW Subaru Toyota "
     ]
    }
   ],
   "source": [
    "# cars.py - Example 1\n",
    "cars = ['audi', 'bmw', 'subaru', 'toyota']\n",
    "\n",
    "for car in cars:\n",
    "    if car == 'bmw':\n",
    "        print(car.upper(), end=' ')\n",
    "    else:\n",
    "        print(car.title(), end=' ')"
   ]
  },
  {
   "cell_type": "markdown",
   "id": "572885d5-4968-4443-b771-6a4f57c5f57c",
   "metadata": {},
   "source": [
    "### Conditional Tests\n",
    "\n",
    "At the heart of every if statement is an expression that can be evaluated as True or False and is called a conditional test. Python uses the values True and False to decide whether the code in an if statement should be executed. If a conditional test evaluates to True, Python executes the code following the if statement. If the test evaluates to False, Python ignores the code following the if statement."
   ]
  },
  {
   "cell_type": "markdown",
   "id": "6cfe6bae-8c5a-4931-97ed-540baed08467",
   "metadata": {},
   "source": [
    "#### Checking for Equality `==`\n",
    "The first line sets the value of car to 'bmw' using a single equal sign, as you’ve seen many times already. The next line checks whether the value of car is 'bmw' by using a double equal sign `==`. This equality operator returns True if the values on the left and right side of the operator match, and False if they don’t match. "
   ]
  },
  {
   "cell_type": "code",
   "execution_count": 3,
   "id": "536263a8-3aae-4e37-b6cc-674d7f59c801",
   "metadata": {},
   "outputs": [
    {
     "data": {
      "text/plain": [
       "True"
      ]
     },
     "execution_count": 3,
     "metadata": {},
     "output_type": "execute_result"
    }
   ],
   "source": [
    "car = 'bmw'\n",
    "car == 'bmw'"
   ]
  },
  {
   "cell_type": "code",
   "execution_count": 4,
   "id": "e8aa9887-baf8-4a66-a945-60824320b4b4",
   "metadata": {},
   "outputs": [
    {
     "data": {
      "text/plain": [
       "False"
      ]
     },
     "execution_count": 4,
     "metadata": {},
     "output_type": "execute_result"
    }
   ],
   "source": [
    "car = 'audi'\n",
    "car == 'bmw'"
   ]
  },
  {
   "cell_type": "code",
   "execution_count": 5,
   "id": "65bda920-aed2-4abe-902a-7812b334eaae",
   "metadata": {},
   "outputs": [
    {
     "data": {
      "text/plain": [
       "True"
      ]
     },
     "execution_count": 5,
     "metadata": {},
     "output_type": "execute_result"
    }
   ],
   "source": [
    "car = 'Audi'\n",
    "car.lower() == 'audi'"
   ]
  },
  {
   "cell_type": "markdown",
   "id": "69c278ed-9696-41a6-954d-4ed35a6fe88a",
   "metadata": {},
   "source": [
    "#### Checking for Inequality `!=`\n",
    "When you want to determine whether two values are not equal, you can use the inequality operator (!=)"
   ]
  },
  {
   "cell_type": "code",
   "execution_count": 6,
   "id": "8c161ea5-958e-423a-895c-6c8568b0840e",
   "metadata": {},
   "outputs": [
    {
     "name": "stdout",
     "output_type": "stream",
     "text": [
      "Hold the anchovies!\n"
     ]
    }
   ],
   "source": [
    "# toppings.py \n",
    "requested_topping = 'mushrooms'\n",
    "if requested_topping != 'anchovies':\n",
    "    print(\"Hold the anchovies!\")"
   ]
  },
  {
   "cell_type": "code",
   "execution_count": null,
   "id": "c175fe14-39c0-4932-93d6-b349b31569ef",
   "metadata": {},
   "outputs": [],
   "source": []
  }
 ],
 "metadata": {
  "kernelspec": {
   "display_name": "Python 3 (ipykernel)",
   "language": "python",
   "name": "python3"
  },
  "language_info": {
   "codemirror_mode": {
    "name": "ipython",
    "version": 3
   },
   "file_extension": ".py",
   "mimetype": "text/x-python",
   "name": "python",
   "nbconvert_exporter": "python",
   "pygments_lexer": "ipython3",
   "version": "3.12.4"
  }
 },
 "nbformat": 4,
 "nbformat_minor": 5
}
