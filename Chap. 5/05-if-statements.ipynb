{
 "cells": [
  {
   "cell_type": "markdown",
   "id": "a4e77025-8673-4a6d-ba20-2daad2f1feef",
   "metadata": {},
   "source": [
    "# Python Crash Course\n",
    "## Chapter 5 - If Statements"
   ]
  },
  {
   "cell_type": "markdown",
   "id": "d73a816d-df6d-44d4-98dc-c0fa9f127132",
   "metadata": {},
   "source": [
    "Programming often involves examining a set of conditions and deciding which action to take based on those conditions. Python’s if statement allows you to examine the current state of a program and respond appropriately to that state."
   ]
  },
  {
   "cell_type": "markdown",
   "id": "975ea03f-bd02-483e-8990-20763709878b",
   "metadata": {},
   "source": [
    "### A Simple Example"
   ]
  },
  {
   "cell_type": "code",
   "execution_count": 2,
   "id": "61447e42-5e48-4a9b-8325-7ad9466f1973",
   "metadata": {},
   "outputs": [
    {
     "name": "stdout",
     "output_type": "stream",
     "text": [
      "Audi BMW Subaru Toyota "
     ]
    }
   ],
   "source": [
    "# cars.py - Example 1\n",
    "cars = ['audi', 'bmw', 'subaru', 'toyota']\n",
    "\n",
    "for car in cars:\n",
    "    if car == 'bmw':\n",
    "        print(car.upper(), end=' ')\n",
    "    else:\n",
    "        print(car.title(), end=' ')"
   ]
  },
  {
   "cell_type": "markdown",
   "id": "572885d5-4968-4443-b771-6a4f57c5f57c",
   "metadata": {},
   "source": [
    "### Conditional Tests\n",
    "\n",
    "At the heart of every if statement is an expression that can be evaluated as True or False and is called a conditional test. Python uses the values True and False to decide whether the code in an if statement should be executed. If a conditional test evaluates to True, Python executes the code following the if statement. If the test evaluates to False, Python ignores the code following the if statement."
   ]
  },
  {
   "cell_type": "markdown",
   "id": "6cfe6bae-8c5a-4931-97ed-540baed08467",
   "metadata": {},
   "source": [
    "#### Checking for Equality `==`\n",
    "The first line sets the value of car to 'bmw' using a single equal sign, as you’ve seen many times already. The next line checks whether the value of car is 'bmw' by using a double equal sign `==`. This equality operator returns True if the values on the left and right side of the operator match, and False if they don’t match. "
   ]
  },
  {
   "cell_type": "code",
   "execution_count": 3,
   "id": "536263a8-3aae-4e37-b6cc-674d7f59c801",
   "metadata": {},
   "outputs": [
    {
     "data": {
      "text/plain": [
       "True"
      ]
     },
     "execution_count": 3,
     "metadata": {},
     "output_type": "execute_result"
    }
   ],
   "source": [
    "# Example 1\n",
    "car = 'bmw'\n",
    "car == 'bmw'"
   ]
  },
  {
   "cell_type": "code",
   "execution_count": 3,
   "id": "e8aa9887-baf8-4a66-a945-60824320b4b4",
   "metadata": {},
   "outputs": [
    {
     "data": {
      "text/plain": [
       "False"
      ]
     },
     "execution_count": 3,
     "metadata": {},
     "output_type": "execute_result"
    }
   ],
   "source": [
    "# Example 2\n",
    "car = 'audi'\n",
    "car == 'bmw'"
   ]
  },
  {
   "cell_type": "code",
   "execution_count": 4,
   "id": "65bda920-aed2-4abe-902a-7812b334eaae",
   "metadata": {},
   "outputs": [
    {
     "data": {
      "text/plain": [
       "True"
      ]
     },
     "execution_count": 4,
     "metadata": {},
     "output_type": "execute_result"
    }
   ],
   "source": [
    "# Example 3\n",
    "car = 'Audi'\n",
    "car.lower() == 'audi'"
   ]
  },
  {
   "cell_type": "markdown",
   "id": "69c278ed-9696-41a6-954d-4ed35a6fe88a",
   "metadata": {},
   "source": [
    "#### Checking for Inequality `!=`\n",
    "When you want to determine whether two values are not equal, you can use the inequality operator `!=`"
   ]
  },
  {
   "cell_type": "code",
   "execution_count": 6,
   "id": "8c161ea5-958e-423a-895c-6c8568b0840e",
   "metadata": {},
   "outputs": [
    {
     "name": "stdout",
     "output_type": "stream",
     "text": [
      "Hold the anchovies!\n"
     ]
    }
   ],
   "source": [
    "# toppings.py \n",
    "requested_topping = 'mushrooms'\n",
    "if requested_topping != 'anchovies':\n",
    "    print(\"Hold the anchovies!\")"
   ]
  },
  {
   "cell_type": "markdown",
   "id": "7dc8e611-359d-4b11-a22c-e1a06f3ead12",
   "metadata": {},
   "source": [
    "#### Numerical Comparisons"
   ]
  },
  {
   "cell_type": "code",
   "execution_count": 1,
   "id": "3026baf7-3e10-454b-a41b-e1f5001a0911",
   "metadata": {},
   "outputs": [
    {
     "data": {
      "text/plain": [
       "True"
      ]
     },
     "execution_count": 1,
     "metadata": {},
     "output_type": "execute_result"
    }
   ],
   "source": [
    "# Example 1\n",
    "age = 18\n",
    "age == 18"
   ]
  },
  {
   "cell_type": "code",
   "execution_count": 2,
   "id": "e2552e4d-e339-4732-bac6-b9f16c363bed",
   "metadata": {},
   "outputs": [
    {
     "name": "stdout",
     "output_type": "stream",
     "text": [
      "That is not the correct answer. Please try again!\n"
     ]
    }
   ],
   "source": [
    "# magic_number.py\n",
    "answer = 17\n",
    "if answer != 42:\n",
    "    print(\"That is not the correct answer. Please try again!\")"
   ]
  },
  {
   "cell_type": "markdown",
   "id": "4b226333-ccb5-4e1c-90a0-a27068f16311",
   "metadata": {},
   "source": [
    "### Checking Multiple Conditions\n",
    "#### Using and to Check Multiple Conditions\n",
    "To check whether two conditions are both `True` simultaneously, use the keyword `and` to combine the two conditional tests; if each test passes, the overall expression evaluates to `True`. `If either test fails or if both tests fail, the expression evaluates to False.`  \n",
    "- To improve readability, you can use parentheses around the individual tests, but they are not required."
   ]
  },
  {
   "cell_type": "code",
   "execution_count": 6,
   "id": "d43c444a-97de-4ce1-9db3-aff6ab4be876",
   "metadata": {},
   "outputs": [
    {
     "data": {
      "text/plain": [
       "False"
      ]
     },
     "execution_count": 6,
     "metadata": {},
     "output_type": "execute_result"
    }
   ],
   "source": [
    "# Example 1\n",
    "age_0 = 22\n",
    "age_1 = 18\n",
    "(age_0 >= 21) and (age_1 >= 21)"
   ]
  },
  {
   "cell_type": "code",
   "execution_count": 8,
   "id": "0b824836-4bfb-47fe-9e50-c037970aad89",
   "metadata": {},
   "outputs": [
    {
     "data": {
      "text/plain": [
       "True"
      ]
     },
     "execution_count": 8,
     "metadata": {},
     "output_type": "execute_result"
    }
   ],
   "source": [
    "age_1 = 22\n",
    "age_0 >= 21 and age_1 >= 1"
   ]
  },
  {
   "cell_type": "markdown",
   "id": "5bf01c24-50e6-4938-86c5-4dade6447b93",
   "metadata": {},
   "source": [
    "#### Using or to Check Multiple Conditions\n",
    "The keyword or allows you to check multiple conditions as well, but it passes when either or both of the individual tests pass. An or expression fails only when both individual tests fail."
   ]
  },
  {
   "cell_type": "code",
   "execution_count": 9,
   "id": "be33fe62-9ec5-4462-aa29-422a5b2f0d5e",
   "metadata": {},
   "outputs": [
    {
     "data": {
      "text/plain": [
       "True"
      ]
     },
     "execution_count": 9,
     "metadata": {},
     "output_type": "execute_result"
    }
   ],
   "source": [
    "# Example 1\n",
    "age_0 = 22\n",
    "age_1 = 18\n",
    "(age_0 >= 21) or (age_1 >= 21)"
   ]
  },
  {
   "cell_type": "code",
   "execution_count": 10,
   "id": "fd37ceb1-e19c-45a3-856b-4ca8c6293239",
   "metadata": {},
   "outputs": [
    {
     "data": {
      "text/plain": [
       "False"
      ]
     },
     "execution_count": 10,
     "metadata": {},
     "output_type": "execute_result"
    }
   ],
   "source": [
    "age_0 = 18\n",
    "age_0 >= 21 or age_1 >= 21"
   ]
  },
  {
   "cell_type": "markdown",
   "id": "625e0ba1-ba3d-4a1b-a854-aab7a7b92b85",
   "metadata": {},
   "source": [
    "### Checking Whether a Value Is `in` a List\n",
    "Sometimes it’s important to check whether a list contains a certain value before taking an action. For example, you might want to check whether a new username already exists in a list of current usernames before completing someone’s registration on a website. \n",
    "- So, to find out whether a particular value is already in a list, use the keyword `in`. "
   ]
  },
  {
   "cell_type": "code",
   "execution_count": 11,
   "id": "d52b0231-ca18-4d4c-acac-7d695c2fa00c",
   "metadata": {},
   "outputs": [
    {
     "data": {
      "text/plain": [
       "True"
      ]
     },
     "execution_count": 11,
     "metadata": {},
     "output_type": "execute_result"
    }
   ],
   "source": [
    "requested_toppings = ['mushrooms', 'onions', 'pineapple']\n",
    "'mushrooms' in requested_toppings"
   ]
  },
  {
   "cell_type": "code",
   "execution_count": 12,
   "id": "0d0a0fbd-009c-418a-84ac-376045f32b75",
   "metadata": {},
   "outputs": [
    {
     "data": {
      "text/plain": [
       "False"
      ]
     },
     "execution_count": 12,
     "metadata": {},
     "output_type": "execute_result"
    }
   ],
   "source": [
    "'pepperoni' in requested_toppings"
   ]
  },
  {
   "cell_type": "markdown",
   "id": "fde1a63a-ce30-4c20-ad11-9eb89aba72a3",
   "metadata": {},
   "source": [
    "### Checking Wheter a Value Is `not in` a List\n",
    "Other times, it’s important to know if a value does not appear in a list. You can use the keyword `not in` this situation."
   ]
  },
  {
   "cell_type": "code",
   "execution_count": 14,
   "id": "e63384c1-6cbe-404d-b8ec-12dd97d7011a",
   "metadata": {},
   "outputs": [
    {
     "name": "stdout",
     "output_type": "stream",
     "text": [
      "Marie, you can post a response if you wish.\n"
     ]
    }
   ],
   "source": [
    "# banned_users.py\n",
    "banned_users = ['andrew', 'carolina', 'david']\n",
    "user = 'marie'\n",
    "if user not in banned_users:\n",
    "    print(f\"{user.title()}, you can post a response if you wish.\")"
   ]
  },
  {
   "cell_type": "markdown",
   "id": "7dfef19e-a020-4e6c-ac03-1aaa730b2c38",
   "metadata": {},
   "source": [
    "### Boolean Expressions\n",
    "A Boolean expression is just another name for a conditional test. A Boolean value is either True or False, just like the value of a conditional expression after it has been evaluated.  \n",
    "- Boolean values are often used to keep track of certain conditions"
   ]
  },
  {
   "cell_type": "markdown",
   "id": "16b794ae-7efa-4040-ae32-fde15f4276d2",
   "metadata": {},
   "source": [
    "### if Statements"
   ]
  },
  {
   "cell_type": "markdown",
   "id": "cadf2915-eac1-4336-af19-ecb09a9b1ee1",
   "metadata": {},
   "source": [
    "#### Simple if Statements"
   ]
  },
  {
   "cell_type": "code",
   "execution_count": 17,
   "id": "b9a46948-4acd-4a34-9e03-386e4e78486e",
   "metadata": {},
   "outputs": [
    {
     "name": "stdout",
     "output_type": "stream",
     "text": [
      "You are old enough to vote!\n",
      "Have you registered to vote yet?\n"
     ]
    }
   ],
   "source": [
    "# voting.py - Example 1\n",
    "age = 19\n",
    "if age >= 18:\n",
    "    print(\"You are old enough to vote!\")\n",
    "    print(\"Have you registered to vote yet?\")"
   ]
  },
  {
   "cell_type": "markdown",
   "id": "28d8304f-083a-453a-8da6-6e2c9da839f8",
   "metadata": {},
   "source": [
    "#### if-else Statements\n",
    "Often, you’ll want to take one action when a conditional test passes and a different action in all other cases. Python’s if-else syntax makes this possible. An if-else block is similar to a simple if statement, but the else statement allows you to define an action or set of actions that are executed when the conditional test fails."
   ]
  },
  {
   "cell_type": "code",
   "execution_count": 18,
   "id": "21a94dcc-daf5-4220-9828-9bf52ac95560",
   "metadata": {},
   "outputs": [
    {
     "name": "stdout",
     "output_type": "stream",
     "text": [
      "Sorry, you are too young to vote.\n",
      "Please register to vote as soon as you turn 18!\n"
     ]
    }
   ],
   "source": [
    "# voting.py - Example 2\n",
    "age = 17\n",
    "if age >= 18:\n",
    "    print(\"You are old enough to vote!\")\n",
    "    print(\"Have you registered to vote yet?\")\n",
    "else:\n",
    "    print(\"Sorry, you are too young to vote.\")\n",
    "    print(\"Please register to vote as soon as you turn 18!\")"
   ]
  },
  {
   "cell_type": "markdown",
   "id": "21488f42-48e7-404d-a0c7-c9924d747153",
   "metadata": {},
   "source": [
    "#### The if-elif-else Chain\n",
    "Often, you’ll need to test more than two possible situations, and to evaluate these you can use Python’s `if-elif-else` syntax. Many real-world situations involve more than two possible conditions. For example, consider an amusement park that charges different rates for different age groups:  \n",
    "- Admission for anyone under age 4 is free.\n",
    "- Admission for anyone between the ages of 4 and 18 is \\$25.  \n",
    "- Admission for anyone age 18 or older is \\$40."
   ]
  },
  {
   "cell_type": "code",
   "execution_count": 25,
   "id": "6a9c6b2d-fe5b-4f21-bc5e-7a6945d752ed",
   "metadata": {},
   "outputs": [
    {
     "name": "stdout",
     "output_type": "stream",
     "text": [
      "Your admission cost is $25.\n"
     ]
    }
   ],
   "source": [
    "# amusement_park.py - Example 1\n",
    "age = 12\n",
    "if age < 4:\n",
    "    print(\"Your admission cost is $0.\")\n",
    "elif age < 18:\n",
    "    print(\"Your admission cost is $25.\")\n",
    "else:\n",
    "    print(\"Your admission cost is $40.\")"
   ]
  },
  {
   "cell_type": "code",
   "execution_count": 24,
   "id": "397fc79c-7688-4449-8177-69653ba941bb",
   "metadata": {},
   "outputs": [
    {
     "name": "stdout",
     "output_type": "stream",
     "text": [
      "Your admission cost is $25.\n"
     ]
    }
   ],
   "source": [
    "# amusement_park.py - Example 2\n",
    "age = 12\n",
    "if age < 4:\n",
    "    price = 0\n",
    "elif age < 18:\n",
    "    price = 25\n",
    "else:\n",
    "    price = 40\n",
    "    \n",
    "print(f\"Your admission cost is ${price}.\")"
   ]
  },
  {
   "cell_type": "markdown",
   "id": "1e6c6290-cb38-40e6-8742-dcc03ceb11d2",
   "metadata": {},
   "source": [
    "#### Using Multiple elif Blocks"
   ]
  },
  {
   "cell_type": "code",
   "execution_count": 28,
   "id": "adf87005-ff65-48b8-b9d9-e959dc5d8bf8",
   "metadata": {},
   "outputs": [
    {
     "name": "stdout",
     "output_type": "stream",
     "text": [
      "Your admission cost is $25.\n"
     ]
    }
   ],
   "source": [
    "# amusement_park.py - Example 3\n",
    "age = 12\n",
    "\n",
    "if age < 4:\n",
    "    price = 0\n",
    "elif age < 18:\n",
    "    price = 25\n",
    "elif age < 65:\n",
    "    price = 40\n",
    "else:\n",
    "    price = 20\n",
    "    \n",
    "print(f\"Your admission cost is ${price}.\")"
   ]
  },
  {
   "cell_type": "markdown",
   "id": "bf88c59d-e52c-4788-8ce2-1340d7432c7a",
   "metadata": {},
   "source": [
    "#### Omitting the else Block\n",
    "Python does not require an else block at the end of an if-elif chain. Sometimes, an else block is useful. Other times, it’s clearer to use an additional elif statement that catches the specific condition of interest"
   ]
  },
  {
   "cell_type": "code",
   "execution_count": 30,
   "id": "ac83d320-101a-494a-a762-fdfa24f447e0",
   "metadata": {},
   "outputs": [
    {
     "name": "stdout",
     "output_type": "stream",
     "text": [
      "Your admission cost is $25.\n"
     ]
    }
   ],
   "source": [
    "# amusement_park.py - Example 4\n",
    "age = 12\n",
    "\n",
    "if age < 4:\n",
    "    price = 0\n",
    "elif age < 18:\n",
    "    price = 25\n",
    "elif age < 65:\n",
    "    price = 40\n",
    "elif age >= 65:\n",
    "    price = 20\n",
    "    \n",
    "print(f\"Your admission cost is ${price}.\")"
   ]
  },
  {
   "cell_type": "markdown",
   "id": "994d93cc-13ea-4986-ba91-92278e90188a",
   "metadata": {},
   "source": [
    "The final `elif` block assigns a price of \\$20 when the person is 65 or older, which is a little clearer than the general else block. With this change, every block of code must pass a specific test in order to be executed.    \n",
    "\n",
    "`Observation:` The `else` block is a catchall statement. It matches any condition that wasn’t matched by a specific if or elif test, and that can sometimes include invalid or even malicious data. If you have a specific final condition you’re testing for, consider using a final `elif` block and omit the `else` block. As a result, you’ll be more confident that your code will run only under the correct conditions."
   ]
  },
  {
   "cell_type": "markdown",
   "id": "41e487ab-f404-46e6-9460-7bf24401b246",
   "metadata": {},
   "source": [
    "### Testing Multiple Conditions\n",
    "The `if-elif-else` chain is powerful, but it’s only appropriate to use when you just need one test to pass. As soon as Python finds one test that passes, it skips the rest of the tests. This behavior is beneficial, because it’s efficient and allows you to test for one specific condition.     \n",
    "\n",
    "However, `sometimes it’s important to check all conditions of interest. In this case, you should use a series of simple if statements with no elif or else blocks.` This technique makes sense when more than one condition could be True, and you want to act on every condition that is True."
   ]
  },
  {
   "cell_type": "code",
   "execution_count": 34,
   "id": "d747b77a-d731-44ca-9290-873f2d690f2c",
   "metadata": {},
   "outputs": [
    {
     "name": "stdout",
     "output_type": "stream",
     "text": [
      "Adding mushrooms.\n",
      "Adding extra cheese.\n",
      "\n",
      "Finished making your pizza!\n"
     ]
    }
   ],
   "source": [
    "# toppings.py  - Example 1\n",
    "requested_toppings = ['mushrooms', 'extra cheese']\n",
    "if 'mushrooms' in requested_toppings:\n",
    "    print(\"Adding mushrooms.\")\n",
    "if 'pepperoni' in requested_toppings:\n",
    "    print(\"Adding pepperoni.\")\n",
    "if 'extra cheese' in requested_toppings:\n",
    "    print(\"Adding extra cheese.\")\n",
    "    \n",
    "print(\"\\nFinished making your pizza!\")"
   ]
  },
  {
   "cell_type": "code",
   "execution_count": 35,
   "id": "1a7e1cba-05f2-433e-aff9-0ca793f8fb70",
   "metadata": {},
   "outputs": [
    {
     "name": "stdout",
     "output_type": "stream",
     "text": [
      "Adding mushrooms.\n",
      "\n",
      "Finished making your pizza!\n"
     ]
    }
   ],
   "source": [
    "# toppings.py - Example 2\n",
    "requested_toppings = ['mushrooms', 'extra cheese']\n",
    "if 'mushrooms' in requested_toppings:\n",
    "    print(\"Adding mushrooms.\")\n",
    "elif 'pepperoni' in requested_toppings:\n",
    "    print(\"Adding pepperoni.\")\n",
    "elif 'extra cheese' in requested_toppings:\n",
    "    print(\"Adding extra cheese.\")\n",
    "    \n",
    "print(\"\\nFinished making your pizza!\")"
   ]
  },
  {
   "cell_type": "markdown",
   "id": "4c1fa315-bed9-41fb-a5a3-c7209ddd4265",
   "metadata": {},
   "source": [
    "### Using if Statements with Lists\n",
    "#### Checking for Special Items\n"
   ]
  },
  {
   "cell_type": "code",
   "execution_count": 37,
   "id": "de497ab6-b96f-4538-85e6-2480d348535d",
   "metadata": {},
   "outputs": [
    {
     "name": "stdout",
     "output_type": "stream",
     "text": [
      "Adding mushrooms\n",
      "Sorry, we are out of green peppers right now.\n",
      "Adding extra cheese\n",
      "\n",
      "Finished making your pizza!\n"
     ]
    }
   ],
   "source": [
    "# toppings.py - Example 3\n",
    "requested_toppings = ['mushrooms', 'green peppers', 'extra cheese']\n",
    "\n",
    "for requested_topping in requested_toppings:\n",
    "    if requested_topping == 'green peppers':\n",
    "        print(\"Sorry, we are out of green peppers right now.\")\n",
    "    else:\n",
    "        print(f\"Adding {requested_topping}\")\n",
    "\n",
    "print(\"\\nFinished making your pizza!\")"
   ]
  },
  {
   "cell_type": "markdown",
   "id": "3e8b0f16-7ea9-4236-9e77-8b27599570f4",
   "metadata": {},
   "source": [
    "#### Checking That a List Is Not Empty"
   ]
  },
  {
   "cell_type": "code",
   "execution_count": 38,
   "id": "c1c0a455-a334-483e-ba54-537bac41d958",
   "metadata": {},
   "outputs": [
    {
     "name": "stdout",
     "output_type": "stream",
     "text": [
      "Are you sure you want a plain pizza?\n"
     ]
    }
   ],
   "source": [
    "# toppings.py - Example 4\n",
    "requested_toppings = []\n",
    "\n",
    "if requested_toppings:\n",
    "    for requested_topping in requested_toppings:\n",
    "            print(f\"Adding {requested_topping}\")  \n",
    "    print(\"\\nFinished making your pizza!\")\n",
    "else:\n",
    "    print(\"Are you sure you want a plain pizza?\")"
   ]
  },
  {
   "cell_type": "markdown",
   "id": "a2958545-53e7-470e-aca2-59020607c8a5",
   "metadata": {},
   "source": [
    " When the name of a list is used in an if statement, Python returns True if the list contains at least one item; an empty list evaluates to False. If requested_toppings passes the conditional test, we run the same for loop we used in the previous example. If the conditional test fails, we print a message asking the customer if they really want a plain pizza with no toppings."
   ]
  },
  {
   "cell_type": "markdown",
   "id": "d2ee8179-ebed-4656-9e2a-5574fb29b36f",
   "metadata": {},
   "source": [
    "#### Using Multiple Lists"
   ]
  },
  {
   "cell_type": "code",
   "execution_count": 40,
   "id": "52237d7e-f415-47a2-b513-fd192bba9099",
   "metadata": {},
   "outputs": [
    {
     "name": "stdout",
     "output_type": "stream",
     "text": [
      "Adding mushrooms.\n",
      "Sorry, we don't have french fries.\n",
      "Adding extra cheese.\n",
      "\n",
      "Finished making your pizza!\n"
     ]
    }
   ],
   "source": [
    "# toppings.py - Example 5\n",
    "available_toppings = ['mushrooms', 'olives', 'green peppers', \n",
    "                      'pepperoni', 'pineapple', 'extra cheese']\n",
    "\n",
    "requested_toppings = ['mushrooms', 'french fries', 'extra cheese']\n",
    "\n",
    "for requested_topping in requested_toppings:\n",
    "    if requested_topping in available_toppings:\n",
    "        print(f\"Adding {requested_topping}.\")\n",
    "    else:\n",
    "        print(f\"Sorry, we don't have {requested_topping}.\")\n",
    "print(\"\\nFinished making your pizza!\")"
   ]
  },
  {
   "cell_type": "markdown",
   "id": "ecfeed0e-9b12-4c15-a954-edb0d8dd593d",
   "metadata": {},
   "source": [
    "First, we define a list of available toppings at this pizzeria. Then, we make a list of toppings that a customer has requested. There’s an unusual request for a topping in this example: 'french fries'. Next we loop through the list of requested toppings. Inside the loop, we check to see if each requested topping is actually in the list of available toppings. If it is,  we add that topping to the pizza. If the requested topping is not in the list of available toppings, the else block will run. The else block prints a message telling the user which toppings are unavailable.  \n",
    "\n",
    "`Observation:`Note that available toppings could be a tuple if the pizzeria has a stable selection of toppings."
   ]
  },
  {
   "cell_type": "code",
   "execution_count": null,
   "id": "88422ae7-104e-4580-91b6-58558bb1a544",
   "metadata": {},
   "outputs": [],
   "source": []
  }
 ],
 "metadata": {
  "kernelspec": {
   "display_name": "Python 3 (ipykernel)",
   "language": "python",
   "name": "python3"
  },
  "language_info": {
   "codemirror_mode": {
    "name": "ipython",
    "version": 3
   },
   "file_extension": ".py",
   "mimetype": "text/x-python",
   "name": "python",
   "nbconvert_exporter": "python",
   "pygments_lexer": "ipython3",
   "version": "3.12.4"
  }
 },
 "nbformat": 4,
 "nbformat_minor": 5
}
