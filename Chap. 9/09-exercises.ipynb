{
 "cells": [
  {
   "cell_type": "markdown",
   "id": "3cb1faaa-67ac-4a11-9930-24a3aeb6d710",
   "metadata": {},
   "source": [
    "# Python Crash Course\n",
    "\n",
    "## Chapter 9 - Exercises"
   ]
  },
  {
   "cell_type": "markdown",
   "id": "0abfa07f-d2dc-45c3-b88c-55fa687c81b6",
   "metadata": {},
   "source": [
    "### 9-1. Restaurant: \n",
    "- Make a class called Restaurant\n",
    "- The `__init__()` method for Restaurant should store two attributes: a restaurant_name and a cuisine_type.\n",
    "- Make a method called `describe_restaurant()` that prints these two pieces of information, and a method called `open_restaurant()` that prints a message indicating that the restaurant is open.\n",
    "- Make an instance called restaurant from your class Print the two attributes individually, and then call both methods"
   ]
  },
  {
   "cell_type": "code",
   "execution_count": 1,
   "id": "d4f89269-16d8-4a13-bcab-ba2f79acd676",
   "metadata": {},
   "outputs": [],
   "source": [
    "class Restaurant():\n",
    "\n",
    "    def __init__(self, restaurant_name, cuisine_type):\n",
    "        self.restaurant_name = restaurant_name\n",
    "        self.cuisine_type = cuisine_type\n",
    "\n",
    "    def describe_restaurant(self):\n",
    "        print(f\"Restaurant Name: {self.restaurant_name.title()}\\nCuisine Type: {self.cuisine_type.title()}\")\n",
    "\n",
    "    def open_restaurant(self):\n",
    "        print(f\"{self.restaurant_name.title()} is OPEN!\")\n",
    "        "
   ]
  },
  {
   "cell_type": "code",
   "execution_count": 2,
   "id": "139a0f4c-dcde-45ab-ae02-82fafc90a5ab",
   "metadata": {},
   "outputs": [],
   "source": [
    "restaurant = Restaurant(\"madalosso\", \"italian\")"
   ]
  },
  {
   "cell_type": "code",
   "execution_count": 3,
   "id": "fd65ab38-5ae0-4da4-9a4d-024a84cbf7f0",
   "metadata": {},
   "outputs": [
    {
     "name": "stdout",
     "output_type": "stream",
     "text": [
      "Restaurant Name: Madalosso\n",
      "Cuisine Type: Italian\n"
     ]
    }
   ],
   "source": [
    "restaurant.describe_restaurant()"
   ]
  },
  {
   "cell_type": "code",
   "execution_count": 4,
   "id": "2c4f5228-de58-47d7-a858-f44582d3d270",
   "metadata": {},
   "outputs": [
    {
     "name": "stdout",
     "output_type": "stream",
     "text": [
      "Madalosso is OPEN!\n"
     ]
    }
   ],
   "source": [
    "restaurant.open_restaurant()"
   ]
  },
  {
   "cell_type": "markdown",
   "id": "94bc7d1e-1fbb-43c4-88cc-a733a22f28c8",
   "metadata": {},
   "source": [
    "### 9-2. Three Restaurants: \n",
    "Start with your class from Exercise 9-1 Create three different instances from the class, and call describe_restaurant() for each instance."
   ]
  },
  {
   "cell_type": "code",
   "execution_count": 5,
   "id": "63e1a879-31a5-4c17-a66a-40f615100182",
   "metadata": {},
   "outputs": [],
   "source": [
    "restaurant2 = Restaurant(\"mcdonalds\", \"fastfood\")\n",
    "restaurant3 = Restaurant(\"mangai\", \"brazilian northeastern food\")\n",
    "restaurant4 = Restaurant(\"yong xiang\", \"chinese and japonese food\")"
   ]
  },
  {
   "cell_type": "code",
   "execution_count": 6,
   "id": "2989601e-573a-407b-b699-f47548e08cc4",
   "metadata": {},
   "outputs": [
    {
     "name": "stdout",
     "output_type": "stream",
     "text": [
      "Restaurant Name: Mcdonalds\n",
      "Cuisine Type: Fastfood\n",
      "\n",
      "Restaurant Name: Mangai\n",
      "Cuisine Type: Brazilian Northeastern Food\n",
      "\n",
      "Restaurant Name: Yong Xiang\n",
      "Cuisine Type: Chinese And Japonese Food\n"
     ]
    }
   ],
   "source": [
    "restaurant2.describe_restaurant()\n",
    "print()\n",
    "restaurant3.describe_restaurant()\n",
    "print()\n",
    "restaurant4.describe_restaurant()"
   ]
  },
  {
   "cell_type": "markdown",
   "id": "5a8b1863-f333-43d2-92ad-d1cfbeb23d7d",
   "metadata": {},
   "source": [
    "### 9-3. Users: \n",
    "- Make a class called User.\n",
    "- Create two attributes called first_name and last_name, and then create several other attributes that are typically stored in a user profile.\n",
    "- Make a method called describe_user() that prints a summary of the user’s information.\n",
    "- Make another method called greet_user() that prints a personalized greeting to the user.\n",
    "- Create several instances representing different users, and call both methods\n",
    "for each user"
   ]
  },
  {
   "cell_type": "code",
   "execution_count": 7,
   "id": "7c7025bc-d360-4693-9808-ce8242de8fcd",
   "metadata": {},
   "outputs": [],
   "source": [
    "class User():\n",
    "\n",
    "    def __init__(self, first_name, last_name, email, city, career):\n",
    "        self.first_name = first_name\n",
    "        self.last_name = last_name\n",
    "        self.email = email\n",
    "        self.city = city\n",
    "        self.career = career\n",
    "\n",
    "    def describe_user(self):\n",
    "        print(f\"First Name: {self.first_name.title()}\\nLast Name: {self.last_name.title()}\\nE-mail: {self.email}\\nCity: {self.city.title()}\\nCareer: {self.career.title()}\")\n",
    "\n",
    "    def greet_user(self):\n",
    "        print(f\"Welcome {self.first_name.title()} {self.last_name.title()}!\")"
   ]
  },
  {
   "cell_type": "code",
   "execution_count": 8,
   "id": "07220fc1-780c-4dfa-b8bd-f7d23efe0316",
   "metadata": {},
   "outputs": [
    {
     "name": "stdout",
     "output_type": "stream",
     "text": [
      "First Name: Naruto\n",
      "Last Name: Uzumaki\n",
      "E-mail: narutouzumaki@souhokage.com\n",
      "City: Konoha\n",
      "Career: Hokage\n",
      "\n",
      "Welcome Naruto Uzumaki!\n",
      "\n",
      "First Name: Sasuke\n",
      "Last Name: Uchiha\n",
      "E-mail: uchihasasuke@voumevingar.com\n",
      "City: Konoha\n",
      "Career: Guardian\n",
      "\n",
      "Welcome Sasuke Uchiha!\n",
      "\n",
      "First Name: Sakura\n",
      "Last Name: Haruno\n",
      "E-mail: sakurachan@flordecerejeira.com\n",
      "City: Konoha\n",
      "Career: Doctor Ninja\n",
      "\n",
      "Welcome Sakura Haruno!\n"
     ]
    }
   ],
   "source": [
    "user1 = User(\"naruto\", \"uzumaki\", \"narutouzumaki@souhokage.com\", \"konoha\", \"hokage\")\n",
    "user2 = User(\"sasuke\", \"uchiha\", \"uchihasasuke@voumevingar.com\", \"konoha\", \"guardian\")\n",
    "user3 = User(\"sakura\", \"haruno\", \"sakurachan@flordecerejeira.com\", \"konoha\", \"doctor ninja\")\n",
    "\n",
    "user1.describe_user()\n",
    "print()\n",
    "user1.greet_user()\n",
    "print()\n",
    "\n",
    "user2.describe_user()\n",
    "print()\n",
    "user2.greet_user()\n",
    "print()\n",
    "\n",
    "user3.describe_user()\n",
    "print()\n",
    "user3.greet_user()"
   ]
  },
  {
   "cell_type": "markdown",
   "id": "069df421-aa28-4c81-ab2d-a911fff77ac0",
   "metadata": {},
   "source": [
    "### 9-4. Number Served: \n",
    "- Start with your program from Exercise 9-1 (page 166).  \n",
    "\n",
    "- Add an attribute called number_served with a default value of 0. Create an\n",
    "instance called restaurant from this class. Print the number of customers the\n",
    "restaurant has served, and then change this value and print it again.\n",
    "\n",
    "- Add a method called set_number_served() that lets you set the number\n",
    "of customers that have been served. Call this method with a new number and\n",
    "print the value again.  \n",
    "    \n",
    "- Add a method called increment_number_served() that lets you increment\n",
    "the number of customers who’ve been served. Call this method with any number you like that could represent how many customers were served in, say, a\n",
    "day of business"
   ]
  },
  {
   "cell_type": "code",
   "execution_count": 9,
   "id": "2a172163-d5c8-48c2-83d5-e8f332e2b758",
   "metadata": {},
   "outputs": [],
   "source": [
    "class Restaurant():\n",
    "\n",
    "    def __init__(self, restaurant_name, cuisine_type, *number_served):\n",
    "        self.restaurant_name = restaurant_name\n",
    "        self.cuisine_type = cuisine_type\n",
    "        \n",
    "        # Setting a default value\n",
    "        self.number_served = 0\n",
    "        \n",
    "    def describe_restaurant(self):\n",
    "        print(f\"Restaurant Name: {self.restaurant_name.title()}\\nCuisine Type: {self.cuisine_type.title()}\\nNumber Served: {self.number_served}\")\n",
    "\n",
    "    def open_restaurant(self, open_time):\n",
    "        self.open_time = open_time\n",
    "        print(f\"Opens at {self.open_time}.\")\n",
    "\n",
    "    def set_number_served(self, number_served):\n",
    "        self.number_served = number_served\n",
    "        print(f\"Number served: {self.number_served}\")\n",
    "\n",
    "    def increment_number_served(self, increase):\n",
    "        self.number_served += increase\n",
    "        print(f\"Total number served: {self.number_served}\")"
   ]
  },
  {
   "cell_type": "code",
   "execution_count": 10,
   "id": "60806ed9-a9eb-49d5-b4e7-8b90fcf12fda",
   "metadata": {},
   "outputs": [],
   "source": [
    "# First Part - Create an instance called restaurant from this class. \n",
    "# Print the number of customers the restaurant has served, and then change this value and print it again."
   ]
  },
  {
   "cell_type": "code",
   "execution_count": 11,
   "id": "6d8c10c9-18b3-481a-ba03-4a6f0a565530",
   "metadata": {},
   "outputs": [],
   "source": [
    "rest1 = Restaurant(\"mcdonalds\", \"fastfood\")"
   ]
  },
  {
   "cell_type": "code",
   "execution_count": 12,
   "id": "adec9a64-142c-4c8f-bbc3-c5e6aa09dca1",
   "metadata": {},
   "outputs": [
    {
     "name": "stdout",
     "output_type": "stream",
     "text": [
      "Restaurant Name: Mcdonalds\n",
      "Cuisine Type: Fastfood\n",
      "Number Served: 0\n"
     ]
    }
   ],
   "source": [
    "rest1.describe_restaurant()"
   ]
  },
  {
   "cell_type": "code",
   "execution_count": 13,
   "id": "56c2adb6-4df4-4f55-95ec-37aa035b57d5",
   "metadata": {},
   "outputs": [],
   "source": [
    "rest1.number_served = 1500"
   ]
  },
  {
   "cell_type": "code",
   "execution_count": 14,
   "id": "2aed938c-4e9f-444a-bc78-d6451df9adf2",
   "metadata": {},
   "outputs": [
    {
     "name": "stdout",
     "output_type": "stream",
     "text": [
      "Restaurant Name: Mcdonalds\n",
      "Cuisine Type: Fastfood\n",
      "Number Served: 1500\n"
     ]
    }
   ],
   "source": [
    "rest1.describe_restaurant()"
   ]
  },
  {
   "cell_type": "code",
   "execution_count": 15,
   "id": "2d7fb0e2-2593-45bb-a75d-14aa342ec0ed",
   "metadata": {},
   "outputs": [],
   "source": [
    "rest1.number_served = 1702"
   ]
  },
  {
   "cell_type": "code",
   "execution_count": 16,
   "id": "e94c5056-492c-4703-a179-054ea91870b8",
   "metadata": {},
   "outputs": [
    {
     "name": "stdout",
     "output_type": "stream",
     "text": [
      "Restaurant Name: Mcdonalds\n",
      "Cuisine Type: Fastfood\n",
      "Number Served: 1702\n"
     ]
    }
   ],
   "source": [
    "rest1.describe_restaurant()"
   ]
  },
  {
   "cell_type": "code",
   "execution_count": 17,
   "id": "3c0d3d81-0eab-4604-8f92-6300ee1c5bb3",
   "metadata": {},
   "outputs": [],
   "source": [
    "# Second Part - Call the method set_number_served() with a new number and print the value again."
   ]
  },
  {
   "cell_type": "code",
   "execution_count": 18,
   "id": "7cd00bd6-9724-4d94-8ab9-3816af43c80b",
   "metadata": {},
   "outputs": [],
   "source": [
    "rest2 = Restaurant(\"madalosso\", \"italian food\")"
   ]
  },
  {
   "cell_type": "code",
   "execution_count": 19,
   "id": "197adf8d-828f-4ec4-aecb-e1ebd70674f7",
   "metadata": {},
   "outputs": [
    {
     "name": "stdout",
     "output_type": "stream",
     "text": [
      "Number served: 2500\n"
     ]
    }
   ],
   "source": [
    "rest2.set_number_served(2500)"
   ]
  },
  {
   "cell_type": "code",
   "execution_count": 20,
   "id": "9f87ac97-1c35-45d7-9b70-4dcf9c61dfd9",
   "metadata": {},
   "outputs": [
    {
     "name": "stdout",
     "output_type": "stream",
     "text": [
      "Restaurant Name: Madalosso\n",
      "Cuisine Type: Italian Food\n",
      "Number Served: 2500\n"
     ]
    }
   ],
   "source": [
    "rest2.describe_restaurant()"
   ]
  },
  {
   "cell_type": "code",
   "execution_count": 21,
   "id": "712509da-f9c0-4b4e-8558-2637271839da",
   "metadata": {},
   "outputs": [],
   "source": [
    "# Third Part - Call the method increment_number_served() with any number you like \n",
    "# that could represent how many customers were served in, say, a day of business."
   ]
  },
  {
   "cell_type": "code",
   "execution_count": 22,
   "id": "3d34576d-ba4a-409a-ad6f-b4dd4db38d1b",
   "metadata": {},
   "outputs": [],
   "source": [
    "rest3 = Restaurant(\"yong xiang\", \"chinese and japonese food\")"
   ]
  },
  {
   "cell_type": "code",
   "execution_count": 23,
   "id": "e8876ea8-3f98-45f9-9092-5ae10733a92e",
   "metadata": {},
   "outputs": [
    {
     "name": "stdout",
     "output_type": "stream",
     "text": [
      "Restaurant Name: Yong Xiang\n",
      "Cuisine Type: Chinese And Japonese Food\n",
      "Number Served: 0\n"
     ]
    }
   ],
   "source": [
    "rest3.describe_restaurant()"
   ]
  },
  {
   "cell_type": "code",
   "execution_count": 24,
   "id": "1cb86ff2-4098-4e5c-acd0-8e6ca651734f",
   "metadata": {},
   "outputs": [
    {
     "name": "stdout",
     "output_type": "stream",
     "text": [
      "Total number served: 500\n"
     ]
    }
   ],
   "source": [
    "rest3.increment_number_served(500)"
   ]
  },
  {
   "cell_type": "code",
   "execution_count": 25,
   "id": "1d96d5af-a41b-4098-9b92-e3bafbfa010f",
   "metadata": {},
   "outputs": [
    {
     "name": "stdout",
     "output_type": "stream",
     "text": [
      "Total number served: 743\n"
     ]
    }
   ],
   "source": [
    "rest3.increment_number_served(243)"
   ]
  },
  {
   "cell_type": "markdown",
   "id": "377a587f-bdaa-45ec-bdea-757a0a747405",
   "metadata": {},
   "source": [
    "### 9-5. Login Attempts: \n",
    "- Add an attribute called login_attempts to your User class from Exercise 9-3 (page 166).  \n",
    "- Write a method called increment_login_attempts() that increments the value of login_attempts by 1.  \n",
    "- Write another method called reset_login_attempts() that resets the value of login_\n",
    "attempts to 0.  \n",
    "- Make an instance of the User class and call increment_login_attempts()\n",
    "several times. Print the value of login_attempts to make sure it was incremented\n",
    "properly, and then call reset_login_attempts(). Print login_attempts again to\n",
    "make sure it was reset to 0."
   ]
  },
  {
   "cell_type": "code",
   "execution_count": 26,
   "id": "0b3c8275-5ec8-4ce2-b70d-62cfa48f50ce",
   "metadata": {},
   "outputs": [],
   "source": [
    "class User():\n",
    "\n",
    "    def __init__(self, first_name, last_name, email, city, career, *login_attempts):\n",
    "        self.first_name = first_name\n",
    "        self.last_name = last_name\n",
    "        self.email = email\n",
    "        self.city = city\n",
    "        self.career = career\n",
    "\n",
    "        # default value\n",
    "        self.login_attempts = 0\n",
    "\n",
    "    def describe_user(self):\n",
    "        print(\n",
    "            f\"First Name: {self.first_name.title()}\\n\"\n",
    "            f\"Last Name: {self.last_name.title()}\\n\"\n",
    "            f\"E-mail: {self.email}\\n\"\n",
    "            f\"City: {self.city}\\n\"\n",
    "            f\"Career: {self.career}\"\n",
    "        )\n",
    "\n",
    "    def greet_user(self):\n",
    "        print(f\"Welcome {self.first_name.title()} {self.last_name.title()}!\")\n",
    "\n",
    "    def increment_login_attempts(self):\n",
    "        self.login_attempts += 1\n",
    "        print(f\"Login attempts: {self.login_attempts}\")\n",
    "\n",
    "    def reset_login_attempts(self):\n",
    "        self.login_attempts = 0\n",
    "        print(f\"Login attempts: {self.login_attempts}\")"
   ]
  },
  {
   "cell_type": "code",
   "execution_count": 27,
   "id": "5befb8e8-429d-434c-86fc-1536451db6bb",
   "metadata": {},
   "outputs": [],
   "source": [
    "user1 = User(\"naruto\", \"uzumaki\", \"narutouzumaki@souhokage.com\", \"konoha\", \"hokage\")"
   ]
  },
  {
   "cell_type": "code",
   "execution_count": 28,
   "id": "48954a87-8caa-44a0-aefc-0e80e710f83a",
   "metadata": {},
   "outputs": [
    {
     "name": "stdout",
     "output_type": "stream",
     "text": [
      "Login attempts: 1\n"
     ]
    }
   ],
   "source": [
    "user1.increment_login_attempts()"
   ]
  },
  {
   "cell_type": "code",
   "execution_count": 29,
   "id": "da533780-5254-4cc9-9061-6006e18027f0",
   "metadata": {},
   "outputs": [
    {
     "name": "stdout",
     "output_type": "stream",
     "text": [
      "Login attempts: 2\n"
     ]
    }
   ],
   "source": [
    "user1.increment_login_attempts()"
   ]
  },
  {
   "cell_type": "code",
   "execution_count": 30,
   "id": "e6fe3d54-ff2d-42e3-bda1-506248ec0e2d",
   "metadata": {},
   "outputs": [
    {
     "name": "stdout",
     "output_type": "stream",
     "text": [
      "Login attempts: 3\n"
     ]
    }
   ],
   "source": [
    "user1.increment_login_attempts()"
   ]
  },
  {
   "cell_type": "code",
   "execution_count": 31,
   "id": "cb0bbef9-8384-4878-abd5-061ea2d58748",
   "metadata": {},
   "outputs": [
    {
     "name": "stdout",
     "output_type": "stream",
     "text": [
      "Login attempts: 4\n"
     ]
    }
   ],
   "source": [
    "user1.increment_login_attempts()"
   ]
  },
  {
   "cell_type": "code",
   "execution_count": 32,
   "id": "4a8ac42d-31b6-47d1-be9f-d85761229391",
   "metadata": {},
   "outputs": [
    {
     "name": "stdout",
     "output_type": "stream",
     "text": [
      "Login attempts: 0\n"
     ]
    }
   ],
   "source": [
    "user1.reset_login_attempts()"
   ]
  },
  {
   "cell_type": "markdown",
   "id": "ee59f81c-85d8-4351-adf4-81e066878bdb",
   "metadata": {},
   "source": [
    "### 9-6. Ice Cream Stand: \n",
    "An ice cream stand is a specific kind of restaurant. Write\n",
    "a class called IceCreamStand that inherits from the Restaurant class you wrote\n",
    "in Exercise 9-1 (page 166) or Exercise 9-4 (page 171). Either version of\n",
    "the class will work; just pick the one you like better. Add an attribute called\n",
    "flavors that stores a list of ice cream flavors. Write a method that displays\n",
    "these flavors. Create an instance of IceCreamStand, and call this method."
   ]
  },
  {
   "cell_type": "code",
   "execution_count": 33,
   "id": "29810c7f-b6f2-435d-9d15-fc42f3be6340",
   "metadata": {},
   "outputs": [],
   "source": [
    "class IceCreamStand(Restaurant):\n",
    "\n",
    "    def __init__(self, restaurant_name, *flavors, cuisine_type='ice cream'):\n",
    "        super().__init__(restaurant_name, cuisine_type)\n",
    "        self.flavors = list(flavors)\n",
    "\n",
    "    def print_flavors(self):\n",
    "        print(\"Flavor's Menu:\\n\")\n",
    "        for flavor in self.flavors:\n",
    "            print(\"- \" + flavor.title())"
   ]
  },
  {
   "cell_type": "code",
   "execution_count": 34,
   "id": "831ae79e-48b0-4bd0-a50b-cc1ad9a37053",
   "metadata": {},
   "outputs": [],
   "source": [
    "icecream = IceCreamStand(\"bacio di latte\", \"vanila\", \"Strawberry\", \"Pistache\")"
   ]
  },
  {
   "cell_type": "code",
   "execution_count": 35,
   "id": "e2a92628-692a-4c0e-94ea-02c6d7a64f2c",
   "metadata": {},
   "outputs": [
    {
     "name": "stdout",
     "output_type": "stream",
     "text": [
      "Restaurant Name: Bacio Di Latte\n",
      "Cuisine Type: Ice Cream\n",
      "Number Served: 0\n"
     ]
    }
   ],
   "source": [
    "icecream.describe_restaurant()"
   ]
  },
  {
   "cell_type": "code",
   "execution_count": 36,
   "id": "5aabd788-31c0-45a5-b91a-d7ddc80d078d",
   "metadata": {},
   "outputs": [
    {
     "name": "stdout",
     "output_type": "stream",
     "text": [
      "Flavor's Menu:\n",
      "\n",
      "- Vanila\n",
      "- Strawberry\n",
      "- Pistache\n"
     ]
    }
   ],
   "source": [
    "icecream.print_flavors()"
   ]
  },
  {
   "cell_type": "markdown",
   "id": "58d8c5cb-1f9d-4a63-bd40-60c74609c6e7",
   "metadata": {},
   "source": [
    "### 9-7. Admin: \n",
    "An administrator is a special kind of user Write a class called\n",
    "Admin that inherits from the User class you wrote in Exercise 9-3 (page 166)\n",
    "or Exercise 9-5 (page 171). Add an attribute, privileges, that stores a list\n",
    "of strings like \"can add post\", \"can delete post\", \"can ban user\", and so on\n",
    "Write a method called show_privileges() that lists the administrator’s set of\n",
    "privileges. Create an instance of Admin, and call your method\n"
   ]
  },
  {
   "cell_type": "code",
   "execution_count": 37,
   "id": "5fb9a185-4b14-4d84-843c-171a90d61d30",
   "metadata": {},
   "outputs": [],
   "source": [
    "class Admin(User):\n",
    "\n",
    "    def __init__(self, first_name, last_name, email, city, career, *privileges):\n",
    "        super().__init__(first_name, last_name, email, city, career)\n",
    "        self.privileges = list(privileges)\n",
    "\n",
    "    def show_privileges(self):\n",
    "        print(\"Admin's Privileges\")\n",
    "        for privilege in self.privileges:\n",
    "            print(\"- \" + privilege.capitalize())"
   ]
  },
  {
   "cell_type": "code",
   "execution_count": 38,
   "id": "08fdcd81-0cfa-47cd-93fb-0c4ec0887926",
   "metadata": {},
   "outputs": [],
   "source": [
    "admin = Admin('Michael', 'Scofield', 'michaelscofield@gmail.com', 'Illinois', 'civil engineer', 'can add post', 'can delete post', 'can ban user')"
   ]
  },
  {
   "cell_type": "code",
   "execution_count": 39,
   "id": "51fe3490-cff3-4f3a-bffb-52d9a3969650",
   "metadata": {},
   "outputs": [
    {
     "name": "stdout",
     "output_type": "stream",
     "text": [
      "First Name: Michael\n",
      "Last Name: Scofield\n",
      "E-mail: michaelscofield@gmail.com\n",
      "City: Illinois\n",
      "Career: civil engineer\n"
     ]
    }
   ],
   "source": [
    "admin.describe_user()"
   ]
  },
  {
   "cell_type": "code",
   "execution_count": 40,
   "id": "2de6edc9-2621-43d8-a1dc-5313bf276af9",
   "metadata": {},
   "outputs": [
    {
     "name": "stdout",
     "output_type": "stream",
     "text": [
      "Admin's Privileges\n",
      "- Can add post\n",
      "- Can delete post\n",
      "- Can ban user\n"
     ]
    }
   ],
   "source": [
    "admin.show_privileges()"
   ]
  },
  {
   "cell_type": "markdown",
   "id": "e8fb32d0-d946-4731-8321-e3d953e47007",
   "metadata": {},
   "source": [
    "### 9-8. Privileges: \n",
    "Write a separate Privileges class The class should have one\n",
    "attribute, privileges, that stores a list of strings as described in Exercise 9-7.\n",
    "Move the show_privileges() method to this class. Make a Privileges instance\n",
    "as an attribute in the Admin class. Create a new instance of Admin and use your\n",
    "method to show its privileges."
   ]
  },
  {
   "cell_type": "code",
   "execution_count": 41,
   "id": "407b6fc1-eaff-4505-94f1-78b4c8a40d5c",
   "metadata": {},
   "outputs": [],
   "source": [
    "class Privileges():\n",
    "    def __init__(self, *privileges):\n",
    "        self.privileges = list(privileges)\n",
    "        \n",
    "    def show_privileges(self):\n",
    "        print(\"Admin's Privileges\")\n",
    "        for privilege in self.privileges:\n",
    "            print(\"- \" + privilege.capitalize())\n",
    "\n",
    "class Admin(User):\n",
    "\n",
    "    def __init__(self, first_name, last_name, email, city, career):\n",
    "        super().__init__(first_name, last_name, email, city, career)\n",
    "        self.privileges = Privileges()"
   ]
  },
  {
   "cell_type": "code",
   "execution_count": 42,
   "id": "78dfeca1-4428-4b06-80c9-0093204d82e3",
   "metadata": {},
   "outputs": [],
   "source": [
    "user = Admin('michael', 'scofield', 'michaelscofield@gmail.com', 'ilinois', 'civil engineer')"
   ]
  },
  {
   "cell_type": "code",
   "execution_count": 43,
   "id": "a759f590-3b85-4cf7-9d20-3ccfa28b11c7",
   "metadata": {},
   "outputs": [
    {
     "name": "stdout",
     "output_type": "stream",
     "text": [
      "First Name: Michael\n",
      "Last Name: Scofield\n",
      "E-mail: michaelscofield@gmail.com\n",
      "City: ilinois\n",
      "Career: civil engineer\n"
     ]
    }
   ],
   "source": [
    "user.describe_user()"
   ]
  },
  {
   "cell_type": "code",
   "execution_count": 44,
   "id": "508bead6-0d42-456c-92ad-663033085ec0",
   "metadata": {},
   "outputs": [
    {
     "name": "stdout",
     "output_type": "stream",
     "text": [
      "Admin's Privileges\n"
     ]
    }
   ],
   "source": [
    "user.privileges.show_privileges()"
   ]
  },
  {
   "cell_type": "code",
   "execution_count": 45,
   "id": "8788bf1b-040c-4fef-86db-bf10d19cc3cf",
   "metadata": {},
   "outputs": [],
   "source": [
    "user.privileges.privileges = ['can add post', 'can delete post', 'can ban user']"
   ]
  },
  {
   "cell_type": "code",
   "execution_count": 46,
   "id": "8e344d46-015f-43ff-8e5b-9f03896a9071",
   "metadata": {},
   "outputs": [
    {
     "name": "stdout",
     "output_type": "stream",
     "text": [
      "Admin's Privileges\n",
      "- Can add post\n",
      "- Can delete post\n",
      "- Can ban user\n"
     ]
    }
   ],
   "source": [
    "user.privileges.show_privileges()"
   ]
  },
  {
   "cell_type": "markdown",
   "id": "bc90a7eb-457b-4824-bb79-eedd92d49290",
   "metadata": {},
   "source": [
    "### 9-9. Battery Upgrade: \n",
    "\n",
    "Use the final version of electric_car.py from this section.\n",
    "Add a method to the Battery class called upgrade_battery(). This method\n",
    "should check the battery size and set the capacity to 85 if it isn’t already.\n",
    "Make an electric car with a default battery size, call get_range() once, and\n",
    "then call get_range() a second time after upgrading the battery. You should\n",
    "see an increase in the car’s range."
   ]
  },
  {
   "cell_type": "code",
   "execution_count": 47,
   "id": "3febcb27-7fb8-4144-bcbc-f06891fe0a33",
   "metadata": {},
   "outputs": [],
   "source": [
    "class Car():\n",
    "    \"\"\" A simple attempt to represent a car. \"\"\"\n",
    "\n",
    "    def __init__(self, make, model, year):\n",
    "        \"\"\" Initialize attributes to describe a car. \"\"\"\n",
    "        self.make = make\n",
    "        self.model = model\n",
    "        self.year = year\n",
    "\n",
    "        # Setting a default value for an atrribute\n",
    "        self.odometer_reading = 0\n",
    "\n",
    "    def get_descriptive_name(self):\n",
    "        \"\"\"Return a neatly formatted descriptive name.\"\"\"\n",
    "        long_name = str(self.year) + ' ' + self.make + ' ' + self.model\n",
    "        return long_name.title()\n",
    "\n",
    "    def read_odometer(self):\n",
    "        \"\"\" Print a statement showing the car's mileage. \"\"\"\n",
    "        print(\"This car has \" + str(self.odometer_reading) + \" miles on it.\")\n",
    "\n",
    "    # Modifying an attribute's value through a method - Second one\n",
    "    def update_odometer(self, mileage):\n",
    "        \"\"\" Set the odometer reading to the given value.\"\"\"\n",
    "        self.odometer_reading = mileage\n",
    "\n",
    "    # Incrementing an attribute's value through a method - Third one\n",
    "    def increment_odometer(self, miles):\n",
    "        \"\"\" Add the given amount to the odometer reading. \"\"\"\n",
    "        self.odometer_reading += miles\n",
    "\n",
    "    def fill_gas_tank():\n",
    "        print(\"Gas tank is full now\")\n"
   ]
  },
  {
   "cell_type": "code",
   "execution_count": 48,
   "id": "59396ae8-e996-4770-be91-589d7e4a7dfd",
   "metadata": {},
   "outputs": [
    {
     "name": "stdout",
     "output_type": "stream",
     "text": [
      "This car can go aprroximately 240 miles on full charge.\n",
      "This car can go aprroximately 270 miles on full charge.\n"
     ]
    }
   ],
   "source": [
    "class Battery():\n",
    "    \"\"\" A simple attempt to model a battery for an eletric car. \"\"\"\n",
    "\n",
    "    def __init__(self, battery_size=70):\n",
    "        \"\"\" Initialize the battery's attributes.\"\"\"\n",
    "        self.battery_size = battery_size\n",
    "\n",
    "    def describe_battery(self):\n",
    "        \"\"\" Print a statement describing the battery size. \"\"\"\n",
    "        print(\"This car has a \" + str(self.battery_size) + \" -kWh battery.\")\n",
    "\n",
    "    def get_range(self):\n",
    "        \"\"\" Print a statement about the range this battery provides. \"\"\"\n",
    "        if self.battery_size == 70:\n",
    "            range = 240\n",
    "        elif self.battery_size == 85:\n",
    "            range = 270\n",
    "\n",
    "        message = \"This car can go aprroximately \" + str(range)\n",
    "        message += \" miles on full charge.\"\n",
    "        print(message)\n",
    "\n",
    "    def upgrade_battery(self):\n",
    "        if self.battery_size != 85:\n",
    "            self.battery_size = 85\n",
    "\n",
    "class EletricCar(Car):\n",
    "    \"\"\" Represent aspects of a car, specific to eletric vehicles.\"\"\"\n",
    "\n",
    "    def __init__(self, make, model, year):\n",
    "        \"\"\"\n",
    "        Initialize attributes of the parent class.\n",
    "        Then initialize attributes specific to an electric car.\n",
    "        \"\"\"\n",
    "        super().__init__(make, model, year)\n",
    "        self.battery = Battery()\n",
    "        \n",
    "    def fill_gas_tank(self):\n",
    "        \"\"\" Electric cars don't have gas tanks.\"\"\"\n",
    "        print(\"This car doesn't need a gas tank!\")\n",
    "\n",
    "my_tesla = EletricCar('tesla', 'model s', 2016)\n",
    "\n",
    "my_tesla.battery.get_range()\n",
    "my_tesla.battery.upgrade_battery()\n",
    "my_tesla.battery.get_range()"
   ]
  }
 ],
 "metadata": {
  "kernelspec": {
   "display_name": "Python 3 (ipykernel)",
   "language": "python",
   "name": "python3"
  },
  "language_info": {
   "codemirror_mode": {
    "name": "ipython",
    "version": 3
   },
   "file_extension": ".py",
   "mimetype": "text/x-python",
   "name": "python",
   "nbconvert_exporter": "python",
   "pygments_lexer": "ipython3",
   "version": "3.12.4"
  }
 },
 "nbformat": 4,
 "nbformat_minor": 5
}
