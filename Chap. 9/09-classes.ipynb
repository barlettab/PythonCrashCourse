{
 "cells": [
  {
   "cell_type": "markdown",
   "id": "d8821278-9256-43fb-945b-d4a93b92e71b",
   "metadata": {},
   "source": [
    "# Python Crash Course\n",
    "\n",
    "## Chapter 9 - Classes"
   ]
  },
  {
   "cell_type": "markdown",
   "id": "75f6c574-70f0-4d14-8bfa-8d3e820df4ee",
   "metadata": {},
   "source": [
    "### What is Object-Oriented Programming?"
   ]
  },
  {
   "cell_type": "markdown",
   "id": "e6cd11a7-bb67-4dc3-8129-5c0c0ae69914",
   "metadata": {},
   "source": [
    "Object-oriented programming is one of the most effective approaches to writing software. In object-oriented programming you write classes that represent real-world things and situations, and you creat `objects` based on theses classes. When you write a class, you define the general behavior that a whole category of objects can have.\n",
    "\n",
    "When you create individual objects from the class, each object is automatically equipped with the general behavior; you can then give each object whatever unique traits you desire. You'll be amazed how well real-world situations can be modeled with object-oriented programming.\n",
    "\n",
    "Making an object from a class is called `instantiation`, and you work with `instances`of a class. "
   ]
  },
  {
   "cell_type": "markdown",
   "id": "3ffa43f9-f14f-47d2-8eac-3c824e79a358",
   "metadata": {},
   "source": [
    "### Creating and Using a Class\n",
    "\n",
    "Let's start by writing a simple class, Dog, that represents a dog - not one dog in particular, but any dog. What do we know about most pet dogs? Well, they all have a name and age. We also know that most dogs sit and roll over. Those two pieces of information (name and age) and those two behaviors (sit and roll over) will go in our Dog class because they're commom to most dogs. "
   ]
  },
  {
   "cell_type": "code",
   "execution_count": 1,
   "id": "e1f3d4c9-054c-48a8-a635-02df5a352e0c",
   "metadata": {},
   "outputs": [],
   "source": [
    "# dog.py\n",
    "\n",
    "class Dog():\n",
    "    \"\"\" A simple attempt to model a dog. \"\"\"\n",
    "\n",
    "    def __init__(self, name, age):\n",
    "        \"\"\" Initialize name and age attributes. \"\"\"\n",
    "        self.name = name\n",
    "        self.age = age\n",
    "\n",
    "    def sit(self):\n",
    "        \"\"\" Simulate a dog sitting in response to a command. \"\"\"\n",
    "        print(self.name.title() + \" is now sitting. \")\n",
    "\n",
    "    def roll_over(self):\n",
    "        \"\"\" Simulate rolling over in response to a command. \"\"\"\n",
    "        print(self.name.title() + \" rolled over!\")"
   ]
  },
  {
   "cell_type": "markdown",
   "id": "d88d1b78-88ff-4e3f-9e5c-c0f0f569d6d9",
   "metadata": {},
   "source": [
    "#### The `__init__():` Method\n",
    "\n",
    "A function that’s part of a class is a method. Everything you learned about\r\n",
    "functions applies to methods as well; the only practical difference for now is\r\n",
    "the way we’ll call methods. The __init__() is a special method\r\n",
    "Python runs automatically whenever we create a new instance based on the\r\n",
    "Dog class."
   ]
  },
  {
   "cell_type": "code",
   "execution_count": null,
   "id": "dfa6046a-df3b-4f31-bb11-7ea57ce46a37",
   "metadata": {},
   "outputs": [],
   "source": [
    "# Don't run. I am just showing :)\n",
    "def __init__(self, name, age):"
   ]
  },
  {
   "cell_type": "markdown",
   "id": "68d810a2-8618-47c5-8be7-856b45a64784",
   "metadata": {},
   "source": [
    "Every method call associated with a class automatically passes self, which\n",
    "is a reference to the instance itself; it gives the individual instance access to\n",
    "the attributes and methods in the class. When we make an instance of Dog,\n",
    "Python will call the `__init__()` method from the Dog class. We’ll pass Dog()\n",
    "a name and an age as arguments; self is passed automatically, so we don’t\n",
    "need to pass it. Whenever we want to make an instance from the Dog class,\n",
    "we’ll provide values for only the last two parameters, name and age."
   ]
  },
  {
   "cell_type": "markdown",
   "id": "4d71a506-1956-4a9b-920a-1e05a8c88080",
   "metadata": {},
   "source": [
    "#### Atributes"
   ]
  },
  {
   "cell_type": "code",
   "execution_count": null,
   "id": "01b1377b-aa75-4212-baae-6b6ee70cb8d7",
   "metadata": {},
   "outputs": [],
   "source": [
    "# Don't run. I am just showing :)\n",
    "self.name = name\n",
    "self.age = age"
   ]
  },
  {
   "cell_type": "markdown",
   "id": "290a2c16-0de6-4cf1-bdfb-d481ccf3fadc",
   "metadata": {},
   "source": [
    "The two variables defined at each have the prefix self. Any variable\n",
    "prefixed with self is available to every method in the class, and we’ll also be\n",
    "able to access these variables through any instance created from the class.\n",
    "__self.name = name__ takes the value stored in the parameter name and stores it\n",
    "in the variable name, which is then attached to the instance being created.\n",
    "The same process happens with __self.age = age__. Variables that are accessible\n",
    "through instances like this are called attributes."
   ]
  },
  {
   "cell_type": "markdown",
   "id": "8230e3bf-62ac-4367-bbac-63d51250a5fa",
   "metadata": {},
   "source": [
    "#### Methods"
   ]
  },
  {
   "cell_type": "code",
   "execution_count": null,
   "id": "b168097c-1ead-48be-9eea-f95790ee7541",
   "metadata": {},
   "outputs": [],
   "source": [
    "# Don't run. I am just showing :)\n",
    "    def sit(self):\n",
    "        \"\"\" Simulate a dog sitting in response to a command. \"\"\"\n",
    "        print(self.name.title() + \" is now sitting. \")\n",
    "\n",
    "    def roll_over(self):\n",
    "        \"\"\" Simulate rolling over in response to a command. \"\"\"\n",
    "        print(self.name.title() + \" rolled over!\")"
   ]
  },
  {
   "cell_type": "markdown",
   "id": "91f3e9f7-0c31-4a34-920b-88381bf5fb89",
   "metadata": {},
   "source": [
    "The Dog class has two other methods defined: sit() and roll_over().\n",
    "Because these methods don’t need additional information like a name\n",
    "or age, we just define them to have one parameter, self. The instances\n",
    "we create later will have access to these methods."
   ]
  },
  {
   "cell_type": "markdown",
   "id": "5f1e219f-6e1c-4c55-8a1e-3d692e70b580",
   "metadata": {},
   "source": [
    "### Making an Instance from a Class\n",
    "\n",
    "Think of a class as a set of instructions for how to make an instance. The class Dog is a set of instructions that tells Python how to make individual instances representing specific dogs."
   ]
  },
  {
   "cell_type": "code",
   "execution_count": 2,
   "id": "c7640c03-44f6-41c1-844a-88f043658271",
   "metadata": {},
   "outputs": [
    {
     "name": "stdout",
     "output_type": "stream",
     "text": [
      "My dog's name is Willie.\n",
      "My dog is 6 years old.\n"
     ]
    }
   ],
   "source": [
    "my_dog = Dog(\"willie\", 6)\n",
    "\n",
    "print(\"My dog's name is \" + my_dog.name.title() + \".\")\n",
    "print(\"My dog is \" + str(my_dog.age) + \" years old.\")"
   ]
  },
  {
   "cell_type": "markdown",
   "id": "fef0c989-16cb-4839-807c-e06826d87d2b",
   "metadata": {},
   "source": [
    "#### Accessing Attributes\n",
    "To access the attributes of an instance, you use dot notation. Dot notation is used often in Python. This syntax demonstrates how Python finds an attribute's value."
   ]
  },
  {
   "cell_type": "code",
   "execution_count": 3,
   "id": "aad8dd23-144d-417d-87aa-c3bd1a54c6e8",
   "metadata": {},
   "outputs": [
    {
     "data": {
      "text/plain": [
       "'willie'"
      ]
     },
     "execution_count": 3,
     "metadata": {},
     "output_type": "execute_result"
    }
   ],
   "source": [
    "my_dog.name"
   ]
  },
  {
   "cell_type": "markdown",
   "id": "05b9cf1c-8f6b-4544-b35a-336d07804a16",
   "metadata": {},
   "source": [
    "#### Calling Methods"
   ]
  },
  {
   "cell_type": "code",
   "execution_count": 4,
   "id": "061b756e-6832-4898-9779-bf15025cac15",
   "metadata": {},
   "outputs": [
    {
     "name": "stdout",
     "output_type": "stream",
     "text": [
      "Willie is now sitting. \n",
      "Willie rolled over!\n"
     ]
    }
   ],
   "source": [
    "my_dog.sit()\n",
    "my_dog.roll_over()"
   ]
  },
  {
   "cell_type": "markdown",
   "id": "b05a6fe7-349c-417f-87d8-423de90d10e0",
   "metadata": {},
   "source": [
    "#### Creating Multiple Instances\n",
    "\n",
    "You can create as many instances from a class as you need. "
   ]
  },
  {
   "cell_type": "code",
   "execution_count": 5,
   "id": "08f648b7-1c53-441e-ba3e-334b5fb0a70f",
   "metadata": {},
   "outputs": [
    {
     "name": "stdout",
     "output_type": "stream",
     "text": [
      "Your dog's name is Lucy.\n",
      "Lucy is now sitting. \n",
      "Lucy rolled over!\n"
     ]
    }
   ],
   "source": [
    "# Creating another instance\n",
    "your_dog = Dog(\"lucy\", 3)\n",
    "print(\"Your dog's name is \" + your_dog.name.title() + \".\")\n",
    "\n",
    "# Using the methods\n",
    "your_dog.sit()\n",
    "your_dog.roll_over()"
   ]
  },
  {
   "cell_type": "markdown",
   "id": "fd59cbeb-cc44-47f0-a1c8-68cda0f2be7a",
   "metadata": {},
   "source": [
    "### Working with Classes and Instances"
   ]
  },
  {
   "cell_type": "code",
   "execution_count": 6,
   "id": "82dac96e-4a80-4d34-b0ef-b46390034c8e",
   "metadata": {},
   "outputs": [
    {
     "name": "stdout",
     "output_type": "stream",
     "text": [
      "2016 Audi A4\n"
     ]
    }
   ],
   "source": [
    "# car.py\n",
    "\n",
    "class Car():\n",
    "    \"\"\" A simple attempt to represent a car. \"\"\"\n",
    "\n",
    "    def __init__(self, make, model, year):\n",
    "        \"\"\" Initialize attributes to describe a car. \"\"\"\n",
    "        self.make = make\n",
    "        self.model = model\n",
    "        self.year = year\n",
    "\n",
    "        # Setting a default value for an atrribute\n",
    "        self.odometer_reading = 0\n",
    "\n",
    "    def get_descriptive_name(self):\n",
    "        \"\"\"Return a neatly formatted descriptive name.\"\"\"\n",
    "        long_name = str(self.year) + ' ' + self.make + ' ' + self.model\n",
    "        return long_name.title()\n",
    "\n",
    "    def read_odometer(self):\n",
    "        \"\"\" Print a statement showing the car's mileage. \"\"\"\n",
    "        print(\"This car has \" + str(self.odometer_reading) + \" miles on it.\")\n",
    "\n",
    "    # Modifying an attribute's value through a method - Second one\n",
    "    def update_odometer(self, mileage):\n",
    "        \"\"\" Set the odometer reading to the given value.\"\"\"\n",
    "        self.odometer_reading = mileage\n",
    "\n",
    "    # Incrementing an attribute's value through a method - Third one\n",
    "    def increment_odometer(self, miles):\n",
    "        \"\"\" Add the given amount to the odometer reading. \"\"\"\n",
    "        self.odometer_reading += miles\n",
    "\n",
    "    def fill_gas_tank():\n",
    "        print(\"Gas tank is full now\")\n",
    "\n",
    "my_new_car = Car(\"audi\", \"a4\", 2016)\n",
    "print(my_new_car.get_descriptive_name())"
   ]
  },
  {
   "cell_type": "markdown",
   "id": "d3b4c56a-07ea-4b23-90e9-5bc9dbbfd560",
   "metadata": {},
   "source": [
    "#### Setting a Default Value for an Attribute\n",
    "\n",
    "Every attribute in a class needs an initial value, even if that value is 0 or an empyt string. In some cases, such as when setting a default value, it makes sense to specify this initial value in the body of the `__init__()` method. If you do this for an attribute, you don't have to include a parameter for that attribute."
   ]
  },
  {
   "cell_type": "code",
   "execution_count": 7,
   "id": "fa591010-624b-4bbf-b2c1-16686b1b5bb1",
   "metadata": {},
   "outputs": [
    {
     "name": "stdout",
     "output_type": "stream",
     "text": [
      "This car has 0 miles on it.\n"
     ]
    }
   ],
   "source": [
    "my_new_car.read_odometer()"
   ]
  },
  {
   "cell_type": "markdown",
   "id": "fe628e81-9171-469e-acf3-1d2b5f832864",
   "metadata": {},
   "source": [
    "#### Modifying Attribute Values\n",
    "\n",
    "You can change an attribute's value in three ways: \n",
    "1. You can change the value directly through an instance\n",
    "2. You can change setting the value through a method\n",
    "3. Or increment the value (add a certain amount to it) through a method."
   ]
  },
  {
   "cell_type": "code",
   "execution_count": 8,
   "id": "54118a28-b780-4e2a-b124-af46f85dabbf",
   "metadata": {},
   "outputs": [
    {
     "name": "stdout",
     "output_type": "stream",
     "text": [
      "This car has 23 miles on it.\n"
     ]
    }
   ],
   "source": [
    "# First one\n",
    "my_new_car.odometer_reading = 23\n",
    "my_new_car.read_odometer()"
   ]
  },
  {
   "cell_type": "code",
   "execution_count": 9,
   "id": "667e8409-05c2-4d12-ba31-ed8bb83be698",
   "metadata": {},
   "outputs": [
    {
     "name": "stdout",
     "output_type": "stream",
     "text": [
      "This car has 23 miles on it.\n"
     ]
    }
   ],
   "source": [
    "# Second one\n",
    "my_new_car.update_odometer(23)\n",
    "my_new_car.read_odometer()"
   ]
  },
  {
   "cell_type": "code",
   "execution_count": 10,
   "id": "8bed8b12-a55a-41d0-b1d8-9bc939cfa8c0",
   "metadata": {},
   "outputs": [
    {
     "name": "stdout",
     "output_type": "stream",
     "text": [
      "2013 Subaru Outback\n",
      "This car has 23500 miles on it.\n",
      "This car has 23600 miles on it.\n"
     ]
    }
   ],
   "source": [
    "# Third one\n",
    "my_used_car = Car('subaru', 'outback', 2013)\n",
    "print(my_used_car.get_descriptive_name())\n",
    "\n",
    "my_used_car.update_odometer(23500)\n",
    "my_used_car.read_odometer()\n",
    "\n",
    "my_used_car.increment_odometer(100)\n",
    "my_used_car.read_odometer()"
   ]
  },
  {
   "cell_type": "markdown",
   "id": "ebff1b78-4fc6-4bae-a185-e5f4858ca3d0",
   "metadata": {},
   "source": [
    "### Inheritance"
   ]
  },
  {
   "cell_type": "markdown",
   "id": "4dba4b43-e9c0-490d-b6d7-e829ca922b40",
   "metadata": {},
   "source": [
    "You don’t always have to start from scratch when writing a class. If the class\n",
    "you’re writing is a specialized version of another class you wrote, you can\n",
    "use inheritance. When one class inherits from another, it automatically takes\n",
    "on all the attributes and methods of the first class. The original class is\n",
    "called the parent class, and the new class is the child class. The child class\n",
    "inherits every attribute and method from its parent class but is also free to\n",
    "define new attributes and methods of its own."
   ]
  },
  {
   "cell_type": "markdown",
   "id": "48facfe7-4a32-45ee-a667-7a079a4e5b7f",
   "metadata": {},
   "source": [
    "#### The `__init__()` Method for a Child Class"
   ]
  },
  {
   "cell_type": "markdown",
   "id": "d16918f3-a14e-4d49-825b-2f3129015df3",
   "metadata": {},
   "source": [
    "As an example, let’s model an electric car. An electric car is just a specific kind of car, so we can base our new ElectricCar class on the Car class\n",
    "we wrote earlier. Then we’ll only have to write code for the attributes and\n",
    "behavior specific to electric cars"
   ]
  },
  {
   "cell_type": "code",
   "execution_count": 11,
   "id": "7e1fcf55-e7be-4fab-983d-0d9c73379fa6",
   "metadata": {},
   "outputs": [
    {
     "name": "stdout",
     "output_type": "stream",
     "text": [
      "2016 Tesla Model S\n"
     ]
    }
   ],
   "source": [
    "class EletricCar(Car):\n",
    "    \"\"\" Represent aspects of a car, specific to eletric vehicles.\"\"\"\n",
    "\n",
    "    def __init__(self, make, model, year):\n",
    "        \"\"\"\n",
    "        Initialize attributes of the parent class.\n",
    "        Then initialize attributes specific to an electric car.\n",
    "        \"\"\"\n",
    "        super().__init__(make, model, year)\n",
    "        \n",
    "        # default value for battery size for eletric cars only.\n",
    "        self.battery_size = 70\n",
    "\n",
    "    def describe_battery(self):\n",
    "        \"\"\" Print a statement describing the battery size. \"\"\"\n",
    "        print(\"This car has a \" + str(self.battery_size) + \"-kWh battery.\")\n",
    "\n",
    "    def fill_gas_tank(self):\n",
    "        \"\"\" Electric cars don't have gas tanks.\"\"\"\n",
    "        print(\"This car doesn't need a gas tank!\")\n",
    "\n",
    "my_tesla = EletricCar('tesla', 'model s', 2016)\n",
    "print(my_tesla.get_descriptive_name())"
   ]
  },
  {
   "cell_type": "markdown",
   "id": "613958a9-c29b-4466-b7a9-8c55723be60e",
   "metadata": {},
   "source": [
    "`Taking Notes:`\n",
    "- When you create a child class, the parent class \n",
    "must be part of the current file and must appear before the child class in\n",
    "the file. We define the child class, __ElectricCar__. The name of the parent\n",
    "class must be included in parentheses in the definition of the child class.\n",
    "The `__init__()` method takes in the information required to make a __Car__\n",
    "instance.\n",
    "\n",
    "- The `super()` function is a special function that helps Python make\r\n",
    "connections between the parent and child class. This line tells Python to\r\n",
    "call th`e __init__`() method fr m ElectricCar’s parent class, which gives an\r\n",
    "ElectricCar instance all the attributes of its parent class. The name super\r\n",
    "comes from a convention of calling the parent class a superclass and the\r\n",
    "child class a subc\n",
    "haviolass."
   ]
  },
  {
   "cell_type": "markdown",
   "id": "07426c00-77df-4e58-8b4d-3656b5301a27",
   "metadata": {},
   "source": [
    "#### Defining Attributes and Methods for the Child Class\n",
    "\n",
    "Once you have a child class that inherits from a parent class, you can add any new attributes and methods necessary to differentiate the child class from the parent class. "
   ]
  },
  {
   "cell_type": "code",
   "execution_count": null,
   "id": "ce19f871-3a65-4868-81ef-cbb661217fc6",
   "metadata": {},
   "outputs": [],
   "source": [
    "# Don't run. I am just showing :)\n",
    "\n",
    "    self.battery_size = 70\n",
    "\n",
    "    def describe_battery(self):\n",
    "        \"\"\" Print a statement describing the battery size. \"\"\"\n",
    "        print(\"This car has a \" + str(self.battery_size) + \"-kWh battery.\")"
   ]
  },
  {
   "cell_type": "code",
   "execution_count": 12,
   "id": "a7542bd2-6999-480e-9746-7be00bf4daac",
   "metadata": {},
   "outputs": [
    {
     "name": "stdout",
     "output_type": "stream",
     "text": [
      "This car has a 70-kWh battery.\n"
     ]
    }
   ],
   "source": [
    "my_tesla.describe_battery()"
   ]
  },
  {
   "cell_type": "markdown",
   "id": "24363466-8e18-473a-be89-57a5ece0edc4",
   "metadata": {},
   "source": [
    "#### Overriding Methods from the Parent Class\n",
    "\n",
    "You can override any method from the parent class that doesn't fit what you're trying to model with the child class. To do this, you define a method in the child class with the same name as the method you want to override in the parent class. Python will disregard the parent class method and only pay attention to the method you define in the child class."
   ]
  },
  {
   "cell_type": "code",
   "execution_count": 13,
   "id": "5d157fca-788c-4404-b8ac-2ddbdce4f05e",
   "metadata": {},
   "outputs": [
    {
     "name": "stdout",
     "output_type": "stream",
     "text": [
      "This car doesn't need a gas tank!\n"
     ]
    }
   ],
   "source": [
    "my_tesla.fill_gas_tank()"
   ]
  },
  {
   "cell_type": "markdown",
   "id": "070b80e9-7dae-490e-9ffb-c0ed4e0da24e",
   "metadata": {},
   "source": [
    "#### Instances as Attributes\n",
    "When modeling something from the real world in code, you may find that\r\n",
    "you’re adding more and more detail to a class. You’ll find that you have a\r\n",
    "growing list of attributes and methods and that your files are becoming\r\n",
    "lengthy. In these situations, you might recognize that part of one class can\r\n",
    "be written as a separate class. You can break your large class into smaller\r\n",
    "classes that work together."
   ]
  },
  {
   "cell_type": "code",
   "execution_count": 17,
   "id": "dec9ff44-41fb-4b55-8529-d9327c664a0f",
   "metadata": {},
   "outputs": [
    {
     "name": "stdout",
     "output_type": "stream",
     "text": [
      "2016 Tesla Model S\n",
      "This car has a 70 -kWh battery.\n"
     ]
    }
   ],
   "source": [
    "class Battery():\n",
    "    \"\"\" A simple attempt to model a battery for an eletric car. \"\"\"\n",
    "\n",
    "    def __init__(self, battery_size=70):\n",
    "        \"\"\" Initialize the battery's attributes.\"\"\"\n",
    "        self.battery_size = battery_size\n",
    "\n",
    "    def describe_battery(self):\n",
    "        \"\"\" Print a statement describing the battery size. \"\"\"\n",
    "        print(\"This car has a \" + str(self.battery_size) + \" -kWh battery.\")\n",
    "\n",
    "    def get_range(self):\n",
    "        \"\"\" Print a statement about the range this battery provides. \"\"\"\n",
    "        if self.battery_size == 70:\n",
    "            range = 240\n",
    "        elif self.battery_size == 85:\n",
    "            range = 270\n",
    "\n",
    "        message = \"This car can go aprroximately \" + str(range)\n",
    "        message += \" miles on full charge.\"\n",
    "        print(message)\n",
    "\n",
    "\n",
    "class EletricCar(Car):\n",
    "    \"\"\" Represent aspects of a car, specific to eletric vehicles.\"\"\"\n",
    "\n",
    "    def __init__(self, make, model, year):\n",
    "        \"\"\"\n",
    "        Initialize attributes of the parent class.\n",
    "        Then initialize attributes specific to an electric car.\n",
    "        \"\"\"\n",
    "        super().__init__(make, model, year)\n",
    "        self.battery = Battery()\n",
    "        \n",
    "    def fill_gas_tank(self):\n",
    "        \"\"\" Electric cars don't have gas tanks.\"\"\"\n",
    "        print(\"This car doesn't need a gas tank!\")\n",
    "\n",
    "my_tesla = EletricCar('tesla', 'model s', 2016)\n",
    "\n",
    "print(my_tesla.get_descriptive_name())\n",
    "my_tesla.battery.describe_battery()"
   ]
  },
  {
   "cell_type": "markdown",
   "id": "6b201ec1-34bb-4524-880c-229c7cddbd29",
   "metadata": {},
   "source": [
    "`Taking Notes:` \n",
    "- We define a new class called __Battery__ that doesn’t inherit from any\n",
    "other class. The `__init__()` method has one parameter, battery_size, in\n",
    "addition to self. This is an optional parameter that sets the battery’s size to\n",
    "70 if no value is provided. The method describe_battery() has been moved\n",
    "to this class as well.\n",
    "\n",
    "- In the __ElectricCar__ class, we now add an attribute called self.battery.\n",
    "This line tells Python to create a new instance of Battery (with a default size\n",
    "of 70, because we’re not specifying a value) and store that instance in the\n",
    "attribute self.battery. This will happen every time the __init__() method\n",
    "is called; any ElectricCar instance will now have a Battery instance created\n",
    "automatically."
   ]
  },
  {
   "cell_type": "markdown",
   "id": "2813de21-e2f1-4daf-93ea-432f1f92ddf3",
   "metadata": {},
   "source": [
    "We create an electric car and store it in the variable my_tesla. When\n",
    "we want to describe the battery, we need to work through the car’s battery\n",
    "attribute. So, this line tells Python to look at the instance my_tesla, find its battery \n",
    "attribute, and call the method describe_battery() that’s associated with the\r\n",
    "Battery instance stored in the attribute."
   ]
  },
  {
   "cell_type": "code",
   "execution_count": 16,
   "id": "05e3542b-c44a-4ed4-9d71-e4286f91bbd8",
   "metadata": {},
   "outputs": [
    {
     "name": "stdout",
     "output_type": "stream",
     "text": [
      "This car has a 70 -kWh battery.\n"
     ]
    }
   ],
   "source": [
    "my_tesla.battery.describe_battery()"
   ]
  },
  {
   "cell_type": "code",
   "execution_count": 18,
   "id": "4554f20e-51d6-4560-ae3d-988a906ad7d9",
   "metadata": {},
   "outputs": [
    {
     "name": "stdout",
     "output_type": "stream",
     "text": [
      "This car can go aprroximately 240 miles on full charge.\n"
     ]
    }
   ],
   "source": [
    "my_tesla.battery.get_range()"
   ]
  }
 ],
 "metadata": {
  "kernelspec": {
   "display_name": "Python 3 (ipykernel)",
   "language": "python",
   "name": "python3"
  },
  "language_info": {
   "codemirror_mode": {
    "name": "ipython",
    "version": 3
   },
   "file_extension": ".py",
   "mimetype": "text/x-python",
   "name": "python",
   "nbconvert_exporter": "python",
   "pygments_lexer": "ipython3",
   "version": "3.12.4"
  }
 },
 "nbformat": 4,
 "nbformat_minor": 5
}
