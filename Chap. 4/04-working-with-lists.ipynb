{
 "cells": [
  {
   "cell_type": "markdown",
   "id": "bdc4fa92-cbd6-4a30-b7fc-fcb65af63d50",
   "metadata": {},
   "source": [
    "# Python Crash Course\n",
    "## Chapter 4 - Working With Lists"
   ]
  },
  {
   "cell_type": "markdown",
   "id": "2d6f283f-aedb-449e-b5f4-3a8e00c675a8",
   "metadata": {},
   "source": [
    " In this chapter you’ll learn how to loop through an entire list using just a few lines of code, regardless of how long the list is. Looping allows you to take the same action, or set of actions, with every item in a list. As a result, you’ll be able to work efficiently with lists of any length, including those with thousands or even millions of items."
   ]
  },
  {
   "cell_type": "markdown",
   "id": "b2e7947f-91f0-4277-8731-fb7a0c56c432",
   "metadata": {},
   "source": [
    "### Looping Through an Entire List\n",
    "You’ll often want to run through all entries in a list, performing the same task with each item. For example, in a list of numbers, you might want to perform the same statistical operation on every element. Or perhaps you'll want to display each headline from a list of articles on a website."
   ]
  },
  {
   "cell_type": "markdown",
   "id": "ed01dca7-d5ba-4301-aaa6-a1087dce8861",
   "metadata": {},
   "source": [
    "#### Example 1: magicians.py"
   ]
  },
  {
   "cell_type": "code",
   "execution_count": 5,
   "id": "5c0b7e01-ada1-4091-980f-b4c87bf9a2be",
   "metadata": {},
   "outputs": [
    {
     "name": "stdout",
     "output_type": "stream",
     "text": [
      "alice\n",
      "david\n",
      "carolina\n"
     ]
    }
   ],
   "source": [
    "magicians = ['alice', 'david', 'carolina']\n",
    "for magician in magicians:\n",
    "    print(magician)"
   ]
  },
  {
   "cell_type": "markdown",
   "id": "f8e72712-a478-447e-85b0-01ec37906c6e",
   "metadata": {},
   "source": [
    "We begin by defining a list, just as we did in Chapter 3. Then we define a for loop. This line tells Python to pull a name from the list magicians, and associate it with the variable magician. Next, we tell Python to print the name that’s just been assigned to magician. Python then repeats these last two lines, once for each name in the list. It might help to read this code as “For every magician in the list of magicians, print the magician’s name.”"
   ]
  },
  {
   "cell_type": "code",
   "execution_count": 5,
   "id": "8498c1ce-e74b-4c15-a18b-c77a28b5085f",
   "metadata": {},
   "outputs": [
    {
     "name": "stdout",
     "output_type": "stream",
     "text": [
      "Alice, that was a great trick!\n",
      "I can't wait to see your next trick, Alice.\n",
      "\n",
      "David, that was a great trick!\n",
      "I can't wait to see your next trick, David.\n",
      "\n",
      "Carolina, that was a great trick!\n",
      "I can't wait to see your next trick, Carolina.\n",
      "\n",
      "Thank you, everyone. That was a great magic show!\n"
     ]
    }
   ],
   "source": [
    "magicians = ['alice', 'david', 'carolina']\n",
    "for magician in magicians:\n",
    "    print(f\"{magician.title()}, that was a great trick!\")\n",
    "    print(f\"I can't wait to see your next trick, {magician.title()}.\\n\")\n",
    "print(\"Thank you, everyone. That was a great magic show!\")"
   ]
  },
  {
   "cell_type": "markdown",
   "id": "5246244a-6055-44b1-934f-4d0e360a0b44",
   "metadata": {},
   "source": [
    "`Observation`: The newline `\\n` in the second print( ) call inserts a blank line after each pass through the loop."
   ]
  },
  {
   "cell_type": "markdown",
   "id": "73253cf5-f878-48cb-82fa-1268ad9cc5fb",
   "metadata": {},
   "source": [
    "#### Personal Example"
   ]
  },
  {
   "cell_type": "code",
   "execution_count": 12,
   "id": "02703c8d-5314-4746-a09a-4c4952109261",
   "metadata": {},
   "outputs": [
    {
     "name": "stdout",
     "output_type": "stream",
     "text": [
      "Ela Mai is my 1º cat\n",
      "Nala Di is my 2º cat\n",
      "Juan Bartho is my 3º cat\n",
      "Clarice Marie is my 4º cat\n",
      "Agatha Kim is my 5º cat\n"
     ]
    }
   ],
   "source": [
    "cats  = ['Ela Mai', 'Nala Di', 'Juan Bartho', 'Clarice Marie', 'Agatha Kim']\n",
    "n = 1\n",
    "for cat in cats:\n",
    "    print(f\"{cat} is my {n}º cat\")\n",
    "    n += 1"
   ]
  },
  {
   "cell_type": "markdown",
   "id": "789093a8-66cd-468a-b758-814e9d1abcf3",
   "metadata": {},
   "source": [
    "### Avoiding Identation Errors\n",
    "Python uses indentation to determine how a line, or group of lines, is related to the rest of the program. In the previous examples, the lines that printed messages to individual magicians were part of the for loop because they were indented. Python’s use of indentation makes code very easy to read. These indentation levels help you gain a general sense of the overall program’s organization."
   ]
  },
  {
   "cell_type": "markdown",
   "id": "8d69e73e-f3de-46f5-a0eb-9e18d2b59269",
   "metadata": {},
   "source": [
    "#### Forgetting to Indent"
   ]
  },
  {
   "cell_type": "code",
   "execution_count": 6,
   "id": "b1e94eb0-92e9-419e-be9e-768ea7bcc9d6",
   "metadata": {},
   "outputs": [
    {
     "ename": "IndentationError",
     "evalue": "expected an indented block after 'for' statement on line 2 (2510761304.py, line 3)",
     "output_type": "error",
     "traceback": [
      "\u001b[1;36m  Cell \u001b[1;32mIn[6], line 3\u001b[1;36m\u001b[0m\n\u001b[1;33m    print(magician)\u001b[0m\n\u001b[1;37m    ^\u001b[0m\n\u001b[1;31mIndentationError\u001b[0m\u001b[1;31m:\u001b[0m expected an indented block after 'for' statement on line 2\n"
     ]
    }
   ],
   "source": [
    "magicians = ['alice', 'david', 'carolina']\n",
    "for magician in magicians:\n",
    "print(magician)"
   ]
  },
  {
   "cell_type": "markdown",
   "id": "7754aae2-8b93-4c9d-ace7-d4c548a650aa",
   "metadata": {},
   "source": [
    "#### Forgetting to Indent Additional Lines"
   ]
  },
  {
   "cell_type": "code",
   "execution_count": 7,
   "id": "97952177-becc-4310-bf36-7d17338dfd61",
   "metadata": {},
   "outputs": [
    {
     "name": "stdout",
     "output_type": "stream",
     "text": [
      "Alice, that was a great trick!\n",
      "David, that was a great trick!\n",
      "Carolina, that was a great trick!\n",
      "I can't wait to see your next trick, Carolina.\n",
      "\n"
     ]
    }
   ],
   "source": [
    "magicians = ['alice', 'david', 'carolina']\n",
    "for magician in magicians:\n",
    "    print(f\"{magician.title()}, that was a great trick!\")\n",
    "print(f\"I can't wait to see your next trick, {magician.title()}.\\n\")"
   ]
  },
  {
   "cell_type": "markdown",
   "id": "e25ddbf1-873e-475a-81c0-842b412861db",
   "metadata": {},
   "source": [
    "The second print( ) call is not indented, so it is executed only once after the loop has finished running. Because the final value associated with magician is 'carolina', she is the only one who receives the “looking forward to the next trick” message. This is a `logical error`. The syntax is valid Python code, but the code does not produce the desired result because a problem occurs in its logic. "
   ]
  },
  {
   "cell_type": "markdown",
   "id": "909eed45-24d5-4043-819c-c41b61952398",
   "metadata": {},
   "source": [
    "#### Indenting Unnecessarily\n",
    "We don’t need to indent the print( ) call, because it isn’t part of a loop; hence, Python reports that error"
   ]
  },
  {
   "cell_type": "code",
   "execution_count": 9,
   "id": "875bc045-ddb9-4688-bc65-42dfb5ac714f",
   "metadata": {},
   "outputs": [
    {
     "ename": "IndentationError",
     "evalue": "unexpected indent (2752036153.py, line 2)",
     "output_type": "error",
     "traceback": [
      "\u001b[1;36m  Cell \u001b[1;32mIn[9], line 2\u001b[1;36m\u001b[0m\n\u001b[1;33m    print(message)\u001b[0m\n\u001b[1;37m    ^\u001b[0m\n\u001b[1;31mIndentationError\u001b[0m\u001b[1;31m:\u001b[0m unexpected indent\n"
     ]
    }
   ],
   "source": [
    "message = \"Hello Python World!\"\n",
    "    print(message)"
   ]
  },
  {
   "cell_type": "markdown",
   "id": "0f3eb602-fba1-47e0-a323-433c72f0446f",
   "metadata": {},
   "source": [
    "#### Indenting Unnecessarily After the Loop\n",
    "Sometimes this prompts Python to report an error, but often this will result in a logical error."
   ]
  },
  {
   "cell_type": "code",
   "execution_count": 10,
   "id": "262f40dd-146b-4370-bd01-a8e7b46e460f",
   "metadata": {},
   "outputs": [
    {
     "name": "stdout",
     "output_type": "stream",
     "text": [
      "Alice, that was a great trick!\n",
      "I can't wait to see your next trick, Alice.\n",
      "\n",
      "Thank you everyone, that was a great magic show!\n",
      "David, that was a great trick!\n",
      "I can't wait to see your next trick, David.\n",
      "\n",
      "Thank you everyone, that was a great magic show!\n",
      "Carolina, that was a great trick!\n",
      "I can't wait to see your next trick, Carolina.\n",
      "\n",
      "Thank you everyone, that was a great magic show!\n"
     ]
    }
   ],
   "source": [
    "magicians = ['alice', 'david', 'carolina'] \n",
    "for magician in magicians:    \n",
    "    print(f\"{magician.title()}, that was a great trick!\")    \n",
    "    print(f\"I can't wait to see your next trick, {magician.title()}.\\n\")\n",
    "    print(\"Thank you everyone, that was a great magic show!\")"
   ]
  },
  {
   "cell_type": "markdown",
   "id": "0ee7f742-ae13-401a-b7a6-6990086b8218",
   "metadata": {},
   "source": [
    "#### Forgetting the Colon\n",
    "Python doesn’t know if you simply forgot the colon, or if you meant to write additional code to set up a more complex loop. If the interpreter can identify a possible fix it will suggest one, like adding a colon at the end of a line, as it does here with the response expected `:`"
   ]
  },
  {
   "cell_type": "code",
   "execution_count": 11,
   "id": "92afcd77-6e7c-4388-b0e6-348ecafe830a",
   "metadata": {},
   "outputs": [
    {
     "ename": "SyntaxError",
     "evalue": "expected ':' (1506583075.py, line 2)",
     "output_type": "error",
     "traceback": [
      "\u001b[1;36m  Cell \u001b[1;32mIn[11], line 2\u001b[1;36m\u001b[0m\n\u001b[1;33m    for magician in magicians\u001b[0m\n\u001b[1;37m                             ^\u001b[0m\n\u001b[1;31mSyntaxError\u001b[0m\u001b[1;31m:\u001b[0m expected ':'\n"
     ]
    }
   ],
   "source": [
    "magicians = ['alice', 'david', 'carolina'] \n",
    "for magician in magicians\n",
    "    print(magician)"
   ]
  },
  {
   "cell_type": "markdown",
   "id": "4b03860a-58b6-4189-80a3-5abeaa987a90",
   "metadata": {},
   "source": [
    "`Observation:` Some errors have easy, obvious fixes, thanks to the suggestions in Python’s tracebacks. Some errors are much harder to resolve, even when the eventual fix only involves a single character. Don’t feel bad when a small fix takes a long time to find; you are absolutely not alone in this experience."
   ]
  },
  {
   "cell_type": "markdown",
   "id": "06637919-38c0-4610-8c9f-7e56bcf83a61",
   "metadata": {},
   "source": [
    "### Making Numerical Lists\n",
    "- In data visualizations, you’ll almost always work with sets of numbers, such as temperatures, distances, population sizes, or latitude and longitude values, among other types of numerical sets.\n",
    "- Lists are ideal for storing sets of numbers, and Python provides a variety of tools to help you work efficiently with lists of numbers."
   ]
  },
  {
   "cell_type": "markdown",
   "id": "54a5682b-59db-44ab-958b-c94bd87155af",
   "metadata": {},
   "source": [
    "#### Using the range( ) function"
   ]
  },
  {
   "cell_type": "code",
   "execution_count": 12,
   "id": "b25c3466-397f-4d7a-b9b4-c6a1be125061",
   "metadata": {},
   "outputs": [
    {
     "name": "stdout",
     "output_type": "stream",
     "text": [
      "1\n",
      "2\n",
      "3\n",
      "4\n"
     ]
    }
   ],
   "source": [
    "# first_numbers.py \n",
    "for value in range(1, 5):\n",
    "    print(value)"
   ]
  },
  {
   "cell_type": "markdown",
   "id": "64a16487-3d77-400f-b2cd-2f2359c57ec1",
   "metadata": {},
   "source": [
    "`Observation:` In this example, `range()` prints only the numbers 1 through 4. This is another result of the off-by-one behavior you’ll see often in programming languages. The `range()` function causes Python to start counting at the first value you give it, and it stops when it reaches the second value you provide. Because it stops at that second value, the output never contains the end value, which would have been 5 in this case.\n",
    "- You can also pass `range()` only one argument, and it will start the sequence of numbers at 0. For example, range(6) would return the numbers from 0 through 5."
   ]
  },
  {
   "cell_type": "markdown",
   "id": "1c4c0cf9-d5bd-45c3-b6c9-3ff567c4b74a",
   "metadata": {},
   "source": [
    "#### Using range() to make a list of numbers"
   ]
  },
  {
   "cell_type": "code",
   "execution_count": 14,
   "id": "b37353c7-a96c-4616-bbd8-6250c3846c39",
   "metadata": {},
   "outputs": [
    {
     "name": "stdout",
     "output_type": "stream",
     "text": [
      "[1, 2, 3, 4, 5]\n"
     ]
    }
   ],
   "source": [
    "numbers = list(range(1, 6))\n",
    "print(numbers)"
   ]
  },
  {
   "cell_type": "markdown",
   "id": "9be6b437-5e48-4cac-81bc-52ac3aea441e",
   "metadata": {},
   "source": [
    "In this example, the `range()` function starts with the value 2 and then adds 2 to that value. It adds 2 repeatedly until it reaches or passes the end value, 11, and produces this result"
   ]
  },
  {
   "cell_type": "code",
   "execution_count": 13,
   "id": "f359c064-db9b-4374-b146-436946d508d7",
   "metadata": {},
   "outputs": [
    {
     "name": "stdout",
     "output_type": "stream",
     "text": [
      "[2, 4, 6, 8, 10]\n"
     ]
    }
   ],
   "source": [
    "# even_numbers.py \n",
    "even_numbers = list(range(2, 11, 2))\n",
    "print(even_numbers)"
   ]
  },
  {
   "cell_type": "code",
   "execution_count": 16,
   "id": "7c74a051-4f1f-4862-8007-b6cfc2508a22",
   "metadata": {},
   "outputs": [
    {
     "name": "stdout",
     "output_type": "stream",
     "text": [
      "[1, 4, 9, 16, 25, 36, 49, 64, 81, 100]\n"
     ]
    }
   ],
   "source": [
    "# square_numbers.py\n",
    "squares = []\n",
    "for value in range(1, 11):\n",
    "    square = value ** 2\n",
    "    squares.append(square)\n",
    "print(squares)"
   ]
  },
  {
   "cell_type": "markdown",
   "id": "0ef72c40-93f1-4dad-8bb5-096e0e969853",
   "metadata": {},
   "source": [
    "To write this code more concisely, omit the temporary variable square and append each new value directly to the list:"
   ]
  },
  {
   "cell_type": "code",
   "execution_count": 17,
   "id": "e5c55896-5782-46af-8e4a-ea1dfd29d2ba",
   "metadata": {},
   "outputs": [
    {
     "name": "stdout",
     "output_type": "stream",
     "text": [
      "[1, 4, 9, 16, 25, 36, 49, 64, 81, 100]\n"
     ]
    }
   ],
   "source": [
    "# square_numbers.py\n",
    "squares = []\n",
    "for value in range(1, 11):\n",
    "    squares.append(value**2)\n",
    "print(squares)"
   ]
  },
  {
   "cell_type": "markdown",
   "id": "083b887a-ed61-4f5f-b9da-0451653535ae",
   "metadata": {},
   "source": [
    "### Simple Statistics with a List of Numbers"
   ]
  },
  {
   "cell_type": "code",
   "execution_count": 21,
   "id": "fa48aa2d-4f24-4a3f-b212-15dc57c7e166",
   "metadata": {},
   "outputs": [
    {
     "name": "stdout",
     "output_type": "stream",
     "text": [
      "The min value: 0\n",
      "The max value: 9\n",
      "The sum of all values: 45\n"
     ]
    }
   ],
   "source": [
    "digits = [1, 2, 3, 4, 5, 6, 7, 8, 9, 0]\n",
    "print(f\"The min value: {min(digits)}\")\n",
    "print(f\"The max value: {max(digits)}\")\n",
    "print(f\"The sum of all values: {sum(digits)}\")"
   ]
  },
  {
   "cell_type": "markdown",
   "id": "d6e5d275-0c79-467e-ac57-22760a13889c",
   "metadata": {},
   "source": [
    "### List Comprehensions\n",
    "The approach described earlier for generating the list squares consisted of using three or four lines of code. A list comprehension allows you to generate this same list in just one line of code. \n",
    "- `A list comprehension combines the for loop and the creation of new elements into one line, and automatically appends each new element.`"
   ]
  },
  {
   "cell_type": "code",
   "execution_count": 22,
   "id": "53f2dad6-748b-48e7-8889-c5294f5683f7",
   "metadata": {},
   "outputs": [
    {
     "name": "stdout",
     "output_type": "stream",
     "text": [
      "[1, 4, 9, 16, 25, 36, 49, 64, 81, 100]\n"
     ]
    }
   ],
   "source": [
    "# squares.py\n",
    "squares = [value**2 for value in range(1, 11)]\n",
    "print(squares)"
   ]
  },
  {
   "cell_type": "markdown",
   "id": "e8dba174-9a26-43f9-a4b5-63a048984485",
   "metadata": {},
   "source": [
    "To use this syntax, begin with a descriptive name for the list, such as squares. Next, open a set of square brackets and define the expression for the values you want to store in the new list. In this example the expression is value**2, which raises the value to the second power. Then, write a for loop to generate the numbers you want to feed into the expression, and close the square brackets. "
   ]
  },
  {
   "cell_type": "markdown",
   "id": "c05dff72-ace7-4720-a04e-de2010951898",
   "metadata": {},
   "source": [
    "### Working with Part of a List"
   ]
  },
  {
   "cell_type": "markdown",
   "id": "491292e5-0c27-4f67-af5d-6d3e834ebb12",
   "metadata": {},
   "source": [
    "#### Slicing a List\n",
    "To make a slice, you specify the index of the first and last elements you want to work with. As with the `range()` function, Python stops one item before the second index you specify. To output the first three elements in a list, you would request indices 0 through 3, which would return elements 0, 1, and 2.  \n",
    "\n",
    "- This syntax allows you to output all of the elements from any point in your list to the end, regardless of the length of the list.  "
   ]
  },
  {
   "cell_type": "code",
   "execution_count": 23,
   "id": "275decfd-e9a1-4b78-af8a-e372d1738e5d",
   "metadata": {},
   "outputs": [
    {
     "name": "stdout",
     "output_type": "stream",
     "text": [
      "['charles', 'martina', 'michael']\n"
     ]
    }
   ],
   "source": [
    "# players.py\n",
    "players = ['charles', 'martina', 'michael', 'florence', 'eli']\n",
    "print(players[0:3])"
   ]
  },
  {
   "cell_type": "code",
   "execution_count": 24,
   "id": "c345b4f3-2cfe-4f89-8ba0-180cba1c8170",
   "metadata": {},
   "outputs": [
    {
     "name": "stdout",
     "output_type": "stream",
     "text": [
      "['martina', 'michael', 'florence']\n"
     ]
    }
   ],
   "source": [
    "print(players[1:4])"
   ]
  },
  {
   "cell_type": "code",
   "execution_count": 25,
   "id": "4855ec34-8a26-4be7-b82c-89cb6da8fe0c",
   "metadata": {},
   "outputs": [
    {
     "name": "stdout",
     "output_type": "stream",
     "text": [
      "['charles', 'martina', 'michael', 'florence']\n"
     ]
    }
   ],
   "source": [
    "print(players[:4])"
   ]
  },
  {
   "cell_type": "code",
   "execution_count": 26,
   "id": "29ac8062-2d05-4832-8e00-1f2ab5aa483a",
   "metadata": {},
   "outputs": [
    {
     "name": "stdout",
     "output_type": "stream",
     "text": [
      "['michael', 'florence', 'eli']\n"
     ]
    }
   ],
   "source": [
    "print(players[2:])"
   ]
  },
  {
   "cell_type": "code",
   "execution_count": 27,
   "id": "1169a34d-cdfd-494d-a547-4d789a8fc6dc",
   "metadata": {},
   "outputs": [
    {
     "name": "stdout",
     "output_type": "stream",
     "text": [
      "['michael', 'florence', 'eli']\n"
     ]
    }
   ],
   "source": [
    "print(players[-3:])"
   ]
  },
  {
   "cell_type": "markdown",
   "id": "65086f9f-1648-493b-a345-0fe6d6e492bc",
   "metadata": {},
   "source": [
    "\n",
    "`Observation:`Recall that a negative index returns an element a certain distance from the end of a list; therefore, you can output any slice from the end of a list. In the example above, if we want to output the last three players on the roster, we can use the slice `players[-3:]`"
   ]
  },
  {
   "cell_type": "markdown",
   "id": "f1a9a328-73a6-4f04-a9cd-36648f664381",
   "metadata": {},
   "source": [
    "#### Looping trhough a Slice"
   ]
  },
  {
   "cell_type": "code",
   "execution_count": 29,
   "id": "2a1877e8-2457-40d1-b953-be842cbd7522",
   "metadata": {},
   "outputs": [
    {
     "name": "stdout",
     "output_type": "stream",
     "text": [
      "Here are the first three players on my team:\n",
      "Charles\n",
      "Martina\n",
      "Michael\n"
     ]
    }
   ],
   "source": [
    "players = ['charles', 'martina', 'michael', 'florence', 'eli']\n",
    "\n",
    "print(\"Here are the first three players on my team:\")\n",
    "for player in players[:3]:\n",
    "    print(player.title())"
   ]
  },
  {
   "cell_type": "markdown",
   "id": "d5bac7c0-b1c4-459e-99f2-194b883ef27f",
   "metadata": {},
   "source": [
    "#### Copying a List"
   ]
  },
  {
   "cell_type": "code",
   "execution_count": 31,
   "id": "3fdc83a5-4043-4194-9877-51d0849c3434",
   "metadata": {},
   "outputs": [
    {
     "name": "stdout",
     "output_type": "stream",
     "text": [
      "My favorite foods are: \n",
      "['pizza', 'falafel', 'carrot cake']\n",
      "\n",
      "My friend's favorite foods are:\n",
      "['pizza', 'falafel', 'carrot cake']\n"
     ]
    }
   ],
   "source": [
    "# foods.py - Example 1\n",
    "my_foods = ['pizza', 'falafel', 'carrot cake']\n",
    "friend_foods = my_foods[:]\n",
    "\n",
    "print(\"My favorite foods are: \")\n",
    "print(my_foods)\n",
    "\n",
    "print(\"\\nMy friend's favorite foods are:\")\n",
    "print(friend_foods)"
   ]
  },
  {
   "cell_type": "code",
   "execution_count": 33,
   "id": "4254c04a-0f46-4e8f-8f70-29ae21ae85d7",
   "metadata": {},
   "outputs": [
    {
     "name": "stdout",
     "output_type": "stream",
     "text": [
      "My favorite foods are: \n",
      "['pizza', 'falafel', 'carrot cake', 'cannoli']\n",
      "\n",
      "My friend's favorite foods are:\n",
      "['pizza', 'falafel', 'carrot cake', 'ice cream']\n"
     ]
    }
   ],
   "source": [
    "# foods.py - Example 2\n",
    "my_foods = ['pizza', 'falafel', 'carrot cake']\n",
    "friend_foods = my_foods[:]\n",
    "\n",
    "my_foods.append('cannoli')\n",
    "friend_foods.append('ice cream')\n",
    "\n",
    "print(\"My favorite foods are: \")\n",
    "print(my_foods)\n",
    "\n",
    "print(\"\\nMy friend's favorite foods are:\")\n",
    "print(friend_foods)"
   ]
  },
  {
   "cell_type": "markdown",
   "id": "8334a669-f45b-472c-9fa6-256e36c445cf",
   "metadata": {},
   "source": [
    "`Observation:`If we had simply set `friend_foods equal to my_foods`, we would not produce two separate lists. For example, here’s what happens when you try to copy a list without using a slice."
   ]
  },
  {
   "cell_type": "code",
   "execution_count": 34,
   "id": "97741d32-0375-423f-9753-479c814c3021",
   "metadata": {},
   "outputs": [
    {
     "name": "stdout",
     "output_type": "stream",
     "text": [
      "My favorite foods are: \n",
      "['pizza', 'falafel', 'carrot cake', 'cannoli', 'ice cream']\n",
      "\n",
      "My friend's favorite foods are:\n",
      "['pizza', 'falafel', 'carrot cake', 'cannoli', 'ice cream']\n"
     ]
    }
   ],
   "source": [
    "# foods.py - Example 3\n",
    "my_foods = ['pizza', 'falafel', 'carrot cake']\n",
    "\n",
    "# This doesn't work!\n",
    "friend_foods = my_foods\n",
    "\n",
    "my_foods.append('cannoli')\n",
    "friend_foods.append('ice cream')\n",
    "\n",
    "print(\"My favorite foods are: \")\n",
    "print(my_foods)\n",
    "\n",
    "print(\"\\nMy friend's favorite foods are:\")\n",
    "print(friend_foods)"
   ]
  },
  {
   "cell_type": "markdown",
   "id": "8fe37ca5-d911-4afc-82bb-6c30fde110c4",
   "metadata": {},
   "source": [
    "Instead of assigning a copy of `my_foods` to `friend_foods`, we set `friend_foods equal to my_foods`. This syntax actually tells Python to associate the new variable `friend_foods` with the list that is already associated with `my_foods`, so now both variables point to the same list. As a result, when we add 'cannoli' to `my_foods`, it will also appear in `friend_foods`. Likewise 'ice cream' will appear in both lists, even though it appears to be added only to friend_foods."
   ]
  },
  {
   "cell_type": "markdown",
   "id": "847864c8-0f94-4286-992e-d5ff70e4b26a",
   "metadata": {},
   "source": [
    "## Tuples"
   ]
  },
  {
   "cell_type": "markdown",
   "id": "5db0a4cb-c23c-4487-94a0-9c51ed228182",
   "metadata": {},
   "source": [
    "Lists work well for storing collections of items that can change throughout the life of a program. The ability to modify lists is particularly important when you’re working with a list of users on a website or a list of characters in a game. `However, sometimes you’ll want to create a list of items that cannot change.` Tuples allow you to do just that. Python refers to values that cannot change as immutable, and an immutable list is called a tuple.  \n",
    "- A tuple looks just like a list, except you use parentheses instead of square brackets. Once you define a tuple, you can access individual elements by using each item’s index, just as you would for a list."
   ]
  },
  {
   "cell_type": "code",
   "execution_count": 36,
   "id": "f8f34949-67c1-4cc1-ae0f-857e0a9643e8",
   "metadata": {},
   "outputs": [
    {
     "name": "stdout",
     "output_type": "stream",
     "text": [
      "200\n",
      "50\n"
     ]
    }
   ],
   "source": [
    "# dimensions.py - Example 1\n",
    "dimensions = (200, 50)\n",
    "print(dimensions[0])\n",
    "print(dimensions[1])"
   ]
  },
  {
   "cell_type": "code",
   "execution_count": 38,
   "id": "a6a59530-38e3-4878-9e64-12cab6bbba25",
   "metadata": {},
   "outputs": [
    {
     "ename": "TypeError",
     "evalue": "'tuple' object does not support item assignment",
     "output_type": "error",
     "traceback": [
      "\u001b[1;31m---------------------------------------------------------------------------\u001b[0m",
      "\u001b[1;31mTypeError\u001b[0m                                 Traceback (most recent call last)",
      "Cell \u001b[1;32mIn[38], line 2\u001b[0m\n\u001b[0;32m      1\u001b[0m \u001b[38;5;66;03m# dimensions.py - Example 2 : Trying to change a tuple\u001b[39;00m\n\u001b[1;32m----> 2\u001b[0m dimensions[\u001b[38;5;241m0\u001b[39m] \u001b[38;5;241m=\u001b[39m \u001b[38;5;241m250\u001b[39m\n",
      "\u001b[1;31mTypeError\u001b[0m: 'tuple' object does not support item assignment"
     ]
    }
   ],
   "source": [
    "# dimensions.py - Example 2 : Trying to change a tuple\n",
    "dimensions[0] = 250"
   ]
  },
  {
   "cell_type": "markdown",
   "id": "b6be9ff9-4b72-41a7-b7df-d9616bf59069",
   "metadata": {},
   "source": [
    "`Observation`: Tuples are technically defined by the presence of a comma; the parentheses make them look neater and more readable. If you want to define a tuple with one element, you need to include a trailing comma:"
   ]
  },
  {
   "cell_type": "code",
   "execution_count": 40,
   "id": "26649472-9e5f-4207-8159-f3b6063d8129",
   "metadata": {},
   "outputs": [],
   "source": [
    "my_t = (3,)"
   ]
  },
  {
   "cell_type": "markdown",
   "id": "dd30416f-b4c2-4b3a-bb18-70ffeaef1e9d",
   "metadata": {},
   "source": [
    "It doesn’t often make sense to build a tuple with one element, but this can happen when tuples are generated automatically."
   ]
  },
  {
   "cell_type": "markdown",
   "id": "c0374bb7-abd7-45ad-b03a-2b9bd02472c9",
   "metadata": {},
   "source": [
    "#### Looping Through All Values in a Tuple"
   ]
  },
  {
   "cell_type": "code",
   "execution_count": 41,
   "id": "c1585fd7-3d67-45fa-8416-8d08e63348f9",
   "metadata": {},
   "outputs": [
    {
     "name": "stdout",
     "output_type": "stream",
     "text": [
      "200\n",
      "50\n"
     ]
    }
   ],
   "source": [
    "for dimension in dimensions:\n",
    "    print(dimension)"
   ]
  },
  {
   "cell_type": "markdown",
   "id": "a2d7e455-038a-483a-adfb-4cd6b2abd9d9",
   "metadata": {},
   "source": [
    "#### Writing Over a Tuple\n",
    "Although you can’t modify a tuple, you can assign a new value to a variable that represents a tuple. For example, if we wanted to change the dimensions of this rectangle, we could redefine the entire tuple.  \n",
    "- The first four lines define the original tuple and print the initial dimensions. We then associate a new tuple with the variable dimensions, and print the new values. Python doesn’t raise any errors this time, because reassigning a variable is valid"
   ]
  },
  {
   "cell_type": "code",
   "execution_count": 44,
   "id": "2754d17a-d650-48e8-98df-0f9afccdd626",
   "metadata": {},
   "outputs": [
    {
     "name": "stdout",
     "output_type": "stream",
     "text": [
      "Original dimensions:\n",
      "200\n",
      "50\n",
      "\n",
      "Modified dimensions:\n",
      "400\n",
      "100\n"
     ]
    }
   ],
   "source": [
    "# dimensions.py - Example 3\n",
    "dimensions = (200, 50)\n",
    "print(\"Original dimensions:\")\n",
    "for dimension in dimensions:\n",
    "    print(dimension)\n",
    "    \n",
    "dimensions = (400, 100)\n",
    "print(\"\\nModified dimensions:\")\n",
    "for dimension in dimensions:\n",
    "    print(dimension)"
   ]
  },
  {
   "cell_type": "code",
   "execution_count": null,
   "id": "4c392276-601d-475e-a3fe-2512ec603c8a",
   "metadata": {},
   "outputs": [],
   "source": []
  }
 ],
 "metadata": {
  "kernelspec": {
   "display_name": "Python 3 (ipykernel)",
   "language": "python",
   "name": "python3"
  },
  "language_info": {
   "codemirror_mode": {
    "name": "ipython",
    "version": 3
   },
   "file_extension": ".py",
   "mimetype": "text/x-python",
   "name": "python",
   "nbconvert_exporter": "python",
   "pygments_lexer": "ipython3",
   "version": "3.12.4"
  }
 },
 "nbformat": 4,
 "nbformat_minor": 5
}
