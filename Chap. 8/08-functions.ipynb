{
 "cells": [
  {
   "cell_type": "markdown",
   "id": "edbe6097-4a12-44ab-8cbb-6ae0aef4bd4a",
   "metadata": {},
   "source": [
    "# Python Crash Course\n",
    "## Chapter 8 - Functions"
   ]
  },
  {
   "cell_type": "markdown",
   "id": "f5fdd46b-1ac0-47c5-b2d1-22244e56601a",
   "metadata": {},
   "source": [
    "### What is functions in code?\n",
    "If you need to perform some task multiple times throughout your program, you don't need to type all the code for the same task again and again; you just call the function dedicated to handling that task, and teh call tells Python to run the code inside de function. Using functions makes programs easier to write, read, test, and fix. So functions are blocks of code that are designed to do one specific job."
   ]
  },
  {
   "cell_type": "markdown",
   "id": "4f204607-d615-461f-ac3c-9c31d3e7d94b",
   "metadata": {},
   "source": [
    "### Defining Function\n",
    "\n",
    "- The keyword `def` is necessary to inform Python that you're defining a function.  \n",
    "- The parentheses `()` hold what kind information the function needs to do its job.\n",
    "- The definition of the function must ends in a colon `:`  \n",
    "- Any indented lines that follow the function make up the body of the function.\n",
    "- Docstrings are enclosed in triple quotes, which Python looks for when it generates documentation for the functions in your program.  \n",
    "- Don't forget... if you want to use a function you need to call it. "
   ]
  },
  {
   "cell_type": "code",
   "execution_count": 2,
   "id": "5e8445b4-2073-4c56-a91b-710560919c4d",
   "metadata": {},
   "outputs": [
    {
     "name": "stdout",
     "output_type": "stream",
     "text": [
      "Hello!\n"
     ]
    }
   ],
   "source": [
    "# greeter.py - Example 1\n",
    "def greet_user():\n",
    "    \"\"\" Display a simple greeting.\"\"\"\n",
    "    print(\"Hello!\")\n",
    "    \n",
    "greet_user()"
   ]
  },
  {
   "cell_type": "code",
   "execution_count": 5,
   "id": "cf0f0a09-e914-48c8-a2fa-def2cbce4a56",
   "metadata": {},
   "outputs": [
    {
     "name": "stdout",
     "output_type": "stream",
     "text": [
      "Hello, Charlotte!\n"
     ]
    }
   ],
   "source": [
    "# greeter.py - Example 2\n",
    "def greet_user(username):\n",
    "    \"\"\" Display a simple greeting.\"\"\"\n",
    "    print(\"Hello, \" + username.title() + \"!\")\n",
    "    \n",
    "greet_user('charlotte')"
   ]
  },
  {
   "cell_type": "markdown",
   "id": "af974fe8-f317-4014-999c-90bf0c238f0e",
   "metadata": {},
   "source": [
    "`Observation:` In the preceding greet_user() function, we defined greet_user() to require a value for the variable username. Once we called the function and gave it the information (a person's name), it printed the right greeting."
   ]
  },
  {
   "cell_type": "markdown",
   "id": "a4b5b222-d104-4453-92d8-ed7e72fb4b46",
   "metadata": {},
   "source": [
    "### Passing Arguments\n",
    "Because a function definition can have multiple parameters, a function call may need multiple arguments. You can pass arguments to your functions in a number of ways."
   ]
  },
  {
   "cell_type": "markdown",
   "id": "657457ef-8538-47c2-bcff-7b45d25ab85c",
   "metadata": {},
   "source": [
    "#### Positional Arguments - The order matters :)"
   ]
  },
  {
   "cell_type": "code",
   "execution_count": 2,
   "id": "c410514a-fdfa-41d8-b67d-c25a05569b10",
   "metadata": {},
   "outputs": [
    {
     "name": "stdout",
     "output_type": "stream",
     "text": [
      "\n",
      "I have a hamster.\n",
      "My hamster's name is Harry.\n",
      "\n",
      "I have a dog.\n",
      "My dog's name is Willie.\n"
     ]
    }
   ],
   "source": [
    "# pets.py - Example 1\n",
    "def describe_pet(animal_type, pet_name):\n",
    "    \"\"\"Display information about a pet\"\"\"\n",
    "    print(\"\\nI have a \" + animal_type + \".\")\n",
    "    print(\"My \" + animal_type + \"'s name is \" + pet_name.title() + \".\")\n",
    "    \n",
    "describe_pet('hamster', 'harry')\n",
    "describe_pet('dog', 'willie')"
   ]
  },
  {
   "cell_type": "markdown",
   "id": "b97ac6ee-ac65-499e-9c24-3544002a72ce",
   "metadata": {},
   "source": [
    "#### Keyword Arguments\n",
    "A keyword argument is a name-value pair that you pass to a function. You directly associate the name and the value within the argument, so when you pass the argument to the function, there's no confusion."
   ]
  },
  {
   "cell_type": "code",
   "execution_count": 3,
   "id": "b75df4a3-b7a1-4cb9-ae15-5364719b8064",
   "metadata": {},
   "outputs": [
    {
     "name": "stdout",
     "output_type": "stream",
     "text": [
      "\n",
      "I have a hamster.\n",
      "My hamster's name is Harry.\n",
      "\n",
      "I have a dog.\n",
      "My dog's name is Willie.\n"
     ]
    }
   ],
   "source": [
    "# pets.py - Example 2\n",
    "def describe_pet(animal_type, pet_name):\n",
    "    \"\"\"Display information about a pet\"\"\"\n",
    "    print(\"\\nI have a \" + animal_type + \".\")\n",
    "    print(\"My \" + animal_type + \"'s name is \" + pet_name.title() + \".\")\n",
    "    \n",
    "describe_pet(animal_type='hamster', pet_name='harry')\n",
    "describe_pet(pet_name='willie', animal_type='dog')"
   ]
  },
  {
   "cell_type": "markdown",
   "id": "20f5326d-fea6-41fb-8c99-fc7ecae2d282",
   "metadata": {},
   "source": [
    "#### Default Values\n",
    "\n",
    "When writing a function, you can define a default value for each parameter. If an argument for a parameter is provided in the function call, Python uses the argument value. So if not, it uses the parameter's default value."
   ]
  },
  {
   "cell_type": "code",
   "execution_count": 4,
   "id": "0c15471f-d5ec-4bdc-9d31-874d6bdb1812",
   "metadata": {},
   "outputs": [
    {
     "name": "stdout",
     "output_type": "stream",
     "text": [
      "\n",
      "I have a hamster.\n",
      "My hamster's name is Harry.\n",
      "\n",
      "I have a dog.\n",
      "My dog's name is Willie.\n"
     ]
    }
   ],
   "source": [
    "# pets.py - Example 3\n",
    "def describe_pet(pet_name, animal_type='dog'):\n",
    "    \"\"\"Display information about a pet\"\"\"\n",
    "    print(\"\\nI have a \" + animal_type + \".\")\n",
    "    print(\"My \" + animal_type + \"'s name is \" + pet_name.title() + \".\")\n",
    "    \n",
    "describe_pet(animal_type='hamster', pet_name='harry')\n",
    "describe_pet(pet_name='willie')"
   ]
  },
  {
   "cell_type": "markdown",
   "id": "5532f730-6517-4688-ab89-b11289a3ca15",
   "metadata": {},
   "source": [
    "Because positional arguments, keywords arguments, and default values can all be used together, often you'll have sereval equivalent ways to call a function. So with this definition, an argument always needs to be provided for pet_name, and this value can be provided using the positional or keyword format. If the animal being described is not a dog, an argument for animal_type must be included in the call, and this argument can also be specified using the positional or keyword format."
   ]
  },
  {
   "cell_type": "markdown",
   "id": "889d62b6-6aae-4b35-846e-d0c41bfddf10",
   "metadata": {},
   "source": [
    "### Return Values"
   ]
  },
  {
   "cell_type": "markdown",
   "id": "f609f1b1-30f4-4ccb-81d7-41237738352b",
   "metadata": {},
   "source": [
    "A function doesn't always have to display its output directly. Instead, it can process some data and then return a value or a set of values. The return statement takes a value from inside a function and sends it back to the line that called the function."
   ]
  },
  {
   "cell_type": "code",
   "execution_count": 5,
   "id": "591a84d8-c93e-4b89-bab3-f00c8c10df92",
   "metadata": {},
   "outputs": [
    {
     "name": "stdout",
     "output_type": "stream",
     "text": [
      "Jimi Hendrix\n"
     ]
    }
   ],
   "source": [
    "# formatted_name.py - Example 1\n",
    "\n",
    "def get_formatted_name(first_name, last_name):\n",
    "    \"\"\"Return a full name, neatly formatted.\"\"\"\n",
    "    full_name = first_name + ' ' + last_name\n",
    "    return full_name.title()\n",
    "\n",
    "musician = get_formatted_name('jimi', 'hendrix')\n",
    "print(musician)"
   ]
  },
  {
   "cell_type": "markdown",
   "id": "05a3946a-a091-413e-afb9-839af012b6c3",
   "metadata": {},
   "source": [
    "The definition of get_formatted_name() takes as parameters a first and last name. The function combines these two names, adds a space between them, and stores the result in full_name. The value of full_name is converted to title case, and then returned to the calling line 6. When you call a function that returns a value, you need to provide a variable where the return value can be stored. "
   ]
  },
  {
   "cell_type": "markdown",
   "id": "575dfd2c-51ee-4192-8a08-c6c4c39155f8",
   "metadata": {},
   "source": [
    "This might seem like a lot of work to get a neatly formatted name when we could have just written: "
   ]
  },
  {
   "cell_type": "code",
   "execution_count": null,
   "id": "3ca1cd4c-dd26-4935-908f-4c01b8a8cce0",
   "metadata": {},
   "outputs": [],
   "source": [
    "print(\"Jimi Hendrix\")"
   ]
  },
  {
   "cell_type": "markdown",
   "id": "e6bf308b-9676-4338-bb8c-96f3ab4c453f",
   "metadata": {},
   "source": [
    "But when you consider working with a large program that needs to store many first and last names separately, functions like get_formatted_name() become very useful. You store first and last names separately and then call this function whenever you want to display a full name."
   ]
  },
  {
   "cell_type": "markdown",
   "id": "ce5635b9-2c08-4ace-b9a8-9d941a1f1ae2",
   "metadata": {},
   "source": [
    "#### Making an Argument Optional\n",
    "Sometimes it makes sense to make an argument optional so that people using the function can choose to provide extra information only if they want to. You can use default values to make an argument optional."
   ]
  },
  {
   "cell_type": "code",
   "execution_count": 10,
   "id": "98183801-80ea-4b69-bf4e-84f47f81fb32",
   "metadata": {},
   "outputs": [
    {
     "name": "stdout",
     "output_type": "stream",
     "text": [
      "Jimi Hendrix\n",
      "John Hooker Lee\n"
     ]
    }
   ],
   "source": [
    "# formatted_name.py - Example 2\n",
    "\n",
    "def get_formatted_name(first_name, last_name, middle_name=''):\n",
    "    \"\"\"Return a full name, neatly formatted.\"\"\"\n",
    "    if middle_name:\n",
    "        full_name = first_name + ' ' + middle_name + ' ' + last_name\n",
    "    else:\n",
    "        full_name = first_name + ' ' + last_name\n",
    "    \n",
    "    return full_name.title()\n",
    "\n",
    "musician = get_formatted_name('jimi', 'hendrix')\n",
    "print(musician)\n",
    "\n",
    "musician = get_formatted_name('john', 'lee', 'hooker')\n",
    "print(musician)"
   ]
  },
  {
   "cell_type": "markdown",
   "id": "5405ae42-5f3b-4be3-a388-7d31bc290b94",
   "metadata": {},
   "source": [
    "`Observation:` In this example, the name is built from three possible parts. Because there's always a first and last name, these parameters are listed first in the function's definition. The middle name is optional, so it's listed last in the definition, and its default value is an empty string."
   ]
  },
  {
   "cell_type": "markdown",
   "id": "98e9802e-5f70-4546-874b-f1c4e524c33d",
   "metadata": {},
   "source": [
    "#### Returning a Dictionary"
   ]
  },
  {
   "cell_type": "code",
   "execution_count": 13,
   "id": "6fd9dddb-4366-4e3e-a54f-af9928cc3af8",
   "metadata": {},
   "outputs": [
    {
     "name": "stdout",
     "output_type": "stream",
     "text": [
      "{'first': 'jimi', 'last': 'hendrix', 'age': 27}\n"
     ]
    }
   ],
   "source": [
    "# person.py\n",
    "\n",
    "def build_person(first_name, last_name, age=''):\n",
    "    \"\"\"Return a dictionary of information about a person\"\"\"\n",
    "    person = {'first': first_name, 'last': last_name}\n",
    "    if age:\n",
    "        person['age'] = age\n",
    "    return person\n",
    "\n",
    "musician = build_person('jimi', 'hendrix', age=27)\n",
    "print(musician)"
   ]
  },
  {
   "cell_type": "markdown",
   "id": "36d57918-2b43-4c77-a245-36cf544155e3",
   "metadata": {},
   "source": [
    "#### Using a Function with a while Loop"
   ]
  },
  {
   "cell_type": "code",
   "execution_count": 15,
   "id": "9324c1da-f459-431d-8bfc-d6db254c0cf6",
   "metadata": {},
   "outputs": [
    {
     "name": "stdout",
     "output_type": "stream",
     "text": [
      "\n",
      "Please tell me your name:\n",
      "(enter 'q' at any time to quit)\n"
     ]
    },
    {
     "name": "stdin",
     "output_type": "stream",
     "text": [
      "First name:  eric\n",
      "Last name:  matthes\n"
     ]
    },
    {
     "name": "stdout",
     "output_type": "stream",
     "text": [
      "\n",
      "Hello, Eric Matthes!\n",
      "\n",
      "Please tell me your name:\n",
      "(enter 'q' at any time to quit)\n"
     ]
    },
    {
     "name": "stdin",
     "output_type": "stream",
     "text": [
      "First name:  q\n"
     ]
    }
   ],
   "source": [
    "# greeter.py\n",
    "\n",
    "def get_formatted_name(first_name, last_name):\n",
    "    \"\"\"Return a full name, neatly formatted.\"\"\"\n",
    "    full_name = first_name + ' ' + last_name\n",
    "    return full_name.title()\n",
    "\n",
    "while True:\n",
    "    print(\"\\nPlease tell me your name:\")\n",
    "    print(\"(enter 'q' at any time to quit)\")\n",
    "\n",
    "    f_name = input(\"First name: \")\n",
    "    if f_name == 'q':\n",
    "        break\n",
    "    l_name = input(\"Last name: \")\n",
    "    if l_name == 'q':\n",
    "        break\n",
    "    formatted_name = get_formatted_name(f_name, l_name)\n",
    "    print(\"\\nHello, \" + formatted_name + \"!\")"
   ]
  },
  {
   "cell_type": "markdown",
   "id": "00d8218b-c4ba-401a-b647-87f80f8876d5",
   "metadata": {},
   "source": [
    "### Passing a List"
   ]
  },
  {
   "cell_type": "code",
   "execution_count": 2,
   "id": "ac20021b-1c98-4f09-b0ca-2a0d2d072790",
   "metadata": {},
   "outputs": [
    {
     "name": "stdout",
     "output_type": "stream",
     "text": [
      "Hello, Hannah!\n",
      "Hello, Ty!\n",
      "Hello, Margot!\n"
     ]
    }
   ],
   "source": [
    "# greet_users.py\n",
    "def greet_users(names):\n",
    "    \"\"\"Print a simple greeting to each user in the list.\"\"\"\n",
    "    for name in names:\n",
    "        msg = \"Hello, \" + name.title() + \"!\"\n",
    "        print(msg)\n",
    "\n",
    "usernames = ['hannah', 'ty', 'margot']\n",
    "greet_users(usernames)"
   ]
  },
  {
   "cell_type": "markdown",
   "id": "09b71c1e-cd22-439e-901e-6e9a41227078",
   "metadata": {},
   "source": [
    "#### Modifying a List in a Function\n",
    "When you pass a list to a function, the function can modify the list. Any changes made to the list inside the function's body are permanent, allowing you to work efficiently even when you're dealing with large amount of data."
   ]
  },
  {
   "cell_type": "code",
   "execution_count": 8,
   "id": "e0067edc-5119-4a51-8526-3b22e990735f",
   "metadata": {},
   "outputs": [
    {
     "name": "stdout",
     "output_type": "stream",
     "text": [
      "Printing model: dodecahedron\n",
      "Printing model: robot pendant\n",
      "Printing model: iphone case\n",
      "\n",
      "The following models have been printed:\n",
      "dodecahedron\n",
      "robot pendant\n",
      "iphone case\n"
     ]
    }
   ],
   "source": [
    "# printing_models.py\n",
    "def print_models(unprinted_designs, completed_models):\n",
    "    \"\"\" Simulate printing each design, until none are left.\n",
    "    Move each design to completed_models after printing.\"\"\"\n",
    "    \n",
    "    while unprinted_designs:\n",
    "        current_design = unprinted_designs.pop()\n",
    "    \n",
    "        # Simulate creating a 3D print from the design.\n",
    "        print(\"Printing model: \" + current_design)\n",
    "        completed_models.append(current_design)\n",
    "\n",
    "def show_completed_models(completed_models):\n",
    "    \"\"\" Show all the models that were printed.\"\"\"\n",
    "    print(\"\\nThe following models have been printed:\")\n",
    "    for completed_model in completed_models:\n",
    "        print(completed_model)\n",
    "\n",
    "unprinted_designs = ['iphone case', 'robot pendant', 'dodecahedron']\n",
    "completed_models = []\n",
    "\n",
    "print_models(unprinted_designs, completed_models)\n",
    "show_completed_models(completed_models)"
   ]
  },
  {
   "cell_type": "markdown",
   "id": "2b27b7e7-4480-4323-b21a-0260d57d72a9",
   "metadata": {},
   "source": [
    "`Observation:` This example also demonstrates the idea that every function should have one specific job. The first function prints each design, and the second displays the completed models. This is more beneficial than using one function to do both jobs. If you're writing a function and notice the function is doing too many different tasks, try to split the code into two functions. Remeber that you can always call a function from another function which can be helpful when splitting a complex task into a series of steps."
   ]
  },
  {
   "cell_type": "markdown",
   "id": "bf563a27-1785-44f5-beb6-c8321917a208",
   "metadata": {},
   "source": [
    "#### Preventing a Functions from Modifyng a List\n",
    "\n",
    "In this case, you can address this issue by passing the function a copy of the list, not the original. Any changes the function makes to the list will affect only the copy, leaving the original list intact.  \n",
    "\n",
    "You can send a copy of a list to a function like this:"
   ]
  },
  {
   "cell_type": "code",
   "execution_count": null,
   "id": "f0343f8e-b7b0-4e13-bb85-2198ea5580ba",
   "metadata": {},
   "outputs": [],
   "source": [
    "function_name(list_name[:])"
   ]
  },
  {
   "cell_type": "code",
   "execution_count": 10,
   "id": "084174d2-bfb1-497c-becc-c5d2fc4ebda8",
   "metadata": {},
   "outputs": [],
   "source": [
    "print_models(unprinted_designs[:], completed_models)"
   ]
  },
  {
   "cell_type": "markdown",
   "id": "4b80f8d7-11f4-4fce-b873-ab1fca32a961",
   "metadata": {},
   "source": [
    "Even though you can preserve the contents of a list by passing a copy \n",
    "of it to your functions, you should pass the original list to functions unless you have a specific reason to pass a copy. It’s more efficient for a function to work with an existing list to avoid using the time and memory needed to make a separate copy, especially when you’re working with large lists."
   ]
  },
  {
   "cell_type": "markdown",
   "id": "ee413980-a09c-4a53-887e-f3d6b3283f9a",
   "metadata": {},
   "source": [
    "### Passing an Arbitrary Number of Arguments\n",
    "\n",
    "Sometimes you won't know ahead of time how many arguments a function needs to accept. Fortunately, Python allows a function to collect an arbitrary number of arguments from the calling statement."
   ]
  },
  {
   "cell_type": "code",
   "execution_count": 12,
   "id": "fc4ed6b9-625d-4384-b4e1-e36fe02e7cb5",
   "metadata": {},
   "outputs": [
    {
     "name": "stdout",
     "output_type": "stream",
     "text": [
      "\n",
      "Making a pizza with the following toppings:\n",
      "- pepperoni\n",
      "\n",
      "Making a pizza with the following toppings:\n",
      "- mushrooms\n",
      "- green pepers\n",
      "- extra cheese\n"
     ]
    }
   ],
   "source": [
    "# pizza.py\n",
    "\n",
    "def make_pizza(*toppings):\n",
    "    \"\"\"Summarize the pizza we are about to make.\"\"\"\n",
    "    print(\"\\nMaking a pizza with the following toppings:\")\n",
    "    for topping in toppings:\n",
    "        print(\"- \" + topping)\n",
    "\n",
    "make_pizza('pepperoni')\n",
    "make_pizza('mushrooms', 'green pepers', 'extra cheese')"
   ]
  },
  {
   "cell_type": "markdown",
   "id": "46f16244-ddfb-4570-8b55-15ae13bbb93b",
   "metadata": {},
   "source": [
    "The asterisk in the parameter name `*toopings`tells Python to make an empty tuple called toppings and pack whatever values it receives into this tuple. The print statement in the function body produces output showing that Python can handle a function call with one value and a call with tree values. It treats the different calls similarly."
   ]
  },
  {
   "cell_type": "markdown",
   "id": "d1880677-2f6f-4a8c-872c-d7c7ecf43233",
   "metadata": {},
   "source": [
    "#### Mixing Positional and Arbitrary Arguments\n",
    "\n",
    "If you want a function to accept several different kinds of arguments, the parameter that accepts an arbitrary number of arguments must be placed last in the function definition."
   ]
  },
  {
   "cell_type": "code",
   "execution_count": 13,
   "id": "ea7e88fb-d3b8-4263-8180-407deb5f327d",
   "metadata": {},
   "outputs": [
    {
     "name": "stdout",
     "output_type": "stream",
     "text": [
      "\n",
      "Making a 16-inch pizza with the following toppings:\n",
      "- pepperoni\n",
      "\n",
      "Making a 12-inch pizza with the following toppings:\n",
      "- mushrooms\n",
      "- green pepers\n",
      "- extra cheese\n"
     ]
    }
   ],
   "source": [
    "# pizza.py\n",
    "\n",
    "def make_pizza(size, *toppings):\n",
    "    \"\"\"Summarize the pizza we are about to make.\"\"\"\n",
    "    print(\"\\nMaking a \" + str(size) + \"-inch pizza with the following toppings:\")\n",
    "    for topping in toppings:\n",
    "        print(\"- \" + topping)\n",
    "\n",
    "make_pizza(16, 'pepperoni')\n",
    "make_pizza(12, 'mushrooms', 'green pepers', 'extra cheese')"
   ]
  },
  {
   "cell_type": "markdown",
   "id": "9980055d-384d-4b54-a488-ca17901b8ea4",
   "metadata": {},
   "source": [
    "#### Using Arbitrary Keyword Arguments\n",
    "\n",
    "Sometimes you'll want to accept an arbitrary number of arguments, but you won't know ahead of time what kind of information will be passed to the function. In this case, you can write functions that accept as many key-value pairs as the calling statement provides.\n"
   ]
  },
  {
   "cell_type": "code",
   "execution_count": 14,
   "id": "56f25feb-db41-4206-b28e-1ee86533963e",
   "metadata": {},
   "outputs": [
    {
     "name": "stdout",
     "output_type": "stream",
     "text": [
      "{'first_name': 'albert', 'last_name': 'einstein', 'location': 'princeton', 'field': 'physics'}\n"
     ]
    }
   ],
   "source": [
    "# profile.py\n",
    "\n",
    "def build_profile(first, last, **user_info):\n",
    "    \"\"\"Build a dictionary containing everything we know about a user.\"\"\"\n",
    "    profile = {}\n",
    "    profile['first_name'] = first\n",
    "    profile['last_name'] = last\n",
    "    for key, value in user_info.items():\n",
    "        profile[key] = value\n",
    "    return profile\n",
    "\n",
    "user_profile = build_profile('albert', 'einstein',\n",
    "                             location='princeton',\n",
    "                             field='physics')\n",
    "\n",
    "print(user_profile)"
   ]
  },
  {
   "cell_type": "markdown",
   "id": "02d591ed-70c5-45d7-af5f-4128e78afb87",
   "metadata": {},
   "source": [
    "### Storing Your Functions in Modules\n",
    "\n",
    "One advantage of functions is the way they separate blocks of code from your main program. By using descriptive names for your functions, your main program will be much easier to follow. You can go a step further by storing your functions in a separate file called a module and then importing that module into your program. An import statement tells Python to make the code in a module available in the currently running program file.  \n",
    "\n",
    "Storing your functions in a separete file allows you to hide the details of your program's code and focus on its higher-level logic. It also allows you to reuse functions in many different programs. \n",
    "\n",
    "`import python_file`"
   ]
  },
  {
   "cell_type": "markdown",
   "id": "257f4ee2-3f7e-4142-80dd-657846490dee",
   "metadata": {},
   "source": [
    "#### Importing Specific Funcions\n",
    "\n",
    "- `from module_name import function_name`\n",
    "- `from module_name import function_0, function_1, function_2`"
   ]
  },
  {
   "cell_type": "markdown",
   "id": "dd30a766-1e6d-4954-8fb4-7f046b286bf9",
   "metadata": {},
   "source": [
    "#### Using as to Give a Function an Alias\n",
    "\n",
    "If the name of a function you’re importing might conflict with an existing name in your program or if the function name is long, you can use a\r\n",
    "short, unique alias—an alternate name similar to a nickname for the function. You’ll give the function this special nickname when you import the\r\n",
    "function."
   ]
  },
  {
   "cell_type": "markdown",
   "id": "c71c1561-c784-42da-93a9-166996d2bcf0",
   "metadata": {},
   "source": [
    "##### Example:\n",
    "\n",
    "`from pizza import make_pizza as mp`\n"
   ]
  },
  {
   "cell_type": "markdown",
   "id": "a8b281d4-034d-4b3c-a5e1-f378b3dc3fee",
   "metadata": {},
   "source": [
    "You can also provide an alias for a module name. Giving a module a short \n",
    "alias, like p for pizza, allows you to call the module’s functions more quickly. \n",
    "##### Example:\n",
    "`import pizza as p`\r"
   ]
  },
  {
   "cell_type": "markdown",
   "id": "523cdb41-9bb5-4317-ab9f-e8a1048585d3",
   "metadata": {},
   "source": [
    "### Styling Function\n",
    "\n",
    "- Functions should have descriptive names, and these names should use\n",
    "lowercase letters and underscores.\n",
    "- Descriptive names help you and others understand what your code is trying to do.\n",
    "- Module names should use these conventions as well.\n",
    "- Every function should have a comment that explains concisely what the fucntion does. This comment should appear immediately after the function definition and use the docstring format."
   ]
  }
 ],
 "metadata": {
  "kernelspec": {
   "display_name": "Python 3 (ipykernel)",
   "language": "python",
   "name": "python3"
  },
  "language_info": {
   "codemirror_mode": {
    "name": "ipython",
    "version": 3
   },
   "file_extension": ".py",
   "mimetype": "text/x-python",
   "name": "python",
   "nbconvert_exporter": "python",
   "pygments_lexer": "ipython3",
   "version": "3.12.4"
  }
 },
 "nbformat": 4,
 "nbformat_minor": 5
}
