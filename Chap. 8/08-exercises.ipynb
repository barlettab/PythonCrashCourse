{
 "cells": [
  {
   "cell_type": "markdown",
   "id": "2da5296c-94be-4af0-86d0-afcada4b97f9",
   "metadata": {},
   "source": [
    "# Python Crash Course\n",
    "## Chapter 8 - Exercises"
   ]
  },
  {
   "cell_type": "markdown",
   "id": "9ed3f899-92a0-4f56-bdcd-34365401f404",
   "metadata": {},
   "source": [
    "### 8-1. Messaage:\n",
    "Write a function called display_message() that prints one sentence telling everyone what you are learning about in this chapter. Call the function, and make sure the message displays correctly."
   ]
  },
  {
   "cell_type": "code",
   "execution_count": 2,
   "id": "68a404d7-ca9a-449b-93ae-e40433a8e678",
   "metadata": {},
   "outputs": [
    {
     "name": "stdout",
     "output_type": "stream",
     "text": [
      "Hello there! In this chapter I'm learning about functions\n"
     ]
    }
   ],
   "source": [
    "def display_message():\n",
    "    print(\"Hello there! In this chapter I'm learning about functions\")\n",
    "\n",
    "display_message()"
   ]
  },
  {
   "cell_type": "markdown",
   "id": "b6e8d113-7ee9-4c19-a1c0-7d855742cfc8",
   "metadata": {},
   "source": [
    "### 8-2. Favorite Book: \n",
    "Write a function called favorite_book() that accepts one parameter, title. The function should print a message, such as One of my favorite book is Alice in Wonderland. Call the function, making sure to include a book title as an argument in the function call."
   ]
  },
  {
   "cell_type": "code",
   "execution_count": 4,
   "id": "a64b3b7b-77a6-4d64-95f7-a733454669e9",
   "metadata": {},
   "outputs": [
    {
     "name": "stdout",
     "output_type": "stream",
     "text": [
      "One of my favorite book is Alice in Wonderland.\n"
     ]
    }
   ],
   "source": [
    "def favorite_book(title):\n",
    "    print(f\"One of my favorite book is {title}.\")\n",
    "\n",
    "favorite_book(\"Alice in Wonderland\")"
   ]
  },
  {
   "cell_type": "markdown",
   "id": "43c954ea-f816-4830-bc5b-0c50792436f6",
   "metadata": {},
   "source": [
    "### 8-3. T-Shirt: \n",
    "Write a function called make_shirt() that accepts a size and the text of a message that should be printed on the shirt. The function should print a sentence summarizing the size of the shirt and the message printed on it. Call the function once using positional argument to make a shirt. Call the function a second time using keyword arguments."
   ]
  },
  {
   "cell_type": "code",
   "execution_count": 7,
   "id": "671b0bce-42f4-4103-bb58-ad5b7fc423de",
   "metadata": {},
   "outputs": [
    {
     "name": "stdout",
     "output_type": "stream",
     "text": [
      "Size: L\n",
      "Message: I Love Jesus!\n",
      "\n",
      "Size: S\n",
      "Message: CATS\n",
      "\n"
     ]
    }
   ],
   "source": [
    "def make_shirt(size, text_message):\n",
    "    print(f\"Size: {size}\\nMessage: {text_message}\\n\")\n",
    "\n",
    "make_shirt(\"L\", \"I Love Jesus!\")\n",
    "make_shirt(size=\"S\", text_message=\"CATS\")"
   ]
  },
  {
   "cell_type": "markdown",
   "id": "5014da50-d079-4cb1-b2a3-7fd9b0d605f7",
   "metadata": {},
   "source": [
    "### 8-4. Large Shirts\n",
    "Modify the make_shirt() function so that shirts are large by default with a message that reads I love Python. Make a large shirt and a medium shirt with the default message, and a shirt of any size with a different message."
   ]
  },
  {
   "cell_type": "code",
   "execution_count": 16,
   "id": "fad31ba4-eb6e-4217-b60a-62456dfddf8f",
   "metadata": {},
   "outputs": [
    {
     "name": "stdout",
     "output_type": "stream",
     "text": [
      "Size: L\n",
      "Message: I love Python\n",
      "\n",
      "Size: M\n",
      "Message: I love Python\n",
      "\n",
      "Size: L\n",
      "Message: This book is nice!\n",
      "\n"
     ]
    }
   ],
   "source": [
    "def make_shirt(size='L', text_message='I love Python'):\n",
    "    print(f\"Size: {size}\\nMessage: {text_message}\\n\")\n",
    "\n",
    "make_shirt()\n",
    "make_shirt(\"M\")\n",
    "make_shirt(text_message='This book is nice!')"
   ]
  },
  {
   "cell_type": "markdown",
   "id": "973371dc-9331-4715-95eb-825cf348723d",
   "metadata": {},
   "source": [
    "### 8-5 Cities:\n",
    "Write a function called describe_city() that accepts the name of a city and its country. The fucntion should print a simple sentence, such as Reykjavuk is in Iceland. Give the parameter for the country a default value. Call your function for three different cities, at least one of which is not in the default country."
   ]
  },
  {
   "cell_type": "code",
   "execution_count": 19,
   "id": "cf7341e2-efb2-47dc-ae95-89fb77b04dec",
   "metadata": {},
   "outputs": [
    {
     "name": "stdout",
     "output_type": "stream",
     "text": [
      "Sao Paulo is in Brazil.\n",
      "Reykjavuk is in Iceland.\n",
      "Rio de Janeiro is in Brazil.\n",
      "London is in England.\n"
     ]
    }
   ],
   "source": [
    "def describe_city(city='Sao Paulo', country='Brazil'):\n",
    "    print(f\"{city} is in {country}.\")\n",
    "\n",
    "describe_city()\n",
    "describe_city(\"Reykjavuk\", \"Iceland\")\n",
    "describe_city(\"Rio de Janeiro\")\n",
    "describe_city(city=\"London\", country=\"England\")"
   ]
  },
  {
   "cell_type": "markdown",
   "id": "d6d93ce3-f83a-4b9e-ac02-7ac5173ed875",
   "metadata": {},
   "source": [
    "### 8-6. City Names: \n",
    "Write a function called city_coutry() that makes in the name of a city and its country. The function should return a string formatted like this: \"Santiago, Chile\".  \n",
    "Call your function with at least three city-country pairs, and print the value that's returned."
   ]
  },
  {
   "cell_type": "code",
   "execution_count": 2,
   "id": "071fab0b-f1df-4b27-bb01-904915c60cfc",
   "metadata": {},
   "outputs": [
    {
     "name": "stdout",
     "output_type": "stream",
     "text": [
      "Santiago, Chile.\n",
      "Sao Paulo, Brazil.\n",
      "Sidney, Australia.\n"
     ]
    }
   ],
   "source": [
    "def city_country(name, country):\n",
    "    return f\"{name.title()}, {country.title()}.\"\n",
    "\n",
    "cc = city_country(\"santiago\", \"chile\")\n",
    "print(cc)\n",
    "\n",
    "cc = city_country(\"sao paulo\", \"brazil\")\n",
    "print(cc)\n",
    "\n",
    "cc = city_country(\"sidney\", \"australia\")\n",
    "print(cc)"
   ]
  },
  {
   "cell_type": "markdown",
   "id": "2b7e99e7-1b30-4bde-bdd9-22c418248211",
   "metadata": {},
   "source": [
    "### 8-7. Album: \n",
    "\n",
    "Write a function called make_album() that builds a dictionary describing a music album. The function should take in an artist name and an album title, and it should return a dictionary containing these two pieces of information. Use the function to make three dictionaries representing different albums. Print each return value to show that the dictionaries are storing the album information correctly.    \n",
    "\n",
    "Add an optional parameter to make_album() that allows you to store the number of tracks on an album. If the calling line includes a value for the number of tracks, add that value to the album's dictionary. Make at least one new function call that includes the number of tracks on an album."
   ]
  },
  {
   "cell_type": "code",
   "execution_count": 7,
   "id": "23170c12-a13a-4a62-9cee-ea3e4b25a821",
   "metadata": {},
   "outputs": [
    {
     "name": "stdout",
     "output_type": "stream",
     "text": [
      "{'name': 'adele', 'album_title': '21'}\n",
      "{'name': 'guns and roses', 'album_title': 'appetite for destruction'}\n",
      "{'name': 'the beattles', 'album_title': 'abbey road', 'number_tracks': 12}\n"
     ]
    }
   ],
   "source": [
    "def make_album(name, album_title, number_tracks=''):\n",
    "    album = {'name': name, 'album_title': album_title}\n",
    "\n",
    "    if number_tracks:\n",
    "        album['number_tracks'] = number_tracks\n",
    "    \n",
    "    return album\n",
    "\n",
    "musician = make_album(\"adele\", \"21\")\n",
    "print(musician)\n",
    "\n",
    "musician = make_album(\"guns and roses\", \"appetite for destruction\")\n",
    "print(musician)\n",
    "\n",
    "musician = make_album(\"the beattles\", \"abbey road\", 12)\n",
    "print(musician)\n"
   ]
  },
  {
   "cell_type": "markdown",
   "id": "50a04a2f-e052-4c8b-aca0-fffd46d813c5",
   "metadata": {},
   "source": [
    "### 8-8. User Albums: \n",
    "Start with your program from Exercise 8-7. Write a while loop that allows users to enter an album's artist and title. Once you have that information, call make_album() with the user's input and print the dictionary that's created. Be sure to include a quit value in the while loop."
   ]
  },
  {
   "cell_type": "code",
   "execution_count": 6,
   "id": "46f1aea5-9263-48c2-8dfc-b06ac00d0a33",
   "metadata": {},
   "outputs": [
    {
     "name": "stdout",
     "output_type": "stream",
     "text": [
      "\n",
      "Type the informations below or type 'q' to quit\n"
     ]
    },
    {
     "name": "stdin",
     "output_type": "stream",
     "text": [
      "Artist:  Fleetwood Mac\n",
      "Album:  Rumours\n",
      "Song title:  Dreams\n"
     ]
    },
    {
     "name": "stdout",
     "output_type": "stream",
     "text": [
      "{'name': 'Fleetwood Mac', 'album_title': 'Rumours', 'song_title': 'Dreams'}\n",
      "\n",
      "Type the informations below or type 'q' to quit\n"
     ]
    },
    {
     "name": "stdin",
     "output_type": "stream",
     "text": [
      "Artist:  Adele\n",
      "Album:  Easy on me\n",
      "Song title:  Easy on me\n"
     ]
    },
    {
     "name": "stdout",
     "output_type": "stream",
     "text": [
      "{'name': 'Adele', 'album_title': 'Easy on me', 'song_title': 'Easy on me'}\n",
      "\n",
      "Type the informations below or type 'q' to quit\n"
     ]
    },
    {
     "name": "stdin",
     "output_type": "stream",
     "text": [
      "Artist:  Q\n"
     ]
    }
   ],
   "source": [
    "def make_album(name, album_title, song_title):\n",
    "    album = {'name': name, 'album_title': album_title, 'song_title': song_title}\n",
    "    \n",
    "    return album\n",
    "\n",
    "while True:\n",
    "    print(\"\\nType the informations below or type 'q' to quit\")\n",
    "    name = input((\"Artist: \"))\n",
    "\n",
    "    if name.lower() == 'q':\n",
    "        break\n",
    "    \n",
    "    album = input((\"Album: \"))\n",
    "    title = input((\"Song title: \" ))\n",
    "\n",
    "    musician = make_album(name, album, title)\n",
    "    print(musician)\n",
    "    "
   ]
  },
  {
   "cell_type": "markdown",
   "id": "3d1c9fe5-de5c-412c-8917-c39f33afaecf",
   "metadata": {},
   "source": [
    "### 8-9. Magicians:\n",
    "\n",
    "Make a list of magician's names. Pass the list to a function called show_magicians(), which prints the name of each magician in the list."
   ]
  },
  {
   "cell_type": "code",
   "execution_count": 9,
   "id": "adadf01f-5535-4e97-9a56-eb862a6b6747",
   "metadata": {},
   "outputs": [
    {
     "name": "stdout",
     "output_type": "stream",
     "text": [
      "The list of magicians is: \n",
      "\n",
      "Criss Angel\n",
      "David Blaine\n",
      "Derren Brown\n",
      "Shin Lim\n",
      "Harry Houdini\n",
      "David Copperfield\n"
     ]
    }
   ],
   "source": [
    "def show_magicians(magicians):\n",
    "    \"\"\" Print the name of each magician in the list. \"\"\"\n",
    "    print(\"The list of magicians is: \\n\")\n",
    "    for magician in magicians:\n",
    "        print(magician)\n",
    "\n",
    "magicians = ['Criss Angel', 'David Blaine', 'Derren Brown', 'Shin Lim', 'Harry Houdini', 'David Copperfield']\n",
    "show_magicians(magicians)"
   ]
  },
  {
   "cell_type": "markdown",
   "id": "e984dc6f-23de-4ea9-9cbf-09e5bc6f3559",
   "metadata": {},
   "source": [
    "### 8-10. Great Magicians:\n",
    "\n",
    "Start with a copy of your program form Exercise 8-9. Write a function called make_great() that modifies the list of magicians by adding the phrase `the Great` to each magician's name. Call show_magicians() to see that the list has actually been modified."
   ]
  },
  {
   "cell_type": "code",
   "execution_count": 14,
   "id": "1e313c7e-999a-475b-b255-56ecd08bc971",
   "metadata": {},
   "outputs": [
    {
     "name": "stdout",
     "output_type": "stream",
     "text": [
      "Original List:\n",
      "Criss Angel\n",
      "David Blaine\n",
      "Derren Brown\n",
      "Shin Lim\n",
      "Harry Houdini\n",
      "David Copperfield\n",
      "\n",
      "Make Great List:\n",
      "The Great Criss Angel!\n",
      "The Great David Blaine!\n",
      "The Great Derren Brown!\n",
      "The Great Shin Lim!\n",
      "The Great Harry Houdini!\n",
      "The Great David Copperfield!\n"
     ]
    }
   ],
   "source": [
    "def show_magicians(magicians):\n",
    "    \"\"\" Print the name of each magician in the list. \"\"\"\n",
    "    for magician in magicians:\n",
    "        print(magician)\n",
    "\n",
    "def make_great(magicians):\n",
    "    for magician in magicians:\n",
    "        print(\"The Great \" + magician + \"!\")\n",
    "    \n",
    "magicians = ['Criss Angel', 'David Blaine', 'Derren Brown', 'Shin Lim', 'Harry Houdini', 'David Copperfield']\n",
    "\n",
    "print(\"Original List:\")\n",
    "show_magicians(magicians)\n",
    "\n",
    "print(\"\\nMake Great List:\")\n",
    "make_great(magicians)"
   ]
  },
  {
   "cell_type": "markdown",
   "id": "9377d380-27d1-4394-afea-172c7e3fd3c4",
   "metadata": {},
   "source": [
    "### 8-11. Unchanged Magicians:\n",
    "\n",
    "Start with your work from Exercise 8-10. Call the function make_great() with a copy of the list of magicians' names. Because the original list will be unchanged, return the new list and store it in a separate list. Call show_magicians() with each list to show that you have one list of the original names and one list with `the Great`added to each magicians' name."
   ]
  },
  {
   "cell_type": "code",
   "execution_count": 15,
   "id": "113868fd-93c2-4d0e-aeba-5d2af2d6a4f0",
   "metadata": {},
   "outputs": [
    {
     "name": "stdout",
     "output_type": "stream",
     "text": [
      "Original List:\n",
      "Criss Angel\n",
      "David Blaine\n",
      "Derren Brown\n",
      "Shin Lim\n",
      "Harry Houdini\n",
      "David Copperfield\n",
      "\n",
      "Make Great List:\n",
      "The Great Criss Angel!\n",
      "The Great David Blaine!\n",
      "The Great Derren Brown!\n",
      "The Great Shin Lim!\n",
      "The Great Harry Houdini!\n",
      "The Great David Copperfield!\n"
     ]
    }
   ],
   "source": [
    "def show_magicians(magicians):\n",
    "    \"\"\" Print the name of each magician in the list. \"\"\"\n",
    "    for magician in magicians:\n",
    "        print(magician)\n",
    "\n",
    "def make_great(magicians):\n",
    "    for magician in magicians:\n",
    "        print(\"The Great \" + magician + \"!\")\n",
    "    \n",
    "magicians = ['Criss Angel', 'David Blaine', 'Derren Brown', 'Shin Lim', 'Harry Houdini', 'David Copperfield']\n",
    "\n",
    "print(\"Original List:\")\n",
    "show_magicians(magicians)\n",
    "\n",
    "copy_mag = magicians[:]\n",
    "print(\"\\nMake Great List:\")\n",
    "make_great(copy_mag)"
   ]
  },
  {
   "cell_type": "markdown",
   "id": "53ae29b9-0328-4797-a2c7-1983c372b539",
   "metadata": {},
   "source": [
    "### 8-12. Sandwiches:\n",
    "\n",
    "Write a function that accepts a list of items a person wants on a sandwich. The function should have one parameter that collects as many items as the function call provides, and it should print a summary of the sandwich that is being ordered. Call the function three times, using a differente number of arguments each time."
   ]
  },
  {
   "cell_type": "code",
   "execution_count": 17,
   "id": "395b5027-1cbd-4995-a69e-22b822bbe6c8",
   "metadata": {},
   "outputs": [
    {
     "name": "stdout",
     "output_type": "stream",
     "text": [
      "\n",
      "Making the sandwich with following items:\n",
      "- pepperoni\n",
      "- cheese\n",
      "- lettuce\n",
      "- tomatos\n",
      "- mustard\n",
      "- onion\n",
      "\n",
      "Making the sandwich with following items:\n",
      "- bacon\n",
      "- eggs\n",
      "- cheese\n",
      "\n",
      "Making the sandwich with following items:\n",
      "- beef\n",
      "- white cheese\n",
      "- bacon\n",
      "- eggs\n"
     ]
    }
   ],
   "source": [
    "def sandwich(*items):\n",
    "    \"\"\"Print a summary of the sandwich that is being ordered.\"\"\"\n",
    "    print(\"\\nMaking the sandwich with following items:\")\n",
    "    for item in items:\n",
    "        print(\"- \" + item)\n",
    "\n",
    "sandwich('pepperoni', 'cheese', 'lettuce', 'tomatos', 'mustard', 'onion')\n",
    "sandwich('bacon', 'eggs', 'cheese')\n",
    "sandwich('beef', 'white cheese', 'bacon', 'eggs')"
   ]
  },
  {
   "cell_type": "markdown",
   "id": "b9323c05-80a8-4a69-a797-d82e991517f3",
   "metadata": {},
   "source": [
    "### 8-13 User Profile:\n",
    "\n",
    "Start with a copy of user_profile.py from page 153. Build a profile of yourself by calling build_profile(), using your first and last names and three other key-value pairs that describe you."
   ]
  },
  {
   "cell_type": "code",
   "execution_count": 21,
   "id": "a37076cd-b244-4650-8544-5e7b4fd1ecb9",
   "metadata": {},
   "outputs": [
    {
     "name": "stdout",
     "output_type": "stream",
     "text": [
      "{'first_name': 'barbara', 'last_name': 'barletta', 'location': 'brasilia', 'field': 'physics, data science', 'languages': 'portuguese, english'}\n"
     ]
    }
   ],
   "source": [
    "# copy_profile.py\n",
    "\n",
    "def build_profile(first, last, **user_info):\n",
    "    \"\"\"Build a dictionary containing everything we know about a user.\"\"\"\n",
    "    profile = {}\n",
    "    profile['first_name'] = first\n",
    "    profile['last_name'] = last\n",
    "    for key, value in user_info.items():\n",
    "        profile[key] = value\n",
    "    return profile\n",
    "\n",
    "user_profile = build_profile('barbara', 'barletta',\n",
    "                             location='brasilia',\n",
    "                             field='physics, data science',\n",
    "                             languages = 'portuguese, english'\n",
    "                             \n",
    "                            )\n",
    "\n",
    "print(user_profile)"
   ]
  },
  {
   "cell_type": "markdown",
   "id": "e3da3ab3-b1df-4e03-b0bd-1c8f5dc4986d",
   "metadata": {},
   "source": [
    "### 8-14 Cars:\n",
    "Write a function that stores information about a car in a dictionary. The function should always receive a manufacturer and a model name. It should then accpet an arbitrary number of keyword arguments. Call the function with the required information and two other name-value pairs, such as a color or an optional feature. Your function should work for a call like this one:  \n",
    "\n",
    "`car = make_car('subaru', 'outback', color='blue', tow_package=True)`\n"
   ]
  },
  {
   "cell_type": "code",
   "execution_count": 2,
   "id": "012fbd69-08be-4cb4-80a1-3eec99170b9b",
   "metadata": {},
   "outputs": [
    {
     "name": "stdout",
     "output_type": "stream",
     "text": [
      "CAR 1#: {'manufacturer': 'subaru', 'model': 'outback', 'color': 'blue', 'tow_package': True}\n",
      "{'manufacturer': '', 'model': 'outback', 'color': 'blue', 'tow_package': True}\n"
     ]
    }
   ],
   "source": [
    "def make_car(manufacturer, model, **infos):\n",
    "    car = {}\n",
    "    car['manufacturer'] = manufacturer\n",
    "    car['model'] = model\n",
    "    for key, value in infos.items():\n",
    "        car[key] = value\n",
    "    return car\n",
    "\n",
    "car = make_car('subaru', 'outback', color='blue', tow_package=True)\n",
    "print(f\"CAR 1#: {car}\")\n",
    "\n",
    "car = make_car('', 'outback', color='blue', tow_package=True)\n",
    "print(car)"
   ]
  },
  {
   "cell_type": "code",
   "execution_count": null,
   "id": "ca03d540-1220-4505-b1ba-be2a2ba2ffea",
   "metadata": {},
   "outputs": [],
   "source": []
  }
 ],
 "metadata": {
  "kernelspec": {
   "display_name": "Python 3 (ipykernel)",
   "language": "python",
   "name": "python3"
  },
  "language_info": {
   "codemirror_mode": {
    "name": "ipython",
    "version": 3
   },
   "file_extension": ".py",
   "mimetype": "text/x-python",
   "name": "python",
   "nbconvert_exporter": "python",
   "pygments_lexer": "ipython3",
   "version": "3.12.4"
  }
 },
 "nbformat": 4,
 "nbformat_minor": 5
}
