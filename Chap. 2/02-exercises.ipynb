{
 "cells": [
  {
   "cell_type": "markdown",
   "id": "1c8decd7-0314-4f67-af30-2959f53d15e2",
   "metadata": {},
   "source": [
    "# Python Crash Course \n",
    "## Chapter 2 - Exercises"
   ]
  },
  {
   "cell_type": "markdown",
   "id": "ac540da2-2c21-4532-8659-31f0cff27fa4",
   "metadata": {},
   "source": [
    "### 2-1. Simple Message: \n",
    "Assign a message to a variable, and then print that message."
   ]
  },
  {
   "cell_type": "code",
   "execution_count": 2,
   "id": "8a64d63f-0484-43af-bc63-ec525e74b186",
   "metadata": {},
   "outputs": [
    {
     "name": "stdout",
     "output_type": "stream",
     "text": [
      "Hello World!\n"
     ]
    }
   ],
   "source": [
    "message = \"Hello World!\"\n",
    "print(message)"
   ]
  },
  {
   "cell_type": "markdown",
   "id": "3f3ffbef-dd7e-4aa6-bb84-9b9417597799",
   "metadata": {},
   "source": [
    "### 2-2. Simple Messages: \n",
    "Assign a message to a variable, and print that message. Then change the value of the variable to a new message, and print the new message."
   ]
  },
  {
   "cell_type": "code",
   "execution_count": 3,
   "id": "cc00cdf0-8f6a-4b17-ade3-ba6df6acfe37",
   "metadata": {},
   "outputs": [
    {
     "name": "stdout",
     "output_type": "stream",
     "text": [
      "Hello World!\n",
      "Hello, it's me!\n"
     ]
    }
   ],
   "source": [
    "message = \"Hello World!\"\n",
    "print(message)\n",
    "message = \"Hello, it's me!\"\n",
    "print(message)"
   ]
  },
  {
   "cell_type": "markdown",
   "id": "def3e77f-2610-4b37-859c-f7baed77790b",
   "metadata": {},
   "source": [
    "### 2-3. Personal Message: \n",
    "Use a variable to represent a person’s name, and print a message to that person. Your message should be simple, such as, “Hello Eric, would you like to learn some Python today?”"
   ]
  },
  {
   "cell_type": "code",
   "execution_count": 11,
   "id": "add6caae-3036-4b69-9681-ea14c8d23156",
   "metadata": {},
   "outputs": [
    {
     "name": "stdout",
     "output_type": "stream",
     "text": [
      "Gabe, do you want to go see Beetlejuice Beetlejuice with me at the movies this week? \n"
     ]
    }
   ],
   "source": [
    "name = \"Gabe\"\n",
    "print(f\"{name}, do you want to go see Beetlejuice Beetlejuice with me at the movies this week? \")"
   ]
  },
  {
   "cell_type": "markdown",
   "id": "f6625cc2-8be3-4b23-8144-c9a72c4504bc",
   "metadata": {},
   "source": [
    "### 2-4. Name Cases: \n",
    "Use a variable to represent a person’s name, and then print that person’s name in lowercase, uppercase, and title case."
   ]
  },
  {
   "cell_type": "code",
   "execution_count": 17,
   "id": "da715eff-f437-4f37-a4e8-e97006161e87",
   "metadata": {},
   "outputs": [
    {
     "name": "stdout",
     "output_type": "stream",
     "text": [
      "gabriel is in lowercase\n",
      "GABRIEL is in uppercase\n",
      "Gabriel is in title case\n"
     ]
    }
   ],
   "source": [
    "name = \"Gabriel\"\n",
    "print(f\"{name.lower()} is in lowercase\")\n",
    "print(f\"{name.upper()} is in uppercase\")\n",
    "print(f\"{name.capitalize()} is in title case\")"
   ]
  },
  {
   "cell_type": "markdown",
   "id": "267bb988-4e3c-4d99-825b-267631828038",
   "metadata": {},
   "source": [
    "### 2-5. Famous Quote: \n",
    "Find a quote from a famous person you admire. Print the quote and the name of its author. Your output should look something like the following, including the quotation marks: \n",
    "> Albert Einstein once said, “A person who never made a mistake never tried anything new.”"
   ]
  },
  {
   "cell_type": "code",
   "execution_count": 19,
   "id": "36125539-8444-4af0-a0cf-c1242c61dec4",
   "metadata": {},
   "outputs": [
    {
     "name": "stdout",
     "output_type": "stream",
     "text": [
      "Yahweh said, \"Do not fear: I am with you; do not be anxious: I am your God. I will strengthen you, I will help you, I will uphold you with my victorious right hand.\"\n"
     ]
    }
   ],
   "source": [
    "quote = \"Do not fear: I am with you; do not be anxious: I am your God. I will strengthen you, I will help you, I will uphold you with my victorious right hand.\"\n",
    "print(f'Yahweh said, \"{quote}\"')"
   ]
  },
  {
   "cell_type": "markdown",
   "id": "ccbfb0e1-755f-435e-8c9a-1640cd883916",
   "metadata": {},
   "source": [
    "### 2-6. Famous Quote 2: \n",
    "Repeat Exercise 2-5, but this time, represent the famous person’s name using a variable called famous_person. Then compose your message and represent it with a new variable called message. Print your message."
   ]
  },
  {
   "cell_type": "code",
   "execution_count": 24,
   "id": "c649624b-037d-49be-922a-527141e1f5c1",
   "metadata": {},
   "outputs": [
    {
     "name": "stdout",
     "output_type": "stream",
     "text": [
      "\"Do not fear: I am with you; do not be anxious: I am your God. I will strengthen you, I will help you, I will uphold you with my victorious right hand.\" - Yahweh.\n"
     ]
    }
   ],
   "source": [
    "quote = \"Do not fear: I am with you; do not be anxious: I am your God. I will strengthen you, I will help you, I will uphold you with my victorious right hand.\"\n",
    "famous_person = \"Yahweh\"\n",
    "message = '\"'+ quote +'\" ' + '- ' + famous_person + '.'\n",
    "print(message)"
   ]
  },
  {
   "cell_type": "markdown",
   "id": "a2a8fb87-d031-4ca8-8912-807265505cd1",
   "metadata": {},
   "source": [
    "### 2-7. Stripping Names: \n",
    "Use a variable to represent a person’s name, and include some whitespace characters at the beginning and end of the name. Make sure you use each character combination, \"\\t\" and \"\\n\", at least once. Print the name once, so the whitespace around the name is displayed. Then print the name using each of the three stripping functions, lstrip(), rstrip(), and strip()."
   ]
  },
  {
   "cell_type": "code",
   "execution_count": 28,
   "id": "ff1f6c91-eb49-49c7-8636-bcdfba520123",
   "metadata": {},
   "outputs": [
    {
     "name": "stdout",
     "output_type": "stream",
     "text": [
      "  Gabriel        \n",
      "Using lstri() to take off the whitespaces in the left Gabriel        \n",
      "Using rstrip() to take off the whitespaces in the right   Gabriel\n",
      "Using strip() to take off all the whitespaces Gabriel\n"
     ]
    }
   ],
   "source": [
    "name = \"  Gabriel        \"\n",
    "print(name)\n",
    "print(f\"Using lstri() to take off the whitespaces in the left {name.lstrip()}\")\n",
    "print(f\"Using rstrip() to take off the whitespaces in the right {name.rstrip()}\")\n",
    "print(f\"Using strip() to take off all the whitespaces {name.strip()}\")\n"
   ]
  },
  {
   "cell_type": "markdown",
   "id": "d55a26cd-9384-4c14-a569-8bec2ba0b71d",
   "metadata": {},
   "source": [
    "### 2-8. File Extensions: \n",
    "Python has a removesuffix() method that works exactly  like removeprefix(). Assign the value 'python_notes.txt' to a variable called filename. Then use the removesuffix() method to display the filename without the file extension, like some file browsers do."
   ]
  },
  {
   "cell_type": "code",
   "execution_count": 31,
   "id": "24f8e4df-6dc7-4401-8fd0-c685aaec38d5",
   "metadata": {},
   "outputs": [
    {
     "name": "stdout",
     "output_type": "stream",
     "text": [
      "python_notes.txt\n",
      "Displaying the filename without the file extension: python_notes\n"
     ]
    }
   ],
   "source": [
    "filename = 'python_notes.txt'\n",
    "print(filename)\n",
    "print(f\"Displaying the filename without the file extension: {filename.removesuffix('.txt')}\")"
   ]
  },
  {
   "cell_type": "markdown",
   "id": "9008e539-2cec-454f-876c-899af46bbf3b",
   "metadata": {},
   "source": [
    "### 2-9. Number Eight: \n",
    "Write addition, subtraction, multiplication, and division operations that each result in the number 8. Be sure to enclose your operations in print() calls to see the results. You should create four lines that look like this: print(5+3).\n",
    "Your output should be four lines, with the number 8 appearing once on each line."
   ]
  },
  {
   "cell_type": "code",
   "execution_count": 33,
   "id": "daff44b3-4b2c-42c4-b460-2a0290344ba7",
   "metadata": {},
   "outputs": [
    {
     "name": "stdout",
     "output_type": "stream",
     "text": [
      "8\n",
      "8\n",
      "8\n",
      "8\n"
     ]
    }
   ],
   "source": [
    "## Addition\n",
    "print(5+3)\n",
    "## Subtraction\n",
    "print(14-6)\n",
    "## Multiplication\n",
    "print(2*4)\n",
    "## Division\n",
    "print(int(64/8))"
   ]
  },
  {
   "cell_type": "markdown",
   "id": "82443b45-c944-4625-a6f4-8ba7d11929aa",
   "metadata": {},
   "source": [
    "### 2-10. Favorite Number: \n",
    "Use a variable to represent your favorite number. Then, using that variable, create a message that reveals your favorite number. Print that message."
   ]
  },
  {
   "cell_type": "code",
   "execution_count": 36,
   "id": "9faf9af1-ec17-4aaf-bdb3-4ada4b721ae8",
   "metadata": {},
   "outputs": [
    {
     "name": "stdout",
     "output_type": "stream",
     "text": [
      "My favorite number is 7\n"
     ]
    }
   ],
   "source": [
    "fav_numb = 7; ## or fav_numb = \"7\"\n",
    "message = \"My favorite number is \"\n",
    "print(message + str(fav_numb))"
   ]
  },
  {
   "cell_type": "markdown",
   "id": "6404b0af-9d77-4be4-8319-b2345919e251",
   "metadata": {},
   "source": [
    "### 2-11. Adding Comments: \n",
    "Choose two of the programs you’ve written, and add at least one comment to each. If you don’t have anything specific to write because your programs are too simple at this point, just add your name and the current date at the top of each program file. Then write one sentence describing what the program does."
   ]
  },
  {
   "cell_type": "markdown",
   "id": "82aff342-bf42-4f18-aaf6-91f029d06170",
   "metadata": {},
   "source": [
    "### 2-12. Zen of Python: \n",
    "Enter import 'this' into a Python terminal session and skim through the additional principles."
   ]
  },
  {
   "cell_type": "code",
   "execution_count": 38,
   "id": "bfe2ace3-98c3-4e71-a769-35cde9593616",
   "metadata": {},
   "outputs": [
    {
     "name": "stdout",
     "output_type": "stream",
     "text": [
      "The Zen of Python, by Tim Peters\n",
      "\n",
      "Beautiful is better than ugly.\n",
      "Explicit is better than implicit.\n",
      "Simple is better than complex.\n",
      "Complex is better than complicated.\n",
      "Flat is better than nested.\n",
      "Sparse is better than dense.\n",
      "Readability counts.\n",
      "Special cases aren't special enough to break the rules.\n",
      "Although practicality beats purity.\n",
      "Errors should never pass silently.\n",
      "Unless explicitly silenced.\n",
      "In the face of ambiguity, refuse the temptation to guess.\n",
      "There should be one-- and preferably only one --obvious way to do it.\n",
      "Although that way may not be obvious at first unless you're Dutch.\n",
      "Now is better than never.\n",
      "Although never is often better than *right* now.\n",
      "If the implementation is hard to explain, it's a bad idea.\n",
      "If the implementation is easy to explain, it may be a good idea.\n",
      "Namespaces are one honking great idea -- let's do more of those!\n"
     ]
    }
   ],
   "source": [
    "import this"
   ]
  }
 ],
 "metadata": {
  "kernelspec": {
   "display_name": "Python 3 (ipykernel)",
   "language": "python",
   "name": "python3"
  },
  "language_info": {
   "codemirror_mode": {
    "name": "ipython",
    "version": 3
   },
   "file_extension": ".py",
   "mimetype": "text/x-python",
   "name": "python",
   "nbconvert_exporter": "python",
   "pygments_lexer": "ipython3",
   "version": "3.12.4"
  }
 },
 "nbformat": 4,
 "nbformat_minor": 5
}
